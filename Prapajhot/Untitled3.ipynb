{
 "cells": [
  {
   "cell_type": "code",
   "execution_count": 1,
   "id": "bc4a27fc",
   "metadata": {},
   "outputs": [],
   "source": [
    "import numpy as np"
   ]
  },
  {
   "cell_type": "code",
   "execution_count": 2,
   "id": "4d868662",
   "metadata": {},
   "outputs": [],
   "source": [
    "height = np.round(np.random.normal(1.75,0.2,5000),2)\n",
    "weight = np.round(np.random.normal(60.32,15,5000),2)"
   ]
  },
  {
   "cell_type": "code",
   "execution_count": 3,
   "id": "7131b95c",
   "metadata": {},
   "outputs": [
    {
     "data": {
      "text/plain": [
       "array([1.76, 1.73, 1.59, ..., 1.77, 1.85, 1.84])"
      ]
     },
     "execution_count": 3,
     "metadata": {},
     "output_type": "execute_result"
    }
   ],
   "source": [
    "height"
   ]
  },
  {
   "cell_type": "code",
   "execution_count": 4,
   "id": "154d9cea",
   "metadata": {},
   "outputs": [
    {
     "data": {
      "text/plain": [
       "array([57.49, 67.57, 47.72, ..., 62.16, 66.27, 54.31])"
      ]
     },
     "execution_count": 4,
     "metadata": {},
     "output_type": "execute_result"
    }
   ],
   "source": [
    "weight"
   ]
  },
  {
   "cell_type": "code",
   "execution_count": 5,
   "id": "ae513cff",
   "metadata": {},
   "outputs": [
    {
     "data": {
      "text/plain": [
       "numpy.ndarray"
      ]
     },
     "execution_count": 5,
     "metadata": {},
     "output_type": "execute_result"
    }
   ],
   "source": [
    "type(height)"
   ]
  },
  {
   "cell_type": "code",
   "execution_count": 6,
   "id": "7e18aab4",
   "metadata": {},
   "outputs": [
    {
     "data": {
      "text/plain": [
       "(5000,)"
      ]
     },
     "execution_count": 6,
     "metadata": {},
     "output_type": "execute_result"
    }
   ],
   "source": [
    "height.shape"
   ]
  },
  {
   "cell_type": "code",
   "execution_count": 8,
   "id": "2fbd555c",
   "metadata": {},
   "outputs": [],
   "source": [
    "all = np.column_stack((height,weight))"
   ]
  },
  {
   "cell_type": "code",
   "execution_count": 9,
   "id": "2fb38cca",
   "metadata": {},
   "outputs": [
    {
     "data": {
      "text/plain": [
       "array([[ 1.76, 57.49],\n",
       "       [ 1.73, 67.57],\n",
       "       [ 1.59, 47.72],\n",
       "       ...,\n",
       "       [ 1.77, 62.16],\n",
       "       [ 1.85, 66.27],\n",
       "       [ 1.84, 54.31]])"
      ]
     },
     "execution_count": 9,
     "metadata": {},
     "output_type": "execute_result"
    }
   ],
   "source": [
    "all"
   ]
  },
  {
   "cell_type": "code",
   "execution_count": 11,
   "id": "d349ff89",
   "metadata": {},
   "outputs": [
    {
     "data": {
      "text/plain": [
       "1.747196"
      ]
     },
     "execution_count": 11,
     "metadata": {},
     "output_type": "execute_result"
    }
   ],
   "source": [
    "np.mean(all[:,0])"
   ]
  },
  {
   "cell_type": "code",
   "execution_count": 12,
   "id": "6d258a73",
   "metadata": {},
   "outputs": [
    {
     "data": {
      "text/plain": [
       "60.33528199999999"
      ]
     },
     "execution_count": 12,
     "metadata": {},
     "output_type": "execute_result"
    }
   ],
   "source": [
    "np.mean(all[0:,1])"
   ]
  },
  {
   "cell_type": "code",
   "execution_count": null,
   "id": "0dce5974",
   "metadata": {},
   "outputs": [],
   "source": []
  }
 ],
 "metadata": {
  "kernelspec": {
   "display_name": "Python 3",
   "language": "python",
   "name": "python3"
  },
  "language_info": {
   "codemirror_mode": {
    "name": "ipython",
    "version": 3
   },
   "file_extension": ".py",
   "mimetype": "text/x-python",
   "name": "python",
   "nbconvert_exporter": "python",
   "pygments_lexer": "ipython3",
   "version": "3.8.11"
  }
 },
 "nbformat": 4,
 "nbformat_minor": 5
}
