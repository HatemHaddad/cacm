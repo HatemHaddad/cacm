{
 "cells": [
  {
   "cell_type": "code",
   "execution_count": 1,
   "id": "5940d00e",
   "metadata": {},
   "outputs": [],
   "source": [
    "import pandas as pd\n",
    "import numpy as np\n",
    "import pyodbc\n",
    "import seaborn as sns\n",
    "import matplotlib.pyplot as plt\n",
    "from sqlalchemy import create_engine"
   ]
  },
  {
   "cell_type": "code",
   "execution_count": 2,
   "id": "c53df427",
   "metadata": {},
   "outputs": [],
   "source": [
    "svr_name = 'KU1ICDDWV011.kunet.ae'\n",
    "db_name_read = 'CACM'\n",
    "db_name_write = 'CACMP'\n",
    "u_name = 'cacm_user'\n",
    "u_pass = 'Welcome#123'"
   ]
  },
  {
   "cell_type": "code",
   "execution_count": 3,
   "id": "2f189804",
   "metadata": {},
   "outputs": [],
   "source": [
    "eng_read = create_engine(\"mssql+pyodbc://\"+u_name+\":\"+u_pass+\"@\"+svr_name+\"/\"+db_name_read+\"?driver=ODBC+Driver+17+for+SQL+Server\")\n",
    "eng_write = create_engine(\"mssql+pyodbc://\"+u_name+\":\"+u_pass+\"@\"+svr_name+\"/\"+db_name_write+\"?driver=ODBC+Driver+17+for+SQL+Server\")"
   ]
  },
  {
   "cell_type": "markdown",
   "id": "ea8bfd51",
   "metadata": {},
   "source": [
    "**Extract Employee Master Information**"
   ]
  },
  {
   "cell_type": "code",
   "execution_count": 4,
   "id": "da8b5aed",
   "metadata": {},
   "outputs": [],
   "source": [
    "query_emp_details = \"SELECT * FROM dbo.KU_EmployeeDetails_VIEW\""
   ]
  },
  {
   "cell_type": "code",
   "execution_count": 5,
   "id": "c5b656a6",
   "metadata": {},
   "outputs": [],
   "source": [
    "df_employee_master = pd.read_sql(query_emp_details, eng_read)"
   ]
  },
  {
   "cell_type": "code",
   "execution_count": 6,
   "id": "6dec7f78",
   "metadata": {},
   "outputs": [],
   "source": [
    "df_employee_master.to_excel(\"./data/df_employee_master_P.xlsx\")"
   ]
  },
  {
   "cell_type": "markdown",
   "id": "db3c1c08",
   "metadata": {},
   "source": [
    "**Extract Employee Bank Details**"
   ]
  },
  {
   "cell_type": "code",
   "execution_count": 8,
   "id": "ddc05b16",
   "metadata": {},
   "outputs": [],
   "source": [
    "query_emp_emp_bank_details = \"SELECT * FROM dbo.KU_EmployeesBankDetails_View\""
   ]
  },
  {
   "cell_type": "code",
   "execution_count": 9,
   "id": "c16369e4",
   "metadata": {},
   "outputs": [],
   "source": [
    "df_employee_bank_details = pd.read_sql(query_emp_emp_bank_details, eng_read)"
   ]
  },
  {
   "cell_type": "code",
   "execution_count": 10,
   "id": "8e744028",
   "metadata": {},
   "outputs": [],
   "source": [
    "df_employee_bank_details.to_excel(\"./data/df_employee_bank_details_P.xlsx\")"
   ]
  },
  {
   "cell_type": "code",
   "execution_count": null,
   "id": "d2a1fc3b",
   "metadata": {},
   "outputs": [],
   "source": []
  }
 ],
 "metadata": {
  "kernelspec": {
   "display_name": "Python 3",
   "language": "python",
   "name": "python3"
  },
  "language_info": {
   "codemirror_mode": {
    "name": "ipython",
    "version": 3
   },
   "file_extension": ".py",
   "mimetype": "text/x-python",
   "name": "python",
   "nbconvert_exporter": "python",
   "pygments_lexer": "ipython3",
   "version": "3.8.11"
  }
 },
 "nbformat": 4,
 "nbformat_minor": 5
}
