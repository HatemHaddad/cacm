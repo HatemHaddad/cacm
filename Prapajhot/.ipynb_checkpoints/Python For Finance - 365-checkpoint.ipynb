{
 "cells": [
  {
   "cell_type": "code",
   "execution_count": 66,
   "id": "ffe96d3d",
   "metadata": {},
   "outputs": [],
   "source": [
    "import random\n",
    "import numpy as np\n",
    "import pandas as pd\n",
    "import os\n",
    "\n",
    "import yfinance as yf\n",
    "\n",
    "import quandl\n",
    "\n",
    "from pandas_datareader import data as wb\n",
    "\n",
    "import matplotlib.pyplot as plt"
   ]
  },
  {
   "cell_type": "markdown",
   "id": "ca02a3ca",
   "metadata": {},
   "source": [
    "Using os to get the current working directory"
   ]
  },
  {
   "cell_type": "code",
   "execution_count": 39,
   "id": "b03655b4",
   "metadata": {},
   "outputs": [
    {
     "data": {
      "text/plain": [
       "'C:\\\\Users\\\\ku1016\\\\Desktop\\\\CACM\\\\Prapajhot'"
      ]
     },
     "execution_count": 39,
     "metadata": {},
     "output_type": "execute_result"
    }
   ],
   "source": [
    "os.getcwd()"
   ]
  },
  {
   "cell_type": "code",
   "execution_count": 6,
   "id": "ce144e5d",
   "metadata": {},
   "outputs": [],
   "source": [
    "prob = random.random()"
   ]
  },
  {
   "cell_type": "code",
   "execution_count": 7,
   "id": "4c051b3c",
   "metadata": {},
   "outputs": [
    {
     "name": "stdout",
     "output_type": "stream",
     "text": [
      "0.26980886290099826\n"
     ]
    }
   ],
   "source": [
    "print(prob)"
   ]
  },
  {
   "cell_type": "code",
   "execution_count": 11,
   "id": "f8fb879b",
   "metadata": {},
   "outputs": [],
   "source": [
    "number = random.randint(1,6)"
   ]
  },
  {
   "cell_type": "code",
   "execution_count": 12,
   "id": "0fa6c6e4",
   "metadata": {},
   "outputs": [
    {
     "name": "stdout",
     "output_type": "stream",
     "text": [
      "2\n"
     ]
    }
   ],
   "source": [
    "print(number)"
   ]
  },
  {
   "cell_type": "markdown",
   "id": "09d9ab2a",
   "metadata": {},
   "source": [
    "Generating random numbers using numpy and random"
   ]
  },
  {
   "cell_type": "code",
   "execution_count": 15,
   "id": "41da081d",
   "metadata": {},
   "outputs": [],
   "source": [
    "num = np.random.randint(1,49,(2,5))"
   ]
  },
  {
   "cell_type": "code",
   "execution_count": 16,
   "id": "9697b2eb",
   "metadata": {},
   "outputs": [
    {
     "name": "stdout",
     "output_type": "stream",
     "text": [
      "[[35 43 19 33  5]\n",
      " [38 12  4 48 40]]\n"
     ]
    }
   ],
   "source": [
    "print(num)"
   ]
  },
  {
   "cell_type": "markdown",
   "id": "9260257f",
   "metadata": {},
   "source": [
    "Generate a series with random numbers"
   ]
  },
  {
   "cell_type": "code",
   "execution_count": 18,
   "id": "0ebca450",
   "metadata": {},
   "outputs": [],
   "source": [
    "ser = pd.Series(np.random.random(5),name = \"Column 01\")"
   ]
  },
  {
   "cell_type": "code",
   "execution_count": 19,
   "id": "3e42e755",
   "metadata": {},
   "outputs": [
    {
     "name": "stdout",
     "output_type": "stream",
     "text": [
      "0    0.074215\n",
      "1    0.849570\n",
      "2    0.634567\n",
      "3    0.776646\n",
      "4    0.378804\n",
      "Name: Column 01, dtype: float64\n"
     ]
    }
   ],
   "source": [
    "print(ser)"
   ]
  },
  {
   "cell_type": "code",
   "execution_count": 20,
   "id": "32bdf527",
   "metadata": {},
   "outputs": [
    {
     "data": {
      "text/plain": [
       "0.6345671992018213"
      ]
     },
     "execution_count": 20,
     "metadata": {},
     "output_type": "execute_result"
    }
   ],
   "source": [
    "ser[2]"
   ]
  },
  {
   "cell_type": "code",
   "execution_count": 33,
   "id": "118e1dc2",
   "metadata": {},
   "outputs": [
    {
     "name": "stdout",
     "output_type": "stream",
     "text": [
      "[*********************100%***********************]  1 of 1 completed\n"
     ]
    }
   ],
   "source": [
    "PG = yf.download('PG',start='1995-1-1')"
   ]
  },
  {
   "cell_type": "code",
   "execution_count": 34,
   "id": "6d178fef",
   "metadata": {},
   "outputs": [
    {
     "data": {
      "text/html": [
       "<div>\n",
       "<style scoped>\n",
       "    .dataframe tbody tr th:only-of-type {\n",
       "        vertical-align: middle;\n",
       "    }\n",
       "\n",
       "    .dataframe tbody tr th {\n",
       "        vertical-align: top;\n",
       "    }\n",
       "\n",
       "    .dataframe thead th {\n",
       "        text-align: right;\n",
       "    }\n",
       "</style>\n",
       "<table border=\"1\" class=\"dataframe\">\n",
       "  <thead>\n",
       "    <tr style=\"text-align: right;\">\n",
       "      <th></th>\n",
       "      <th>Open</th>\n",
       "      <th>High</th>\n",
       "      <th>Low</th>\n",
       "      <th>Close</th>\n",
       "      <th>Adj Close</th>\n",
       "      <th>Volume</th>\n",
       "    </tr>\n",
       "    <tr>\n",
       "      <th>Date</th>\n",
       "      <th></th>\n",
       "      <th></th>\n",
       "      <th></th>\n",
       "      <th></th>\n",
       "      <th></th>\n",
       "      <th></th>\n",
       "    </tr>\n",
       "  </thead>\n",
       "  <tbody>\n",
       "    <tr>\n",
       "      <th>1995-01-03</th>\n",
       "      <td>15.468750</td>\n",
       "      <td>15.625000</td>\n",
       "      <td>15.437500</td>\n",
       "      <td>15.593750</td>\n",
       "      <td>7.820029</td>\n",
       "      <td>3318400</td>\n",
       "    </tr>\n",
       "    <tr>\n",
       "      <th>1995-01-04</th>\n",
       "      <td>15.531250</td>\n",
       "      <td>15.656250</td>\n",
       "      <td>15.312500</td>\n",
       "      <td>15.468750</td>\n",
       "      <td>7.757338</td>\n",
       "      <td>2218800</td>\n",
       "    </tr>\n",
       "    <tr>\n",
       "      <th>1995-01-05</th>\n",
       "      <td>15.375000</td>\n",
       "      <td>15.437500</td>\n",
       "      <td>15.218750</td>\n",
       "      <td>15.250000</td>\n",
       "      <td>7.647637</td>\n",
       "      <td>2319600</td>\n",
       "    </tr>\n",
       "    <tr>\n",
       "      <th>1995-01-06</th>\n",
       "      <td>15.156250</td>\n",
       "      <td>15.406250</td>\n",
       "      <td>15.156250</td>\n",
       "      <td>15.281250</td>\n",
       "      <td>7.663309</td>\n",
       "      <td>3438000</td>\n",
       "    </tr>\n",
       "    <tr>\n",
       "      <th>1995-01-09</th>\n",
       "      <td>15.343750</td>\n",
       "      <td>15.406250</td>\n",
       "      <td>15.187500</td>\n",
       "      <td>15.218750</td>\n",
       "      <td>7.631965</td>\n",
       "      <td>1795200</td>\n",
       "    </tr>\n",
       "    <tr>\n",
       "      <th>...</th>\n",
       "      <td>...</td>\n",
       "      <td>...</td>\n",
       "      <td>...</td>\n",
       "      <td>...</td>\n",
       "      <td>...</td>\n",
       "      <td>...</td>\n",
       "    </tr>\n",
       "    <tr>\n",
       "      <th>2022-12-16</th>\n",
       "      <td>150.360001</td>\n",
       "      <td>151.070007</td>\n",
       "      <td>149.020004</td>\n",
       "      <td>150.440002</td>\n",
       "      <td>150.440002</td>\n",
       "      <td>19963900</td>\n",
       "    </tr>\n",
       "    <tr>\n",
       "      <th>2022-12-19</th>\n",
       "      <td>150.220001</td>\n",
       "      <td>151.380005</td>\n",
       "      <td>149.240005</td>\n",
       "      <td>150.399994</td>\n",
       "      <td>150.399994</td>\n",
       "      <td>5881800</td>\n",
       "    </tr>\n",
       "    <tr>\n",
       "      <th>2022-12-20</th>\n",
       "      <td>149.320007</td>\n",
       "      <td>150.899994</td>\n",
       "      <td>149.270004</td>\n",
       "      <td>150.460007</td>\n",
       "      <td>150.460007</td>\n",
       "      <td>5646100</td>\n",
       "    </tr>\n",
       "    <tr>\n",
       "      <th>2022-12-21</th>\n",
       "      <td>150.750000</td>\n",
       "      <td>152.630005</td>\n",
       "      <td>150.720001</td>\n",
       "      <td>151.839996</td>\n",
       "      <td>151.839996</td>\n",
       "      <td>5024700</td>\n",
       "    </tr>\n",
       "    <tr>\n",
       "      <th>2022-12-22</th>\n",
       "      <td>151.130005</td>\n",
       "      <td>152.410004</td>\n",
       "      <td>150.880005</td>\n",
       "      <td>152.190002</td>\n",
       "      <td>152.190002</td>\n",
       "      <td>5904900</td>\n",
       "    </tr>\n",
       "  </tbody>\n",
       "</table>\n",
       "<p>7045 rows × 6 columns</p>\n",
       "</div>"
      ],
      "text/plain": [
       "                  Open        High         Low       Close   Adj Close  \\\n",
       "Date                                                                     \n",
       "1995-01-03   15.468750   15.625000   15.437500   15.593750    7.820029   \n",
       "1995-01-04   15.531250   15.656250   15.312500   15.468750    7.757338   \n",
       "1995-01-05   15.375000   15.437500   15.218750   15.250000    7.647637   \n",
       "1995-01-06   15.156250   15.406250   15.156250   15.281250    7.663309   \n",
       "1995-01-09   15.343750   15.406250   15.187500   15.218750    7.631965   \n",
       "...                ...         ...         ...         ...         ...   \n",
       "2022-12-16  150.360001  151.070007  149.020004  150.440002  150.440002   \n",
       "2022-12-19  150.220001  151.380005  149.240005  150.399994  150.399994   \n",
       "2022-12-20  149.320007  150.899994  149.270004  150.460007  150.460007   \n",
       "2022-12-21  150.750000  152.630005  150.720001  151.839996  151.839996   \n",
       "2022-12-22  151.130005  152.410004  150.880005  152.190002  152.190002   \n",
       "\n",
       "              Volume  \n",
       "Date                  \n",
       "1995-01-03   3318400  \n",
       "1995-01-04   2218800  \n",
       "1995-01-05   2319600  \n",
       "1995-01-06   3438000  \n",
       "1995-01-09   1795200  \n",
       "...              ...  \n",
       "2022-12-16  19963900  \n",
       "2022-12-19   5881800  \n",
       "2022-12-20   5646100  \n",
       "2022-12-21   5024700  \n",
       "2022-12-22   5904900  \n",
       "\n",
       "[7045 rows x 6 columns]"
      ]
     },
     "execution_count": 34,
     "metadata": {},
     "output_type": "execute_result"
    }
   ],
   "source": [
    "PG"
   ]
  },
  {
   "cell_type": "code",
   "execution_count": 35,
   "id": "653215bb",
   "metadata": {},
   "outputs": [
    {
     "name": "stdout",
     "output_type": "stream",
     "text": [
      "<class 'pandas.core.frame.DataFrame'>\n",
      "DatetimeIndex: 7045 entries, 1995-01-03 to 2022-12-22\n",
      "Data columns (total 6 columns):\n",
      " #   Column     Non-Null Count  Dtype  \n",
      "---  ------     --------------  -----  \n",
      " 0   Open       7045 non-null   float64\n",
      " 1   High       7045 non-null   float64\n",
      " 2   Low        7045 non-null   float64\n",
      " 3   Close      7045 non-null   float64\n",
      " 4   Adj Close  7045 non-null   float64\n",
      " 5   Volume     7045 non-null   int64  \n",
      "dtypes: float64(5), int64(1)\n",
      "memory usage: 385.3 KB\n"
     ]
    }
   ],
   "source": [
    "PG.info()"
   ]
  },
  {
   "cell_type": "code",
   "execution_count": 36,
   "id": "63832381",
   "metadata": {},
   "outputs": [
    {
     "data": {
      "text/html": [
       "<div>\n",
       "<style scoped>\n",
       "    .dataframe tbody tr th:only-of-type {\n",
       "        vertical-align: middle;\n",
       "    }\n",
       "\n",
       "    .dataframe tbody tr th {\n",
       "        vertical-align: top;\n",
       "    }\n",
       "\n",
       "    .dataframe thead th {\n",
       "        text-align: right;\n",
       "    }\n",
       "</style>\n",
       "<table border=\"1\" class=\"dataframe\">\n",
       "  <thead>\n",
       "    <tr style=\"text-align: right;\">\n",
       "      <th></th>\n",
       "      <th>Open</th>\n",
       "      <th>High</th>\n",
       "      <th>Low</th>\n",
       "      <th>Close</th>\n",
       "      <th>Adj Close</th>\n",
       "      <th>Volume</th>\n",
       "    </tr>\n",
       "    <tr>\n",
       "      <th>Date</th>\n",
       "      <th></th>\n",
       "      <th></th>\n",
       "      <th></th>\n",
       "      <th></th>\n",
       "      <th></th>\n",
       "      <th></th>\n",
       "    </tr>\n",
       "  </thead>\n",
       "  <tbody>\n",
       "    <tr>\n",
       "      <th>1995-01-03</th>\n",
       "      <td>15.46875</td>\n",
       "      <td>15.62500</td>\n",
       "      <td>15.43750</td>\n",
       "      <td>15.59375</td>\n",
       "      <td>7.820029</td>\n",
       "      <td>3318400</td>\n",
       "    </tr>\n",
       "    <tr>\n",
       "      <th>1995-01-04</th>\n",
       "      <td>15.53125</td>\n",
       "      <td>15.65625</td>\n",
       "      <td>15.31250</td>\n",
       "      <td>15.46875</td>\n",
       "      <td>7.757338</td>\n",
       "      <td>2218800</td>\n",
       "    </tr>\n",
       "    <tr>\n",
       "      <th>1995-01-05</th>\n",
       "      <td>15.37500</td>\n",
       "      <td>15.43750</td>\n",
       "      <td>15.21875</td>\n",
       "      <td>15.25000</td>\n",
       "      <td>7.647637</td>\n",
       "      <td>2319600</td>\n",
       "    </tr>\n",
       "    <tr>\n",
       "      <th>1995-01-06</th>\n",
       "      <td>15.15625</td>\n",
       "      <td>15.40625</td>\n",
       "      <td>15.15625</td>\n",
       "      <td>15.28125</td>\n",
       "      <td>7.663309</td>\n",
       "      <td>3438000</td>\n",
       "    </tr>\n",
       "    <tr>\n",
       "      <th>1995-01-09</th>\n",
       "      <td>15.34375</td>\n",
       "      <td>15.40625</td>\n",
       "      <td>15.18750</td>\n",
       "      <td>15.21875</td>\n",
       "      <td>7.631965</td>\n",
       "      <td>1795200</td>\n",
       "    </tr>\n",
       "  </tbody>\n",
       "</table>\n",
       "</div>"
      ],
      "text/plain": [
       "                Open      High       Low     Close  Adj Close   Volume\n",
       "Date                                                                  \n",
       "1995-01-03  15.46875  15.62500  15.43750  15.59375   7.820029  3318400\n",
       "1995-01-04  15.53125  15.65625  15.31250  15.46875   7.757338  2218800\n",
       "1995-01-05  15.37500  15.43750  15.21875  15.25000   7.647637  2319600\n",
       "1995-01-06  15.15625  15.40625  15.15625  15.28125   7.663309  3438000\n",
       "1995-01-09  15.34375  15.40625  15.18750  15.21875   7.631965  1795200"
      ]
     },
     "execution_count": 36,
     "metadata": {},
     "output_type": "execute_result"
    }
   ],
   "source": [
    "PG.head()"
   ]
  },
  {
   "cell_type": "code",
   "execution_count": 37,
   "id": "3082fe6d",
   "metadata": {},
   "outputs": [
    {
     "data": {
      "text/html": [
       "<div>\n",
       "<style scoped>\n",
       "    .dataframe tbody tr th:only-of-type {\n",
       "        vertical-align: middle;\n",
       "    }\n",
       "\n",
       "    .dataframe tbody tr th {\n",
       "        vertical-align: top;\n",
       "    }\n",
       "\n",
       "    .dataframe thead th {\n",
       "        text-align: right;\n",
       "    }\n",
       "</style>\n",
       "<table border=\"1\" class=\"dataframe\">\n",
       "  <thead>\n",
       "    <tr style=\"text-align: right;\">\n",
       "      <th></th>\n",
       "      <th>Open</th>\n",
       "      <th>High</th>\n",
       "      <th>Low</th>\n",
       "      <th>Close</th>\n",
       "      <th>Adj Close</th>\n",
       "      <th>Volume</th>\n",
       "    </tr>\n",
       "    <tr>\n",
       "      <th>Date</th>\n",
       "      <th></th>\n",
       "      <th></th>\n",
       "      <th></th>\n",
       "      <th></th>\n",
       "      <th></th>\n",
       "      <th></th>\n",
       "    </tr>\n",
       "  </thead>\n",
       "  <tbody>\n",
       "    <tr>\n",
       "      <th>2022-12-16</th>\n",
       "      <td>150.360001</td>\n",
       "      <td>151.070007</td>\n",
       "      <td>149.020004</td>\n",
       "      <td>150.440002</td>\n",
       "      <td>150.440002</td>\n",
       "      <td>19963900</td>\n",
       "    </tr>\n",
       "    <tr>\n",
       "      <th>2022-12-19</th>\n",
       "      <td>150.220001</td>\n",
       "      <td>151.380005</td>\n",
       "      <td>149.240005</td>\n",
       "      <td>150.399994</td>\n",
       "      <td>150.399994</td>\n",
       "      <td>5881800</td>\n",
       "    </tr>\n",
       "    <tr>\n",
       "      <th>2022-12-20</th>\n",
       "      <td>149.320007</td>\n",
       "      <td>150.899994</td>\n",
       "      <td>149.270004</td>\n",
       "      <td>150.460007</td>\n",
       "      <td>150.460007</td>\n",
       "      <td>5646100</td>\n",
       "    </tr>\n",
       "    <tr>\n",
       "      <th>2022-12-21</th>\n",
       "      <td>150.750000</td>\n",
       "      <td>152.630005</td>\n",
       "      <td>150.720001</td>\n",
       "      <td>151.839996</td>\n",
       "      <td>151.839996</td>\n",
       "      <td>5024700</td>\n",
       "    </tr>\n",
       "    <tr>\n",
       "      <th>2022-12-22</th>\n",
       "      <td>151.130005</td>\n",
       "      <td>152.410004</td>\n",
       "      <td>150.880005</td>\n",
       "      <td>152.190002</td>\n",
       "      <td>152.190002</td>\n",
       "      <td>5904900</td>\n",
       "    </tr>\n",
       "  </tbody>\n",
       "</table>\n",
       "</div>"
      ],
      "text/plain": [
       "                  Open        High         Low       Close   Adj Close  \\\n",
       "Date                                                                     \n",
       "2022-12-16  150.360001  151.070007  149.020004  150.440002  150.440002   \n",
       "2022-12-19  150.220001  151.380005  149.240005  150.399994  150.399994   \n",
       "2022-12-20  149.320007  150.899994  149.270004  150.460007  150.460007   \n",
       "2022-12-21  150.750000  152.630005  150.720001  151.839996  151.839996   \n",
       "2022-12-22  151.130005  152.410004  150.880005  152.190002  152.190002   \n",
       "\n",
       "              Volume  \n",
       "Date                  \n",
       "2022-12-16  19963900  \n",
       "2022-12-19   5881800  \n",
       "2022-12-20   5646100  \n",
       "2022-12-21   5024700  \n",
       "2022-12-22   5904900  "
      ]
     },
     "execution_count": 37,
     "metadata": {},
     "output_type": "execute_result"
    }
   ],
   "source": [
    "PG.tail()"
   ]
  },
  {
   "cell_type": "code",
   "execution_count": 41,
   "id": "6af0f84d",
   "metadata": {},
   "outputs": [
    {
     "name": "stdout",
     "output_type": "stream",
     "text": [
      "[*********************100%***********************]  1 of 1 completed\n",
      "[*********************100%***********************]  1 of 1 completed\n",
      "[*********************100%***********************]  1 of 1 completed\n",
      "[*********************100%***********************]  1 of 1 completed\n",
      "[*********************100%***********************]  1 of 1 completed\n"
     ]
    }
   ],
   "source": [
    "tickers = ['PG','MSFT','AAPL','T','F']\n",
    "data = pd.DataFrame()\n",
    "\n",
    "for t in tickers:\n",
    "    data[t] = yf.download(t,start='1995-1-1')['Adj Close']"
   ]
  },
  {
   "cell_type": "code",
   "execution_count": 42,
   "id": "5174d765",
   "metadata": {},
   "outputs": [
    {
     "data": {
      "text/html": [
       "<div>\n",
       "<style scoped>\n",
       "    .dataframe tbody tr th:only-of-type {\n",
       "        vertical-align: middle;\n",
       "    }\n",
       "\n",
       "    .dataframe tbody tr th {\n",
       "        vertical-align: top;\n",
       "    }\n",
       "\n",
       "    .dataframe thead th {\n",
       "        text-align: right;\n",
       "    }\n",
       "</style>\n",
       "<table border=\"1\" class=\"dataframe\">\n",
       "  <thead>\n",
       "    <tr style=\"text-align: right;\">\n",
       "      <th></th>\n",
       "      <th>PG</th>\n",
       "      <th>MSFT</th>\n",
       "      <th>AAPL</th>\n",
       "      <th>T</th>\n",
       "      <th>F</th>\n",
       "    </tr>\n",
       "    <tr>\n",
       "      <th>Date</th>\n",
       "      <th></th>\n",
       "      <th></th>\n",
       "      <th></th>\n",
       "      <th></th>\n",
       "      <th></th>\n",
       "    </tr>\n",
       "  </thead>\n",
       "  <tbody>\n",
       "    <tr>\n",
       "      <th>1995-01-03</th>\n",
       "      <td>7.820023</td>\n",
       "      <td>2.352809</td>\n",
       "      <td>0.288771</td>\n",
       "      <td>2.685240</td>\n",
       "      <td>4.220635</td>\n",
       "    </tr>\n",
       "    <tr>\n",
       "      <th>1995-01-04</th>\n",
       "      <td>7.757338</td>\n",
       "      <td>2.369911</td>\n",
       "      <td>0.296296</td>\n",
       "      <td>2.678410</td>\n",
       "      <td>4.334196</td>\n",
       "    </tr>\n",
       "    <tr>\n",
       "      <th>1995-01-05</th>\n",
       "      <td>7.647638</td>\n",
       "      <td>2.330821</td>\n",
       "      <td>0.292533</td>\n",
       "      <td>2.720260</td>\n",
       "      <td>4.296340</td>\n",
       "    </tr>\n",
       "    <tr>\n",
       "      <th>1995-01-06</th>\n",
       "      <td>7.663310</td>\n",
       "      <td>2.369911</td>\n",
       "      <td>0.316049</td>\n",
       "      <td>2.720260</td>\n",
       "      <td>4.296340</td>\n",
       "    </tr>\n",
       "    <tr>\n",
       "      <th>1995-01-09</th>\n",
       "      <td>7.631969</td>\n",
       "      <td>2.355251</td>\n",
       "      <td>0.310052</td>\n",
       "      <td>2.711889</td>\n",
       "      <td>4.372046</td>\n",
       "    </tr>\n",
       "    <tr>\n",
       "      <th>...</th>\n",
       "      <td>...</td>\n",
       "      <td>...</td>\n",
       "      <td>...</td>\n",
       "      <td>...</td>\n",
       "      <td>...</td>\n",
       "    </tr>\n",
       "    <tr>\n",
       "      <th>2022-12-16</th>\n",
       "      <td>150.440002</td>\n",
       "      <td>244.690002</td>\n",
       "      <td>134.509995</td>\n",
       "      <td>18.490000</td>\n",
       "      <td>12.120000</td>\n",
       "    </tr>\n",
       "    <tr>\n",
       "      <th>2022-12-19</th>\n",
       "      <td>150.399994</td>\n",
       "      <td>240.449997</td>\n",
       "      <td>132.369995</td>\n",
       "      <td>17.860001</td>\n",
       "      <td>11.690000</td>\n",
       "    </tr>\n",
       "    <tr>\n",
       "      <th>2022-12-20</th>\n",
       "      <td>150.460007</td>\n",
       "      <td>241.800003</td>\n",
       "      <td>132.300003</td>\n",
       "      <td>18.070000</td>\n",
       "      <td>11.470000</td>\n",
       "    </tr>\n",
       "    <tr>\n",
       "      <th>2022-12-21</th>\n",
       "      <td>151.839996</td>\n",
       "      <td>244.429993</td>\n",
       "      <td>135.449997</td>\n",
       "      <td>18.150000</td>\n",
       "      <td>11.780000</td>\n",
       "    </tr>\n",
       "    <tr>\n",
       "      <th>2022-12-22</th>\n",
       "      <td>152.190002</td>\n",
       "      <td>238.190002</td>\n",
       "      <td>132.229996</td>\n",
       "      <td>18.270000</td>\n",
       "      <td>11.310000</td>\n",
       "    </tr>\n",
       "  </tbody>\n",
       "</table>\n",
       "<p>7045 rows × 5 columns</p>\n",
       "</div>"
      ],
      "text/plain": [
       "                    PG        MSFT        AAPL          T          F\n",
       "Date                                                                \n",
       "1995-01-03    7.820023    2.352809    0.288771   2.685240   4.220635\n",
       "1995-01-04    7.757338    2.369911    0.296296   2.678410   4.334196\n",
       "1995-01-05    7.647638    2.330821    0.292533   2.720260   4.296340\n",
       "1995-01-06    7.663310    2.369911    0.316049   2.720260   4.296340\n",
       "1995-01-09    7.631969    2.355251    0.310052   2.711889   4.372046\n",
       "...                ...         ...         ...        ...        ...\n",
       "2022-12-16  150.440002  244.690002  134.509995  18.490000  12.120000\n",
       "2022-12-19  150.399994  240.449997  132.369995  17.860001  11.690000\n",
       "2022-12-20  150.460007  241.800003  132.300003  18.070000  11.470000\n",
       "2022-12-21  151.839996  244.429993  135.449997  18.150000  11.780000\n",
       "2022-12-22  152.190002  238.190002  132.229996  18.270000  11.310000\n",
       "\n",
       "[7045 rows x 5 columns]"
      ]
     },
     "execution_count": 42,
     "metadata": {},
     "output_type": "execute_result"
    }
   ],
   "source": [
    "data"
   ]
  },
  {
   "cell_type": "code",
   "execution_count": 44,
   "id": "83ef3521",
   "metadata": {},
   "outputs": [],
   "source": [
    "gdp = quandl.get('FRED/GDP')"
   ]
  },
  {
   "cell_type": "code",
   "execution_count": 45,
   "id": "124a6a18",
   "metadata": {},
   "outputs": [
    {
     "data": {
      "text/html": [
       "<div>\n",
       "<style scoped>\n",
       "    .dataframe tbody tr th:only-of-type {\n",
       "        vertical-align: middle;\n",
       "    }\n",
       "\n",
       "    .dataframe tbody tr th {\n",
       "        vertical-align: top;\n",
       "    }\n",
       "\n",
       "    .dataframe thead th {\n",
       "        text-align: right;\n",
       "    }\n",
       "</style>\n",
       "<table border=\"1\" class=\"dataframe\">\n",
       "  <thead>\n",
       "    <tr style=\"text-align: right;\">\n",
       "      <th></th>\n",
       "      <th>Value</th>\n",
       "    </tr>\n",
       "    <tr>\n",
       "      <th>Date</th>\n",
       "      <th></th>\n",
       "    </tr>\n",
       "  </thead>\n",
       "  <tbody>\n",
       "    <tr>\n",
       "      <th>1947-01-01</th>\n",
       "      <td>243.164</td>\n",
       "    </tr>\n",
       "    <tr>\n",
       "      <th>1947-04-01</th>\n",
       "      <td>245.968</td>\n",
       "    </tr>\n",
       "    <tr>\n",
       "      <th>1947-07-01</th>\n",
       "      <td>249.585</td>\n",
       "    </tr>\n",
       "    <tr>\n",
       "      <th>1947-10-01</th>\n",
       "      <td>259.745</td>\n",
       "    </tr>\n",
       "    <tr>\n",
       "      <th>1948-01-01</th>\n",
       "      <td>265.742</td>\n",
       "    </tr>\n",
       "    <tr>\n",
       "      <th>...</th>\n",
       "      <td>...</td>\n",
       "    </tr>\n",
       "    <tr>\n",
       "      <th>2020-10-01</th>\n",
       "      <td>21477.597</td>\n",
       "    </tr>\n",
       "    <tr>\n",
       "      <th>2021-01-01</th>\n",
       "      <td>22038.226</td>\n",
       "    </tr>\n",
       "    <tr>\n",
       "      <th>2021-04-01</th>\n",
       "      <td>22740.959</td>\n",
       "    </tr>\n",
       "    <tr>\n",
       "      <th>2021-07-01</th>\n",
       "      <td>23202.344</td>\n",
       "    </tr>\n",
       "    <tr>\n",
       "      <th>2021-10-01</th>\n",
       "      <td>23992.355</td>\n",
       "    </tr>\n",
       "  </tbody>\n",
       "</table>\n",
       "<p>300 rows × 1 columns</p>\n",
       "</div>"
      ],
      "text/plain": [
       "                Value\n",
       "Date                 \n",
       "1947-01-01    243.164\n",
       "1947-04-01    245.968\n",
       "1947-07-01    249.585\n",
       "1947-10-01    259.745\n",
       "1948-01-01    265.742\n",
       "...               ...\n",
       "2020-10-01  21477.597\n",
       "2021-01-01  22038.226\n",
       "2021-04-01  22740.959\n",
       "2021-07-01  23202.344\n",
       "2021-10-01  23992.355\n",
       "\n",
       "[300 rows x 1 columns]"
      ]
     },
     "execution_count": 45,
     "metadata": {},
     "output_type": "execute_result"
    }
   ],
   "source": [
    "gdp"
   ]
  },
  {
   "cell_type": "code",
   "execution_count": 47,
   "id": "a43f0338",
   "metadata": {},
   "outputs": [
    {
     "data": {
      "text/plain": [
       "['.ipynb_checkpoints',\n",
       " 'adcb.XLS',\n",
       " 'cacm.db',\n",
       " 'data',\n",
       " 'data.zip',\n",
       " 'HR.ipynb',\n",
       " 'IT Tickets.ipynb',\n",
       " 'IT.ipynb',\n",
       " 'Khalifa_University_CACM.ipynb',\n",
       " 'Khalifa_University_CACM_1-Copy1.ipynb',\n",
       " 'Khalifa_University_CACM_1.ipynb',\n",
       " 'New folder',\n",
       " 'New folder (2)',\n",
       " 'Python For Finance - 365.ipynb',\n",
       " 'Registrar.ipynb',\n",
       " 'Report',\n",
       " 'Untitled.ipynb',\n",
       " 'Untitled1.ipynb',\n",
       " 'Untitled2.ipynb',\n",
       " 'Untitled3.ipynb',\n",
       " 'Untitled4.ipynb']"
      ]
     },
     "execution_count": 47,
     "metadata": {},
     "output_type": "execute_result"
    }
   ],
   "source": [
    "os.listdir()"
   ]
  },
  {
   "cell_type": "code",
   "execution_count": 57,
   "id": "711f1235",
   "metadata": {},
   "outputs": [],
   "source": [
    "adcb = pd.read_excel('adcb.XLS',skiprows=6,skipfooter=2,index_col=0,parse_dates=True)"
   ]
  },
  {
   "cell_type": "code",
   "execution_count": 58,
   "id": "4d45bd18",
   "metadata": {},
   "outputs": [
    {
     "name": "stdout",
     "output_type": "stream",
     "text": [
      "<class 'pandas.core.frame.DataFrame'>\n",
      "DatetimeIndex: 750 entries, 2019-12-23 to 2022-12-22\n",
      "Data columns (total 5 columns):\n",
      " #   Column  Non-Null Count  Dtype  \n",
      "---  ------  --------------  -----  \n",
      " 0   Open    750 non-null    float64\n",
      " 1   High    750 non-null    float64\n",
      " 2   Low     750 non-null    float64\n",
      " 3   Close   750 non-null    float64\n",
      " 4   Volume  750 non-null    int64  \n",
      "dtypes: float64(4), int64(1)\n",
      "memory usage: 35.2 KB\n"
     ]
    }
   ],
   "source": [
    "adcb.info()"
   ]
  },
  {
   "cell_type": "markdown",
   "id": "2b4296b6",
   "metadata": {},
   "source": [
    "### Simple Rate of Return\n",
    "\n",
    "$$\n",
    "\\frac{P_1 - P_0}{P_0} = \\frac{P_1}{P_0} - 1\n",
    "$$"
   ]
  },
  {
   "cell_type": "code",
   "execution_count": 60,
   "id": "826a44d3",
   "metadata": {},
   "outputs": [],
   "source": [
    "PG['simple_return'] = (PG['Adj Close']/PG['Adj Close'].shift(1)) -1"
   ]
  },
  {
   "cell_type": "code",
   "execution_count": 62,
   "id": "168a4146",
   "metadata": {},
   "outputs": [],
   "source": [
    "PG['simple_return_pct'] = PG['Adj Close'].pct_change()"
   ]
  },
  {
   "cell_type": "code",
   "execution_count": 63,
   "id": "c2684ec2",
   "metadata": {},
   "outputs": [
    {
     "data": {
      "text/html": [
       "<div>\n",
       "<style scoped>\n",
       "    .dataframe tbody tr th:only-of-type {\n",
       "        vertical-align: middle;\n",
       "    }\n",
       "\n",
       "    .dataframe tbody tr th {\n",
       "        vertical-align: top;\n",
       "    }\n",
       "\n",
       "    .dataframe thead th {\n",
       "        text-align: right;\n",
       "    }\n",
       "</style>\n",
       "<table border=\"1\" class=\"dataframe\">\n",
       "  <thead>\n",
       "    <tr style=\"text-align: right;\">\n",
       "      <th></th>\n",
       "      <th>Open</th>\n",
       "      <th>High</th>\n",
       "      <th>Low</th>\n",
       "      <th>Close</th>\n",
       "      <th>Adj Close</th>\n",
       "      <th>Volume</th>\n",
       "      <th>simple_return</th>\n",
       "      <th>simple_return_pct</th>\n",
       "    </tr>\n",
       "    <tr>\n",
       "      <th>Date</th>\n",
       "      <th></th>\n",
       "      <th></th>\n",
       "      <th></th>\n",
       "      <th></th>\n",
       "      <th></th>\n",
       "      <th></th>\n",
       "      <th></th>\n",
       "      <th></th>\n",
       "    </tr>\n",
       "  </thead>\n",
       "  <tbody>\n",
       "    <tr>\n",
       "      <th>1995-01-03</th>\n",
       "      <td>15.468750</td>\n",
       "      <td>15.625000</td>\n",
       "      <td>15.437500</td>\n",
       "      <td>15.593750</td>\n",
       "      <td>7.820029</td>\n",
       "      <td>3318400</td>\n",
       "      <td>NaN</td>\n",
       "      <td>NaN</td>\n",
       "    </tr>\n",
       "    <tr>\n",
       "      <th>1995-01-04</th>\n",
       "      <td>15.531250</td>\n",
       "      <td>15.656250</td>\n",
       "      <td>15.312500</td>\n",
       "      <td>15.468750</td>\n",
       "      <td>7.757338</td>\n",
       "      <td>2218800</td>\n",
       "      <td>-0.008017</td>\n",
       "      <td>-0.008017</td>\n",
       "    </tr>\n",
       "    <tr>\n",
       "      <th>1995-01-05</th>\n",
       "      <td>15.375000</td>\n",
       "      <td>15.437500</td>\n",
       "      <td>15.218750</td>\n",
       "      <td>15.250000</td>\n",
       "      <td>7.647637</td>\n",
       "      <td>2319600</td>\n",
       "      <td>-0.014142</td>\n",
       "      <td>-0.014142</td>\n",
       "    </tr>\n",
       "    <tr>\n",
       "      <th>1995-01-06</th>\n",
       "      <td>15.156250</td>\n",
       "      <td>15.406250</td>\n",
       "      <td>15.156250</td>\n",
       "      <td>15.281250</td>\n",
       "      <td>7.663309</td>\n",
       "      <td>3438000</td>\n",
       "      <td>0.002049</td>\n",
       "      <td>0.002049</td>\n",
       "    </tr>\n",
       "    <tr>\n",
       "      <th>1995-01-09</th>\n",
       "      <td>15.343750</td>\n",
       "      <td>15.406250</td>\n",
       "      <td>15.187500</td>\n",
       "      <td>15.218750</td>\n",
       "      <td>7.631965</td>\n",
       "      <td>1795200</td>\n",
       "      <td>-0.004090</td>\n",
       "      <td>-0.004090</td>\n",
       "    </tr>\n",
       "    <tr>\n",
       "      <th>...</th>\n",
       "      <td>...</td>\n",
       "      <td>...</td>\n",
       "      <td>...</td>\n",
       "      <td>...</td>\n",
       "      <td>...</td>\n",
       "      <td>...</td>\n",
       "      <td>...</td>\n",
       "      <td>...</td>\n",
       "    </tr>\n",
       "    <tr>\n",
       "      <th>2022-12-16</th>\n",
       "      <td>150.360001</td>\n",
       "      <td>151.070007</td>\n",
       "      <td>149.020004</td>\n",
       "      <td>150.440002</td>\n",
       "      <td>150.440002</td>\n",
       "      <td>19963900</td>\n",
       "      <td>-0.004434</td>\n",
       "      <td>-0.004434</td>\n",
       "    </tr>\n",
       "    <tr>\n",
       "      <th>2022-12-19</th>\n",
       "      <td>150.220001</td>\n",
       "      <td>151.380005</td>\n",
       "      <td>149.240005</td>\n",
       "      <td>150.399994</td>\n",
       "      <td>150.399994</td>\n",
       "      <td>5881800</td>\n",
       "      <td>-0.000266</td>\n",
       "      <td>-0.000266</td>\n",
       "    </tr>\n",
       "    <tr>\n",
       "      <th>2022-12-20</th>\n",
       "      <td>149.320007</td>\n",
       "      <td>150.899994</td>\n",
       "      <td>149.270004</td>\n",
       "      <td>150.460007</td>\n",
       "      <td>150.460007</td>\n",
       "      <td>5646100</td>\n",
       "      <td>0.000399</td>\n",
       "      <td>0.000399</td>\n",
       "    </tr>\n",
       "    <tr>\n",
       "      <th>2022-12-21</th>\n",
       "      <td>150.750000</td>\n",
       "      <td>152.630005</td>\n",
       "      <td>150.720001</td>\n",
       "      <td>151.839996</td>\n",
       "      <td>151.839996</td>\n",
       "      <td>5024700</td>\n",
       "      <td>0.009172</td>\n",
       "      <td>0.009172</td>\n",
       "    </tr>\n",
       "    <tr>\n",
       "      <th>2022-12-22</th>\n",
       "      <td>151.130005</td>\n",
       "      <td>152.410004</td>\n",
       "      <td>150.880005</td>\n",
       "      <td>152.190002</td>\n",
       "      <td>152.190002</td>\n",
       "      <td>5904900</td>\n",
       "      <td>0.002305</td>\n",
       "      <td>0.002305</td>\n",
       "    </tr>\n",
       "  </tbody>\n",
       "</table>\n",
       "<p>7045 rows × 8 columns</p>\n",
       "</div>"
      ],
      "text/plain": [
       "                  Open        High         Low       Close   Adj Close  \\\n",
       "Date                                                                     \n",
       "1995-01-03   15.468750   15.625000   15.437500   15.593750    7.820029   \n",
       "1995-01-04   15.531250   15.656250   15.312500   15.468750    7.757338   \n",
       "1995-01-05   15.375000   15.437500   15.218750   15.250000    7.647637   \n",
       "1995-01-06   15.156250   15.406250   15.156250   15.281250    7.663309   \n",
       "1995-01-09   15.343750   15.406250   15.187500   15.218750    7.631965   \n",
       "...                ...         ...         ...         ...         ...   \n",
       "2022-12-16  150.360001  151.070007  149.020004  150.440002  150.440002   \n",
       "2022-12-19  150.220001  151.380005  149.240005  150.399994  150.399994   \n",
       "2022-12-20  149.320007  150.899994  149.270004  150.460007  150.460007   \n",
       "2022-12-21  150.750000  152.630005  150.720001  151.839996  151.839996   \n",
       "2022-12-22  151.130005  152.410004  150.880005  152.190002  152.190002   \n",
       "\n",
       "              Volume  simple_return  simple_return_pct  \n",
       "Date                                                    \n",
       "1995-01-03   3318400            NaN                NaN  \n",
       "1995-01-04   2218800      -0.008017          -0.008017  \n",
       "1995-01-05   2319600      -0.014142          -0.014142  \n",
       "1995-01-06   3438000       0.002049           0.002049  \n",
       "1995-01-09   1795200      -0.004090          -0.004090  \n",
       "...              ...            ...                ...  \n",
       "2022-12-16  19963900      -0.004434          -0.004434  \n",
       "2022-12-19   5881800      -0.000266          -0.000266  \n",
       "2022-12-20   5646100       0.000399           0.000399  \n",
       "2022-12-21   5024700       0.009172           0.009172  \n",
       "2022-12-22   5904900       0.002305           0.002305  \n",
       "\n",
       "[7045 rows x 8 columns]"
      ]
     },
     "execution_count": 63,
     "metadata": {},
     "output_type": "execute_result"
    }
   ],
   "source": [
    "PG"
   ]
  },
  {
   "cell_type": "code",
   "execution_count": 67,
   "id": "431681cd",
   "metadata": {},
   "outputs": [
    {
     "data": {
      "image/png": "[encoded data removed]",
      "text/plain": [
       "<Figure size 800x500 with 1 Axes>"
      ]
     },
     "metadata": {},
     "output_type": "display_data"
    }
   ],
   "source": [
    "PG['simple_return'].plot(figsize=(8,5))\n",
    "plt.show()"
   ]
  },
  {
   "cell_type": "markdown",
   "id": "028407d6",
   "metadata": {},
   "source": [
    "Positive returns accumulate over time "
   ]
  },
  {
   "cell_type": "code",
   "execution_count": 69,
   "id": "27f9ada3",
   "metadata": {},
   "outputs": [
    {
     "name": "stdout",
     "output_type": "stream",
     "text": [
      "0.0005215355047069326\n"
     ]
    }
   ],
   "source": [
    "average_return_d = PG['simple_return'].mean()\n",
    "print(average_return_d)"
   ]
  },
  {
   "cell_type": "code",
   "execution_count": 70,
   "id": "3822ccbf",
   "metadata": {},
   "outputs": [
    {
     "name": "stdout",
     "output_type": "stream",
     "text": [
      "0.13038387617673314\n"
     ]
    }
   ],
   "source": [
    "average_return_a = PG['simple_return'].mean()*250\n",
    "print(average_return_a)"
   ]
  },
  {
   "cell_type": "code",
   "execution_count": 71,
   "id": "3146f707",
   "metadata": {},
   "outputs": [
    {
     "name": "stdout",
     "output_type": "stream",
     "text": [
      "The annual rate of return for PG is 13.0\n"
     ]
    }
   ],
   "source": [
    "print('The annual rate of return for PG is {0:.1f}'.format(average_return_a *100))"
   ]
  },
  {
   "cell_type": "markdown",
   "id": "11093873",
   "metadata": {},
   "source": [
    "### Log Return\n",
    "\n",
    "$$\n",
    "ln(\\frac{P_t}{P_{t-1}})\n",
    "$$"
   ]
  },
  {
   "cell_type": "code",
   "execution_count": 73,
   "id": "f6616ba0",
   "metadata": {},
   "outputs": [],
   "source": [
    "PG['log_return'] = np.log(PG['Adj Close']/PG['Adj Close'].shift(1))"
   ]
  },
  {
   "cell_type": "code",
   "execution_count": 76,
   "id": "ff63356c",
   "metadata": {},
   "outputs": [
    {
     "name": "stdout",
     "output_type": "stream",
     "text": [
      "0.0004214141852909408\n"
     ]
    }
   ],
   "source": [
    "log_return_d = PG['log_return'].mean()\n",
    "print(log_return_d)"
   ]
  },
  {
   "cell_type": "code",
   "execution_count": 77,
   "id": "307cbc08",
   "metadata": {},
   "outputs": [
    {
     "name": "stdout",
     "output_type": "stream",
     "text": [
      "0.10535354632273519\n"
     ]
    }
   ],
   "source": [
    "log_return_a = PG['log_return'].mean()*250\n",
    "print(log_return_a)"
   ]
  },
  {
   "cell_type": "code",
   "execution_count": 78,
   "id": "f6f96744",
   "metadata": {},
   "outputs": [
    {
     "name": "stdout",
     "output_type": "stream",
     "text": [
      "The annual log rate of return for PG is 10.5\n"
     ]
    }
   ],
   "source": [
    "print('The annual log rate of return for PG is {0:.1f}'.format(log_return_a *100))"
   ]
  },
  {
   "cell_type": "code",
   "execution_count": 79,
   "id": "c26caa19",
   "metadata": {},
   "outputs": [
    {
     "data": {
      "image/png": "[encoded data removed]",
      "text/plain": [
       "<Figure size 800x500 with 1 Axes>"
      ]
     },
     "metadata": {},
     "output_type": "display_data"
    }
   ],
   "source": [
    "PG['log_return'].plot(figsize=(8,5))\n",
    "plt.show()"
   ]
  },
  {
   "cell_type": "markdown",
   "id": "3261e125",
   "metadata": {},
   "source": [
    "### Normalization to 100:\n",
    "\n",
    "$$\n",
    "\\frac {P_t}{P_0} * 100\n",
    "$$"
   ]
  },
  {
   "cell_type": "code",
   "execution_count": 80,
   "id": "72997a0f",
   "metadata": {},
   "outputs": [
    {
     "data": {
      "text/plain": [
       "PG      7.820023\n",
       "MSFT    2.352809\n",
       "AAPL    0.288771\n",
       "T       2.685240\n",
       "F       4.220635\n",
       "Name: 1995-01-03 00:00:00, dtype: float64"
      ]
     },
     "execution_count": 80,
     "metadata": {},
     "output_type": "execute_result"
    }
   ],
   "source": [
    "data.iloc[0]"
   ]
  },
  {
   "cell_type": "code",
   "execution_count": 81,
   "id": "40ed336e",
   "metadata": {},
   "outputs": [
    {
     "data": {
      "image/png": "[encoded data removed]",
      "text/plain": [
       "<Figure size 800x500 with 1 Axes>"
      ]
     },
     "metadata": {},
     "output_type": "display_data"
    }
   ],
   "source": [
    "(data/data.iloc[0] *100).plot(figsize=(8,5));\n",
    "plt.show()"
   ]
  },
  {
   "cell_type": "markdown",
   "id": "0d5f2297",
   "metadata": {},
   "source": [
    "### Calculation the returns of a portfolio of securities"
   ]
  },
  {
   "cell_type": "code",
   "execution_count": 82,
   "id": "5ebbf603",
   "metadata": {},
   "outputs": [],
   "source": [
    "returns = data.pct_change()"
   ]
  },
  {
   "cell_type": "code",
   "execution_count": 83,
   "id": "c9201117",
   "metadata": {},
   "outputs": [
    {
     "data": {
      "text/html": [
       "<div>\n",
       "<style scoped>\n",
       "    .dataframe tbody tr th:only-of-type {\n",
       "        vertical-align: middle;\n",
       "    }\n",
       "\n",
       "    .dataframe tbody tr th {\n",
       "        vertical-align: top;\n",
       "    }\n",
       "\n",
       "    .dataframe thead th {\n",
       "        text-align: right;\n",
       "    }\n",
       "</style>\n",
       "<table border=\"1\" class=\"dataframe\">\n",
       "  <thead>\n",
       "    <tr style=\"text-align: right;\">\n",
       "      <th></th>\n",
       "      <th>PG</th>\n",
       "      <th>MSFT</th>\n",
       "      <th>AAPL</th>\n",
       "      <th>T</th>\n",
       "      <th>F</th>\n",
       "    </tr>\n",
       "    <tr>\n",
       "      <th>Date</th>\n",
       "      <th></th>\n",
       "      <th></th>\n",
       "      <th></th>\n",
       "      <th></th>\n",
       "      <th></th>\n",
       "    </tr>\n",
       "  </thead>\n",
       "  <tbody>\n",
       "    <tr>\n",
       "      <th>1995-01-03</th>\n",
       "      <td>NaN</td>\n",
       "      <td>NaN</td>\n",
       "      <td>NaN</td>\n",
       "      <td>NaN</td>\n",
       "      <td>NaN</td>\n",
       "    </tr>\n",
       "    <tr>\n",
       "      <th>1995-01-04</th>\n",
       "      <td>-0.008016</td>\n",
       "      <td>0.007269</td>\n",
       "      <td>0.026060</td>\n",
       "      <td>-0.002544</td>\n",
       "      <td>0.026906</td>\n",
       "    </tr>\n",
       "    <tr>\n",
       "      <th>1995-01-05</th>\n",
       "      <td>-0.014141</td>\n",
       "      <td>-0.016494</td>\n",
       "      <td>-0.012700</td>\n",
       "      <td>0.015625</td>\n",
       "      <td>-0.008734</td>\n",
       "    </tr>\n",
       "    <tr>\n",
       "      <th>1995-01-06</th>\n",
       "      <td>0.002049</td>\n",
       "      <td>0.016771</td>\n",
       "      <td>0.080386</td>\n",
       "      <td>0.000000</td>\n",
       "      <td>0.000000</td>\n",
       "    </tr>\n",
       "    <tr>\n",
       "      <th>1995-01-09</th>\n",
       "      <td>-0.004090</td>\n",
       "      <td>-0.006186</td>\n",
       "      <td>-0.018973</td>\n",
       "      <td>-0.003077</td>\n",
       "      <td>0.017621</td>\n",
       "    </tr>\n",
       "    <tr>\n",
       "      <th>...</th>\n",
       "      <td>...</td>\n",
       "      <td>...</td>\n",
       "      <td>...</td>\n",
       "      <td>...</td>\n",
       "      <td>...</td>\n",
       "    </tr>\n",
       "    <tr>\n",
       "      <th>2022-12-16</th>\n",
       "      <td>-0.004434</td>\n",
       "      <td>-0.017349</td>\n",
       "      <td>-0.014579</td>\n",
       "      <td>0.001083</td>\n",
       "      <td>-0.069839</td>\n",
       "    </tr>\n",
       "    <tr>\n",
       "      <th>2022-12-19</th>\n",
       "      <td>-0.000266</td>\n",
       "      <td>-0.017328</td>\n",
       "      <td>-0.015910</td>\n",
       "      <td>-0.034072</td>\n",
       "      <td>-0.035479</td>\n",
       "    </tr>\n",
       "    <tr>\n",
       "      <th>2022-12-20</th>\n",
       "      <td>0.000399</td>\n",
       "      <td>0.005614</td>\n",
       "      <td>-0.000529</td>\n",
       "      <td>0.011758</td>\n",
       "      <td>-0.018819</td>\n",
       "    </tr>\n",
       "    <tr>\n",
       "      <th>2022-12-21</th>\n",
       "      <td>0.009172</td>\n",
       "      <td>0.010877</td>\n",
       "      <td>0.023809</td>\n",
       "      <td>0.004427</td>\n",
       "      <td>0.027027</td>\n",
       "    </tr>\n",
       "    <tr>\n",
       "      <th>2022-12-22</th>\n",
       "      <td>0.002305</td>\n",
       "      <td>-0.025529</td>\n",
       "      <td>-0.023773</td>\n",
       "      <td>0.006612</td>\n",
       "      <td>-0.039898</td>\n",
       "    </tr>\n",
       "  </tbody>\n",
       "</table>\n",
       "<p>7045 rows × 5 columns</p>\n",
       "</div>"
      ],
      "text/plain": [
       "                  PG      MSFT      AAPL         T         F\n",
       "Date                                                        \n",
       "1995-01-03       NaN       NaN       NaN       NaN       NaN\n",
       "1995-01-04 -0.008016  0.007269  0.026060 -0.002544  0.026906\n",
       "1995-01-05 -0.014141 -0.016494 -0.012700  0.015625 -0.008734\n",
       "1995-01-06  0.002049  0.016771  0.080386  0.000000  0.000000\n",
       "1995-01-09 -0.004090 -0.006186 -0.018973 -0.003077  0.017621\n",
       "...              ...       ...       ...       ...       ...\n",
       "2022-12-16 -0.004434 -0.017349 -0.014579  0.001083 -0.069839\n",
       "2022-12-19 -0.000266 -0.017328 -0.015910 -0.034072 -0.035479\n",
       "2022-12-20  0.000399  0.005614 -0.000529  0.011758 -0.018819\n",
       "2022-12-21  0.009172  0.010877  0.023809  0.004427  0.027027\n",
       "2022-12-22  0.002305 -0.025529 -0.023773  0.006612 -0.039898\n",
       "\n",
       "[7045 rows x 5 columns]"
      ]
     },
     "execution_count": 83,
     "metadata": {},
     "output_type": "execute_result"
    }
   ],
   "source": [
    "returns"
   ]
  },
  {
   "cell_type": "code",
   "execution_count": 84,
   "id": "9b5a4fef",
   "metadata": {},
   "outputs": [],
   "source": [
    "annual_returns = returns.mean()*250"
   ]
  },
  {
   "cell_type": "code",
   "execution_count": 95,
   "id": "dc8ccf33",
   "metadata": {},
   "outputs": [
    {
     "data": {
      "text/plain": [
       "PG      0.130384\n",
       "MSFT    0.213326\n",
       "AAPL    0.312615\n",
       "T       0.102217\n",
       "F       0.116170\n",
       "dtype: float64"
      ]
     },
     "execution_count": 95,
     "metadata": {},
     "output_type": "execute_result"
    }
   ],
   "source": [
    "annual_returns"
   ]
  },
  {
   "cell_type": "code",
   "execution_count": 96,
   "id": "24be3354",
   "metadata": {},
   "outputs": [],
   "source": [
    "weights = np.array([0.20,0.20,0.20,0.20,.20])"
   ]
  },
  {
   "cell_type": "code",
   "execution_count": 97,
   "id": "c83b190e",
   "metadata": {},
   "outputs": [],
   "source": [
    "pfolio = np.dot(annual_returns,weights)"
   ]
  },
  {
   "cell_type": "code",
   "execution_count": 98,
   "id": "5ff545a2",
   "metadata": {},
   "outputs": [
    {
     "data": {
      "text/plain": [
       "0.17494241773663596"
      ]
     },
     "execution_count": 98,
     "metadata": {},
     "output_type": "execute_result"
    }
   ],
   "source": [
    "pfolio"
   ]
  },
  {
   "cell_type": "code",
   "execution_count": 99,
   "id": "7f31f707",
   "metadata": {},
   "outputs": [
    {
     "name": "stdout",
     "output_type": "stream",
     "text": [
      "The annual portfolio return  is 17.5 %\n"
     ]
    }
   ],
   "source": [
    "print('The annual portfolio return  is {0:.1f} %'.format(pfolio *100))"
   ]
  },
  {
   "cell_type": "code",
   "execution_count": null,
   "id": "36727fa2",
   "metadata": {},
   "outputs": [],
   "source": []
  }
 ],
 "metadata": {
  "kernelspec": {
   "display_name": "Python 3",
   "language": "python",
   "name": "python3"
  },
  "language_info": {
   "codemirror_mode": {
    "name": "ipython",
    "version": 3
   },
   "file_extension": ".py",
   "mimetype": "text/x-python",
   "name": "python",
   "nbconvert_exporter": "python",
   "pygments_lexer": "ipython3",
   "version": "3.8.11"
  }
 },
 "nbformat": 4,
 "nbformat_minor": 5
}
