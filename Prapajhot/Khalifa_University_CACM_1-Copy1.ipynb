{
 "cells": [
  {
   "cell_type": "markdown",
   "metadata": {
    "id": "7Q2Sx1L24jbc"
   },
   "source": [
    "# Khalifa University - CACM"
   ]
  },
  {
   "cell_type": "markdown",
   "metadata": {
    "id": "5AW8B9LD4jbh"
   },
   "source": [
    "### Table of Contents\n",
    "\n",
    "- *Student Master Data* \n",
    "- *Human Resources Master Data*\n",
    "- *Finance Master Data*"
   ]
  },
  {
   "cell_type": "markdown",
   "metadata": {
    "id": "VIxjWZmb4jbh"
   },
   "source": [
    "### Master Data Naming Convention\n",
    "\n",
    "The scripts and pandas dataframe across the jupyter notebook follows the following naming convention:\n",
    "\n",
    "<div class=\"alert alert-block alert-warning\">\n",
    "<b>Example:</b> df_[type of database]_[master] </div>\n",
    "\n",
    "where df is the dataframe\n",
    "type of database is students, finance, human resources\n",
    "master refers to master data"
   ]
  },
  {
   "cell_type": "markdown",
   "metadata": {
    "id": "bsF9LBAa4jbi"
   },
   "source": [
    "### Exceptions Naming Convention\n",
    "\n",
    "Additionally, all exceptions are named using the following naming convention:\n",
    "\n",
    "<div class=\"alert alert-block alert-warning\">\n",
    "<b>Example:</b> df_[type of database]_[master]_[exception] </div>\n",
    "\n",
    "where df is the dataframe\n",
    "type of database is students, finance, human resources\n",
    "master refers to master data\n",
    "exception refers to type of exception, for e.g., duplicate students, employee details, invoices, payments etc."
   ]
  },
  {
   "cell_type": "markdown",
   "metadata": {
    "id": "fxGK3XaZ4jbj"
   },
   "source": [
    "# Import Data from SQL Server"
   ]
  },
  {
   "cell_type": "markdown",
   "metadata": {
    "id": "KxMdIuFX4jbj"
   },
   "source": [
    "### Key Libraries"
   ]
  },
  {
   "cell_type": "markdown",
   "metadata": {
    "id": "Si_rZmC44jbk"
   },
   "source": [
    "**Pymssql** is a sql connector package that enables to extract all information in the server directly into pandas dataframe as an input.\n",
    "\n",
    "Using pymssql extract all information from different sql queries and can be utilized for analysis / creating the mongoDB. \n",
    "\n",
    "The below scripts in other sections can utilize the pandas dataframe directly for running the analysis instead of connecting to excel files.\n",
    "\n",
    "**Pandas** - Pandas is a fast, powerful, flexible and easy to use open source library which enables the user to perform data manipulation from any source (SQL, Excel, JSON, etc.)\n",
    "\n",
    "**Numpy** - Numpy is a versatile tool in python for data analysis which enables to user to perform analysis around n-dimensional arrays, numerical computing tools and object oriented programming for ensuring readability / scalability of the code.\n",
    "\n",
    "**Time** - Time is a library to import and stamp the current data / time of analysis and store for future information incase of tracking previous iteration of exceptions.\n",
    "\n",
    "Additionally, the naming convention within python can assist in utilizing these libraries as abbreviations.\n",
    "\n",
    "<div class=\"alert alert-block alert-warning\">\n",
    "<b>Example:</b> **import pandas as pd** enables the user to use \"pd\" within the python code to the use pandas library</div>"
   ]
  },
  {
   "cell_type": "code",
   "execution_count": null,
   "metadata": {
    "id": "j24XlJye4jbl"
   },
   "outputs": [],
   "source": [
    "import pandas as pd\n",
    "import numpy as np\n",
    "import pyodbc\n",
    "import seaborn as sns\n",
    "import matplotlib.pyplot as plt\n",
    "from sqlalchemy import create_engine"
   ]
  },
  {
   "cell_type": "code",
   "execution_count": null,
   "metadata": {},
   "outputs": [],
   "source": [
    "svr_name = 'KU1ICDDWV011.kunet.ae'\n",
    "db_name_read = 'CACM'\n",
    "db_name_write = 'CACMP'\n",
    "u_name = 'cacm_user'\n",
    "u_pass = 'Welcome#123'"
   ]
  },
  {
   "cell_type": "code",
   "execution_count": null,
   "metadata": {
    "id": "8rhShRvC4jbm"
   },
   "outputs": [],
   "source": [
    "eng_read = create_engine(\"mssql+pyodbc://\"+u_name+\":\"+u_pass+\"@\"+svr_name+\"/\"+db_name_read+\"?driver=ODBC+Driver+17+for+SQL+Server\")\n",
    "eng_write = create_engine(\"mssql+pyodbc://\"+u_name+\":\"+u_pass+\"@\"+svr_name+\"/\"+db_name_write+\"?driver=ODBC+Driver+17+for+SQL+Server\")"
   ]
  },
  {
   "cell_type": "markdown",
   "metadata": {
    "id": "tsbsmM1h4jbn"
   },
   "source": [
    "To extract the relevant information from the SQL server, below the following example:\n",
    "\n",
    "<div class=\"alert alert-block alert-warning\">\n",
    "<b>Example:</b> Query = SELECT * FROM [Database] WHERE [Condition] </div>\n",
    "\n",
    "where Database is the name of the database;\n",
    "and conditions can be added as required such as WHERE, GroupBy, Join etc."
   ]
  },
  {
   "cell_type": "markdown",
   "metadata": {
    "id": "f8W7gfu14jbo"
   },
   "source": [
    "**Extract Student Master Information**"
   ]
  },
  {
   "cell_type": "markdown",
   "metadata": {},
   "source": [
    "Based on the requirement, we can use pymssql or pyodbc. For each instance the sample code is given below:"
   ]
  },
  {
   "cell_type": "code",
   "execution_count": null,
   "metadata": {},
   "outputs": [],
   "source": [
    "query_std_master = \"SELECT * FROM dbo.KU_SRC_STD_MASTER\""
   ]
  },
  {
   "cell_type": "code",
   "execution_count": null,
   "metadata": {},
   "outputs": [],
   "source": [
    "df_student_master = pd.read_sql(query_std_master, eng_read)"
   ]
  },
  {
   "cell_type": "code",
   "execution_count": null,
   "metadata": {},
   "outputs": [],
   "source": [
    "df_student_master.to_excel(\"./data/df_student_master_new_1.xlsx\")"
   ]
  },
  {
   "cell_type": "markdown",
   "metadata": {
    "id": "_pM7sneP4jbo"
   },
   "source": [
    "**Extract Student Course Schedule**"
   ]
  },
  {
   "cell_type": "code",
   "execution_count": null,
   "metadata": {
    "id": "zipa7l5j4jbp"
   },
   "outputs": [],
   "source": [
    "query_crs_sced = \"SELECT * FROM dbo.KU_SRC_STD_CRS_SCHEDULE\""
   ]
  },
  {
   "cell_type": "code",
   "execution_count": null,
   "metadata": {},
   "outputs": [],
   "source": [
    "df_student_courses = pd.read_sql(query_crs_sced, eng_read)"
   ]
  },
  {
   "cell_type": "code",
   "execution_count": null,
   "metadata": {},
   "outputs": [],
   "source": [
    "df_student_courses.to_excel(\"./data/df_student_courses_new_1.xlsx\")"
   ]
  },
  {
   "cell_type": "markdown",
   "metadata": {
    "id": "9TrRENhU4jbp"
   },
   "source": [
    "**Extract Student Attednance**"
   ]
  },
  {
   "cell_type": "code",
   "execution_count": null,
   "metadata": {
    "id": "NSZdTCwW4jbp"
   },
   "outputs": [],
   "source": [
    "query_std_attend = \"SELECT * FROM dbo.KU_SRC_STD_ATTENDANCE\""
   ]
  },
  {
   "cell_type": "code",
   "execution_count": null,
   "metadata": {},
   "outputs": [],
   "source": [
    "df_student_attendance = pd.read_sql(query_std_attend, eng_read)"
   ]
  },
  {
   "cell_type": "code",
   "execution_count": null,
   "metadata": {},
   "outputs": [],
   "source": [
    "df_student_attendance.to_excel(\"./data/df_student_attendance_new.xlsx\")"
   ]
  },
  {
   "cell_type": "markdown",
   "metadata": {
    "id": "Yw82Jwsu4jbq"
   },
   "source": [
    "**Extract Employee Master Information**"
   ]
  },
  {
   "cell_type": "code",
   "execution_count": null,
   "metadata": {
    "id": "n4F7qd1M4jbq"
   },
   "outputs": [],
   "source": [
    "query_emp_details = \"SELECT * FROM dbo.KU_SRC_EmployeeDetails\""
   ]
  },
  {
   "cell_type": "code",
   "execution_count": null,
   "metadata": {},
   "outputs": [],
   "source": [
    "df_employee_master = pd.read_sql(query_emp_details, eng_read)"
   ]
  },
  {
   "cell_type": "code",
   "execution_count": null,
   "metadata": {},
   "outputs": [],
   "source": [
    "df_employee_master.to_excel(\"./data/df_employee_master.xlsx\")"
   ]
  },
  {
   "cell_type": "markdown",
   "metadata": {
    "id": "D2YyAEbJ4jbq"
   },
   "source": [
    "**Extract Employee Bank Details**"
   ]
  },
  {
   "cell_type": "code",
   "execution_count": null,
   "metadata": {
    "id": "mcZhaOss4jbr"
   },
   "outputs": [],
   "source": [
    "query_emp_emp_bank_details = \"SELECT * FROM dbo.KU_SRC_EmployeesBankDetails\""
   ]
  },
  {
   "cell_type": "code",
   "execution_count": null,
   "metadata": {},
   "outputs": [],
   "source": [
    "df_employee_bank_details = pd.read_sql(query_emp_emp_bank_details, eng_read)"
   ]
  },
  {
   "cell_type": "code",
   "execution_count": null,
   "metadata": {},
   "outputs": [],
   "source": [
    "df_employee_bank_details.to_excel(\"./data/df_employee_bank_details.xlsx\")"
   ]
  },
  {
   "cell_type": "markdown",
   "metadata": {
    "id": "Y4r9siVs4jbr"
   },
   "source": [
    "**Extract Employee Leaves**"
   ]
  },
  {
   "cell_type": "code",
   "execution_count": null,
   "metadata": {
    "id": "W3lCz9Ab4jbr"
   },
   "outputs": [],
   "source": [
    "query_emp_leaves = \"SELECT * FROM dbo.KU_SRC_EmployeesLeaves\""
   ]
  },
  {
   "cell_type": "code",
   "execution_count": null,
   "metadata": {},
   "outputs": [],
   "source": [
    "df_employee_leaves = pd.read_sql(query_emp_leaves, eng_read)"
   ]
  },
  {
   "cell_type": "code",
   "execution_count": null,
   "metadata": {},
   "outputs": [],
   "source": [
    "df_employee_leaves.to_excel(\"./data/df_employee_leaves.xlsx\")"
   ]
  },
  {
   "cell_type": "markdown",
   "metadata": {
    "id": "eItWNLsj4jbs"
   },
   "source": [
    "**Extract AP Invoices**"
   ]
  },
  {
   "cell_type": "code",
   "execution_count": null,
   "metadata": {
    "id": "Bwrj9TW04jbs"
   },
   "outputs": [],
   "source": [
    "query_ap_invoices = \"SELECT * FROM dbo.KU_SRC_BI_KUST_AP\""
   ]
  },
  {
   "cell_type": "code",
   "execution_count": null,
   "metadata": {},
   "outputs": [],
   "source": [
    "df_AP_invoices = pd.read_sql(query_ap_invoices, eng_read)"
   ]
  },
  {
   "cell_type": "code",
   "execution_count": null,
   "metadata": {},
   "outputs": [],
   "source": [
    "df_AP_invoices.to_excel(\"./data/df_AP_invoices_1.xlsx\")"
   ]
  },
  {
   "cell_type": "markdown",
   "metadata": {
    "id": "sozsnpHs4jbs"
   },
   "source": [
    "**Extract Purchase Order Master**"
   ]
  },
  {
   "cell_type": "code",
   "execution_count": null,
   "metadata": {
    "id": "wHEfOcUQ4jbt"
   },
   "outputs": [],
   "source": [
    "query_pos = \"SELECT * FROM KU_SRC_BI_KUST_PO\""
   ]
  },
  {
   "cell_type": "code",
   "execution_count": null,
   "metadata": {},
   "outputs": [],
   "source": [
    "df_POs = pd.read_sql(query_pos, eng_read)"
   ]
  },
  {
   "cell_type": "code",
   "execution_count": null,
   "metadata": {},
   "outputs": [],
   "source": [
    "df_POs.to_excel(\"./data/df_POs_1.xlsx\",)"
   ]
  },
  {
   "cell_type": "code",
   "execution_count": null,
   "metadata": {},
   "outputs": [],
   "source": [
    "df_POs.shape"
   ]
  },
  {
   "cell_type": "markdown",
   "metadata": {
    "id": "gFEeHdhv4jbt"
   },
   "source": [
    "**Extract Purchase Requisitions Information**"
   ]
  },
  {
   "cell_type": "code",
   "execution_count": null,
   "metadata": {
    "id": "JGK_6YiQ4jbt"
   },
   "outputs": [],
   "source": [
    "query_prs = \"SELECT * FROM dbo.KU_SRC_PRs\""
   ]
  },
  {
   "cell_type": "code",
   "execution_count": null,
   "metadata": {},
   "outputs": [],
   "source": [
    "df_PRs = pd.read_sql(query_prs, eng_read)"
   ]
  },
  {
   "cell_type": "code",
   "execution_count": null,
   "metadata": {},
   "outputs": [],
   "source": [
    "df_PRs.to_excel(\"./data/df_PRs.xlsx\")"
   ]
  },
  {
   "cell_type": "markdown",
   "metadata": {
    "id": "1YlL2buR4jbu"
   },
   "source": [
    "**Extract IT Tickets**"
   ]
  },
  {
   "cell_type": "code",
   "execution_count": null,
   "metadata": {
    "id": "MznKzXLf4jbu"
   },
   "outputs": [],
   "source": [
    "query_it_tickets = \"SELECT * FROM dbo.KU_SRC_IT_Tickets\""
   ]
  },
  {
   "cell_type": "code",
   "execution_count": null,
   "metadata": {},
   "outputs": [],
   "source": [
    "df_it_tickets = pd.read_sql(query_it_tickets, eng_read)"
   ]
  },
  {
   "cell_type": "code",
   "execution_count": null,
   "metadata": {},
   "outputs": [],
   "source": [
    "df_it_tickets.to_excel(\"./data/df_it_tickets.xlsx\")"
   ]
  },
  {
   "cell_type": "markdown",
   "metadata": {
    "id": "W-3uTFEM4jbu"
   },
   "source": [
    "**Extract Supplier Information**"
   ]
  },
  {
   "cell_type": "code",
   "execution_count": null,
   "metadata": {
    "id": "11M08s704jbu"
   },
   "outputs": [],
   "source": [
    "query_supplier_master = \"SELECT * FROM dbo.KU_SRC_Suppliers\""
   ]
  },
  {
   "cell_type": "code",
   "execution_count": null,
   "metadata": {},
   "outputs": [],
   "source": [
    "df_supplier_master = pd.read_sql(query_supplier_master, eng_read)"
   ]
  },
  {
   "cell_type": "code",
   "execution_count": null,
   "metadata": {},
   "outputs": [],
   "source": [
    "df_supplier_master.to_excel(\"./data/df_supplier_master.xlsx\")"
   ]
  },
  {
   "cell_type": "markdown",
   "metadata": {
    "id": "HEYfW8Mb4jbu"
   },
   "source": [
    "## Write into SQL Server"
   ]
  },
  {
   "cell_type": "markdown",
   "metadata": {
    "id": "eP6Z9JwI4jbv"
   },
   "source": [
    "For writing files / exceptions into SQL Server, the following code can be utilized:\n",
    "\n",
    "<div class=\"alert alert-block alert-warning\">\n",
    "<b>Example:</b> Code = [dataframe].to_sql(\"[Name of table / database]\", conn) </div>\n",
    "\n",
    "where dataframe is the name of the pandas dataframe\n",
    "to_sql writes into the SQL server\n",
    "Name of table / database is the name of the database in the SQL server\n",
    "conn is the connection established to the SQL server"
   ]
  },
  {
   "cell_type": "markdown",
   "metadata": {
    "id": "uxZND2N24jbv"
   },
   "source": [
    "# Scripts for Student, Procurement and Finance Master Data"
   ]
  },
  {
   "cell_type": "markdown",
   "metadata": {
    "id": "hBV2ZTOZ4jbv"
   },
   "source": [
    "# 1. Student Master Data"
   ]
  },
  {
   "cell_type": "markdown",
   "metadata": {
    "id": "kFrfQkaT4jbw"
   },
   "source": [
    "Pandas dataframe library within python enables to import information from any database including SQL, Excel, Text, JSON, etc. To utilize Pandas Dataframe, it is important to designate the type of read access.\n",
    "\n",
    "For importing from excel database the following naming convention is used:\n",
    "\n",
    "<div class=\"alert alert-block alert-warning\">\n",
    "<b>Example:</b> df_[type of database]_[master] = pd.read_excel(\"[Name of file].xlsx\") </div>"
   ]
  },
  {
   "cell_type": "code",
   "execution_count": null,
   "metadata": {
    "id": "Rq6MDl-64jbw",
    "outputId": "a9f88bba-5638-42bc-eccf-cc421a33dc60",
    "scrolled": false
   },
   "outputs": [],
   "source": [
    "df_student_master.head(5)"
   ]
  },
  {
   "cell_type": "markdown",
   "metadata": {
    "id": "K-mgXQYT4jbx"
   },
   "source": [
    "## 1.1 Duplicate Student Records (Frequency: semi-annual - based on admission cycle)"
   ]
  },
  {
   "cell_type": "markdown",
   "metadata": {
    "id": "6w0DFwDz4jbx"
   },
   "source": [
    "### 1.1 Overall Duplicates"
   ]
  },
  {
   "cell_type": "markdown",
   "metadata": {
    "id": "GGw-HfeH4jbx"
   },
   "source": [
    "The below set of scripts enable the user to identify the duplicates in student master data based on **student ID, student names, emirates ID, passport details and length of emirates ID**.\n",
    "\n",
    "Additionally, the script can further be modified to track active and inactive students to identify the admission of academically dismissed students to further test the re-admission of such students as per KU policies and procedures."
   ]
  },
  {
   "cell_type": "code",
   "execution_count": null,
   "metadata": {
    "id": "eFRMbr644jbx"
   },
   "outputs": [],
   "source": [
    "df_student_master_duplicate = df_student_master[df_student_master.duplicated()]"
   ]
  },
  {
   "cell_type": "code",
   "execution_count": null,
   "metadata": {
    "id": "iRGdFl284jby",
    "outputId": "9ecf7b4e-fac4-432c-8398-617175283de9"
   },
   "outputs": [],
   "source": [
    "df_student_master_duplicate"
   ]
  },
  {
   "cell_type": "markdown",
   "metadata": {
    "id": "2zaSLoqx4jby"
   },
   "source": [
    "### 1.1.2 Student ID Duplicates"
   ]
  },
  {
   "cell_type": "markdown",
   "metadata": {
    "id": "E9UfI-xs4jby"
   },
   "source": [
    "Student ID line items are stored in the database as column name **\"ID\"**. Therefore, to identify the duplicates, the script is enabled on column name \"ID\"."
   ]
  },
  {
   "cell_type": "code",
   "execution_count": null,
   "metadata": {
    "id": "FXhNUOTX4jby"
   },
   "outputs": [],
   "source": [
    "df_student_master_duplicate = df_student_master[df_student_master.duplicated(['ID'])]"
   ]
  },
  {
   "cell_type": "code",
   "execution_count": null,
   "metadata": {
    "id": "cd7M0M5O4jbz",
    "outputId": "e1d55729-d080-4280-9626-65a57563d06a"
   },
   "outputs": [],
   "source": [
    "df_student_master_duplicate"
   ]
  },
  {
   "cell_type": "markdown",
   "metadata": {
    "id": "EspQt3yo4jbz"
   },
   "source": [
    "### 1.1.3 Student Names Duplicates"
   ]
  },
  {
   "cell_type": "markdown",
   "metadata": {
    "id": "QpBiHZel4jbz"
   },
   "source": [
    "Student Names line items are stored in the database as column name **\"FULL_NAME\"**. Therefore, to identify the duplicates, the script is enabled on column name \"FULL_NAME\"."
   ]
  },
  {
   "cell_type": "code",
   "execution_count": null,
   "metadata": {
    "id": "LhdufyBt4jbz"
   },
   "outputs": [],
   "source": [
    "df_student_master_duplicate = df_student_master[df_student_master.duplicated(['FULL_NAME'])]"
   ]
  },
  {
   "cell_type": "code",
   "execution_count": null,
   "metadata": {
    "id": "CEKcDCW-4jb0",
    "outputId": "104405b1-6061-4eda-8f9e-1944b74c9e9f",
    "scrolled": true
   },
   "outputs": [],
   "source": [
    "df_student_master_duplicate"
   ]
  },
  {
   "cell_type": "code",
   "execution_count": null,
   "metadata": {},
   "outputs": [],
   "source": [
    "df_comparison = pd.merge(df_student_master, df_student_master_duplicate, on='FULL_NAME', how='inner')\n",
    "df_comparison.head(5)"
   ]
  },
  {
   "cell_type": "code",
   "execution_count": null,
   "metadata": {
    "id": "sGZRoXef4jb0"
   },
   "outputs": [],
   "source": [
    "df_student_master_duplicate.to_sql(\"Dup_Student_Records\", eng_write)"
   ]
  },
  {
   "cell_type": "markdown",
   "metadata": {
    "id": "aH3yCULz4jb0"
   },
   "source": [
    "### 1.1.4 Emirates ID Duplicate"
   ]
  },
  {
   "cell_type": "markdown",
   "metadata": {
    "id": "KFc3w74S4jb1"
   },
   "source": [
    "Student Emirates ID line items are stored in the database as column name **\"EMIRATES_ID\"**. Therefore, to identify the duplicates, the script is enabled on column name \"EMIRATES_ID\"."
   ]
  },
  {
   "cell_type": "code",
   "execution_count": null,
   "metadata": {
    "id": "y4HE4tea4jb1"
   },
   "outputs": [],
   "source": [
    "df_student_master_duplicate = df_student_master[df_student_master.duplicated(['EMIRATES_ID'])]"
   ]
  },
  {
   "cell_type": "code",
   "execution_count": null,
   "metadata": {
    "id": "EH8E-5Gp4jb1",
    "outputId": "59199f53-6c80-4f98-a887-cef196d87bcd",
    "scrolled": true
   },
   "outputs": [],
   "source": [
    "df_student_master_duplicate"
   ]
  },
  {
   "cell_type": "code",
   "execution_count": null,
   "metadata": {},
   "outputs": [],
   "source": [
    "df_comparison = pd.merge(df_student_master, df_student_master_duplicate, on='EMIRATES_ID', how='inner')\n",
    "df_comparison.head(5)"
   ]
  },
  {
   "cell_type": "code",
   "execution_count": null,
   "metadata": {
    "id": "RJO4nnwC4jb2"
   },
   "outputs": [],
   "source": [
    "# df_student_master_duplicate.to_sql(\"Dup_Student_Records_EmiratesID\", eng_write)"
   ]
  },
  {
   "cell_type": "markdown",
   "metadata": {
    "id": "VCr5RR_A4jb2"
   },
   "source": [
    "### 1.1.5 Emirates ID"
   ]
  },
  {
   "cell_type": "markdown",
   "metadata": {
    "id": "iMCmTkdR4jb2"
   },
   "source": [
    "Emirates ID across the UAE contain exactly 15 digits, any deviation to the length of Emirates ID is an invalid detail. To identify such discrepancies, we utilize the **str.len() function** of python which counts the number of characters of each cell in the column.\n",
    "\n",
    "Further, we filter the results for more than and less than **15 digits to identify discrepancies**.\n",
    "\n",
    "We noted many student details did not contain Emirates ID details and such students are discarded as part of the test since all those students are inactive."
   ]
  },
  {
   "cell_type": "code",
   "execution_count": null,
   "metadata": {
    "id": "0L6a2Du44jb2"
   },
   "outputs": [],
   "source": [
    "df_student_master['Length'] = df_student_master['EMIRATES_ID'].str.len()"
   ]
  },
  {
   "cell_type": "code",
   "execution_count": null,
   "metadata": {
    "id": "DC7SjjRI4jb3"
   },
   "outputs": [],
   "source": [
    "df_student_master_EID = df_student_master[(df_student_master['Length'] < 15) | (df_student_master['Length'] > 15)]"
   ]
  },
  {
   "cell_type": "code",
   "execution_count": null,
   "metadata": {
    "id": "ZMwGApcq4jb3",
    "outputId": "5a2e93f7-2712-4933-9161-99a53fbbd7cf"
   },
   "outputs": [],
   "source": [
    "df_student_master_EID"
   ]
  },
  {
   "cell_type": "code",
   "execution_count": null,
   "metadata": {
    "id": "JXmsi_zz4jb3"
   },
   "outputs": [],
   "source": [
    "df_student_master_EID.to_sql(\"Dup_Student_Records_EID_Length\", eng_write)"
   ]
  },
  {
   "cell_type": "markdown",
   "metadata": {
    "id": "cS7mDvXt4jb3"
   },
   "source": [
    "### 1.1.6 Passport"
   ]
  },
  {
   "cell_type": "markdown",
   "metadata": {
    "id": "ijFk_UCU4jb4"
   },
   "source": [
    "Student Passport Details line items are stored in the database as column name **\"PASSPORT_ID\"**. Therefore, to identify the duplicates, the script is enabled on column name \"PASSPORT_ID\".\n",
    "\n",
    "Additionally, we can also filter results for all active students for whom the passport details are not entered in the system. This test is necessary for international / students of other nationalities."
   ]
  },
  {
   "cell_type": "code",
   "execution_count": null,
   "metadata": {
    "id": "vohrmuo34jb4"
   },
   "outputs": [],
   "source": [
    "df_student_master_Passport = df_student_master[(df_student_master['STUDENT_STATUS'] == 'Active') & (df_student_master['PASSPORT_ID'] == \"NULL\")]"
   ]
  },
  {
   "cell_type": "code",
   "execution_count": null,
   "metadata": {
    "id": "8AW_oiln4jb4",
    "outputId": "948ef47d-9c6c-4983-abef-8e14354f94a1"
   },
   "outputs": [],
   "source": [
    "df_student_master_Passport"
   ]
  },
  {
   "cell_type": "markdown",
   "metadata": {
    "id": "yXkzCQYp4jb4"
   },
   "source": [
    "We can also test for the length in digits for passport details, however the details may or may not be accurate as the number of digits for passport differs across countries / nations."
   ]
  },
  {
   "cell_type": "code",
   "execution_count": null,
   "metadata": {
    "id": "jXLUjrtt4jb5"
   },
   "outputs": [],
   "source": [
    "df_student_master['Passport_Length'] = df_student_master['PASSPORT_ID'].str.len()"
   ]
  },
  {
   "cell_type": "code",
   "execution_count": null,
   "metadata": {
    "id": "ACUQPtBi4jb5",
    "outputId": "b9b5263d-c614-412b-d82d-ecddbc579649"
   },
   "outputs": [],
   "source": [
    "df_student_master['Passport_Length']"
   ]
  },
  {
   "cell_type": "code",
   "execution_count": null,
   "metadata": {
    "id": "PKbhSr_84jb5"
   },
   "outputs": [],
   "source": [
    "df_student_master_Passport = df_student_master[(df_student_master['STUDENT_STATUS'] == 'Active') & (df_student_master['Passport_Length'] < 7)]"
   ]
  },
  {
   "cell_type": "code",
   "execution_count": null,
   "metadata": {
    "id": "Tm9B33tN4jb5",
    "outputId": "d8eca28b-061f-4783-ed82-8ccd8a2e3092",
    "scrolled": true
   },
   "outputs": [],
   "source": [
    "df_student_master_Passport"
   ]
  },
  {
   "cell_type": "code",
   "execution_count": null,
   "metadata": {
    "id": "KOLY49RG4jb6"
   },
   "outputs": [],
   "source": [
    "df_student_master_Passport.to_sql(\"Dup_Student_Records_Passport\", eng_write)"
   ]
  },
  {
   "cell_type": "markdown",
   "metadata": {
    "id": "hTFG7UVo4jb6"
   },
   "source": [
    "## 1.2 Re-admission of previous students (Frequency: semi-annual - based on admission cycle)"
   ]
  },
  {
   "cell_type": "markdown",
   "metadata": {
    "id": "YKukmCvV4jb7"
   },
   "source": [
    "Students at Khalifa University may be re-admitted based on appopriate approvals from Academic Management. To analyze the re-admitted students, we can identify the students admitted based on same Emirates ID versus the previous inactive accounts.\n",
    "\n",
    "This will require to analyze the output report to identify such instances as one column does not notify of re-admission."
   ]
  },
  {
   "cell_type": "code",
   "execution_count": null,
   "metadata": {
    "id": "rGGnzgK44jb7",
    "outputId": "afe562d7-552e-4594-bd56-6821a12e735a"
   },
   "outputs": [],
   "source": [
    "df_student_master.head(5)"
   ]
  },
  {
   "cell_type": "code",
   "execution_count": null,
   "metadata": {
    "id": "_uCdbbJM4jb7"
   },
   "outputs": [],
   "source": [
    "df_student_master_Readmission = df_student_master[(df_student_master['STUDENT_STATUS'] == 'Inactive') & (df_student_master.duplicated(['PASSPORT_ID']))]"
   ]
  },
  {
   "cell_type": "code",
   "execution_count": null,
   "metadata": {
    "id": "JdZhYoi84jb7",
    "outputId": "101b1986-0012-4383-e3ee-cb2b4de8356e",
    "scrolled": true
   },
   "outputs": [],
   "source": [
    "df_student_master_Readmission"
   ]
  },
  {
   "cell_type": "code",
   "execution_count": null,
   "metadata": {
    "id": "tnexPBba4jb8"
   },
   "outputs": [],
   "source": [
    "df_student_master_Readmission.to_sql(\"Readmitted_students\", eng_write)"
   ]
  },
  {
   "cell_type": "markdown",
   "metadata": {
    "id": "IE1OmAN44jb8"
   },
   "source": [
    "## 1.3 Missing Student Information (Frequency: any frequency - weekly, monthly or quarterly to ensure adequate student information is available)"
   ]
  },
  {
   "cell_type": "markdown",
   "metadata": {
    "id": "dUxVdAOs4jb8"
   },
   "source": [
    "All active students should have complete information as per the registrar records and protocol within the master data. The below script analyzes the missing information to ensure completeness of the data.\n",
    "\n",
    "It is essential to ensure adequate information is available for all students as per SAI requirements which may affect funding received by KU."
   ]
  },
  {
   "cell_type": "markdown",
   "metadata": {
    "id": "0IJr382Z4jb8"
   },
   "source": [
    "To review the missing information, the library for isnull() is utilized which identifies the missing elements across all columns using the axis (column) technique."
   ]
  },
  {
   "cell_type": "code",
   "execution_count": null,
   "metadata": {
    "id": "OCyKhOuI4jb9",
    "outputId": "f88478d4-64b4-412a-b992-49ced05aed3c"
   },
   "outputs": [],
   "source": [
    "df_student_master.head(5)"
   ]
  },
  {
   "cell_type": "code",
   "execution_count": null,
   "metadata": {
    "id": "gKeuo4JB4jb9",
    "outputId": "a87957e4-b734-4063-ab7b-3e3592960af6"
   },
   "outputs": [],
   "source": [
    "df_student_missing = df_student_master[df_student_master.isnull().any(axis=1)]\n",
    "df_student_missing.head(5)"
   ]
  },
  {
   "cell_type": "code",
   "execution_count": null,
   "metadata": {
    "id": "ynuGFmLX4jb9"
   },
   "outputs": [],
   "source": [
    "df_student_missing_final = df_student_missing[(df_student_missing['STUDENT_STATUS'] == 'Active')]"
   ]
  },
  {
   "cell_type": "code",
   "execution_count": null,
   "metadata": {
    "id": "YPsR-AVn4jb9",
    "outputId": "2a8976ba-7f0e-4f5e-8839-4e5839ad67c9"
   },
   "outputs": [],
   "source": [
    "df_student_missing_final.head(5)"
   ]
  },
  {
   "cell_type": "markdown",
   "metadata": {},
   "source": [
    "## 1.4 Admission requirements (Frequency: semi-annual - based on admission of students)"
   ]
  },
  {
   "cell_type": "markdown",
   "metadata": {},
   "source": [
    "Khalifa University admits students based on type of school curriculum (british, american, national, etc.). Additionally, each school curriculum has different admission requirements that the student must fulfill. \n",
    "\n",
    "However, the IT system does not store the type of school curriculum and only the name of the student. Based on the above information, the code below analyzes the minimum requirements of admission across KU and verifies the student admission based on the same.\n",
    "\n",
    "For any deviations, appropriate approvals would be required from the Dean of the University/Department and necessary Senior Management/Government which are required to be verified on case to case basis."
   ]
  },
  {
   "cell_type": "code",
   "execution_count": null,
   "metadata": {},
   "outputs": [],
   "source": [
    "##verify high school average\n",
    "\n",
    "df_student_admissioncriteria_HS = df_student_master[(df_student_master['STUDENT_STATUS']=='Active') & (df_student_master['SCHOOL_AVG']<70)]"
   ]
  },
  {
   "cell_type": "code",
   "execution_count": null,
   "metadata": {},
   "outputs": [],
   "source": [
    "##verify english scores\n",
    "\n",
    "df_student_admissioncriteria_EN = df_student_master[(df_student_master['STUDENT_STATUS']=='Active') & (df_student_master['IELTS_OVERALL']<5) | (df_student_master['TOFL_ENGLISH']<90) | (df_student_master['EMEN']<800)]"
   ]
  },
  {
   "cell_type": "code",
   "execution_count": null,
   "metadata": {},
   "outputs": [],
   "source": [
    "df_student_admissioncriteria_HS.to_sql(\"HS_Scores\", eng_write)"
   ]
  },
  {
   "cell_type": "code",
   "execution_count": null,
   "metadata": {},
   "outputs": [],
   "source": [
    "df_student_admissioncriteria_EN.to_sql(\"EN_Scores\", eng_write)"
   ]
  },
  {
   "cell_type": "markdown",
   "metadata": {
    "id": "7CwaoX4-4jb9"
   },
   "source": [
    "# 2. Student Attendance (Frequency: semi-annual - based on end of semester due to the configuration of the IT systems)"
   ]
  },
  {
   "cell_type": "markdown",
   "metadata": {
    "id": "fRKdfNVh4jb-"
   },
   "source": [
    "## 2.1 Student Attendance as per Policy"
   ]
  },
  {
   "cell_type": "markdown",
   "metadata": {
    "id": "lnJkuQv74jb-"
   },
   "source": [
    "Student Attendance in Khalifa University as per the policies and procedures, follow two different protocols:\n",
    "\n",
    "- 80% and above for undergraduates\n",
    "- 50% and above for graduates\n",
    "\n",
    "For the same, we analyze the student attendance master data in the following manner:\n",
    "\n",
    "- Identify the Total Classes in the semester\n",
    "- Calculate the %age of absences using the new Total Classes figure and number of absences\n",
    "- Identify discrepancies of more than 20% and registration status as \"RE\" (RE refers to still registered)\n",
    "\n",
    "<div class=\"alert alert-block alert-warning\">\n",
    "<b>Example:</b>((Total Classes)/(Total Absences))*100; Highlight all exceptions</div>"
   ]
  },
  {
   "cell_type": "code",
   "execution_count": null,
   "metadata": {
    "id": "qxrke83n4jb-"
   },
   "outputs": [],
   "source": [
    "##import master data for excel\n",
    "\n",
    "## df_student_attendance = pd.read_excel(\"C:/Users/prabhjotsingh3/OneDrive - KPMG/Documents/2021 Projects/Khalifa University/Project/Data/Student Attendance Data.xlsx\")"
   ]
  },
  {
   "cell_type": "code",
   "execution_count": null,
   "metadata": {
    "id": "3pIQsvdj4jb-",
    "outputId": "e2f3fa10-a0a4-4512-f721-770044c62623",
    "scrolled": true
   },
   "outputs": [],
   "source": [
    "df_student_attendance.head()"
   ]
  },
  {
   "cell_type": "code",
   "execution_count": null,
   "metadata": {
    "id": "DjFoMAW14jb-"
   },
   "outputs": [],
   "source": [
    "df_student_attendance['Total Classes'] = df_student_attendance[\"TOTAL_ABSENCES\"]+df_student_attendance[\"TOTAL_ATTENDED\"]"
   ]
  },
  {
   "cell_type": "code",
   "execution_count": null,
   "metadata": {
    "id": "Co9vQEkY4jb-"
   },
   "outputs": [],
   "source": [
    "df_student_attendance['Absence Percentage'] = (df_student_attendance['TOTAL_ABSENCES']/df_student_attendance['Total Classes'])*100"
   ]
  },
  {
   "cell_type": "code",
   "execution_count": null,
   "metadata": {
    "id": "DbTK237i4jb-"
   },
   "outputs": [],
   "source": [
    "df_student_attendance_exception = df_student_attendance[(df_student_attendance['Absence Percentage']>20) & (df_student_attendance['REG_STATUS']==\"RE\")]"
   ]
  },
  {
   "cell_type": "code",
   "execution_count": null,
   "metadata": {
    "id": "wLYcHxJw4jb_",
    "outputId": "259d6171-39e8-4a3a-af62-0938d514b9a2",
    "scrolled": true
   },
   "outputs": [],
   "source": [
    "df_student_attendance_exception"
   ]
  },
  {
   "cell_type": "code",
   "execution_count": null,
   "metadata": {
    "id": "1cuuUROz4jb_"
   },
   "outputs": [],
   "source": [
    "## write into excel; if required\n",
    "\n",
    "## df_student_attendance_exception.to_excel(\"C:/Users/prabhjotsingh3/OneDrive - KPMG/Documents/2021 Projects/Khalifa University/Project/Analysis/Attendance Exception.xlsx\")"
   ]
  },
  {
   "cell_type": "code",
   "execution_count": null,
   "metadata": {
    "id": "I2OasTOl4jb_"
   },
   "outputs": [],
   "source": [
    "df_student_attendance_exception.to_sql(\"Student_Attendance\", eng_write)"
   ]
  },
  {
   "cell_type": "markdown",
   "metadata": {
    "id": "fE7yQ2WA4jb_"
   },
   "source": [
    "# 3. Student Courses (Frequency: as per requirement - can be based on admission/registration cycle and the cool-off period for changing courses for students)"
   ]
  },
  {
   "cell_type": "markdown",
   "metadata": {
    "id": "eypyqs5a4jb_"
   },
   "source": [
    "The below mentioned data source is imported to analyze the student courses within Khalifa University"
   ]
  },
  {
   "cell_type": "code",
   "execution_count": null,
   "metadata": {
    "id": "gn6TW8IZ4jb_"
   },
   "outputs": [],
   "source": [
    "## import master data for excel\n",
    "\n",
    "## df_student_courses = pd.read_excel(\"C:/Users/prabhjotsingh3/OneDrive - KPMG/Documents/2021 Projects/Khalifa University/Project/Data/Student Course Data.xlsx\")"
   ]
  },
  {
   "cell_type": "code",
   "execution_count": null,
   "metadata": {
    "id": "U3E3RTBK4jb_",
    "outputId": "b341a957-766f-47f3-daa9-933e0bb8e9a7",
    "scrolled": true
   },
   "outputs": [],
   "source": [
    "df_student_courses"
   ]
  },
  {
   "cell_type": "markdown",
   "metadata": {
    "id": "31nFyzFh4jcA"
   },
   "source": [
    "## 3.1 Student Max Enrollment"
   ]
  },
  {
   "cell_type": "markdown",
   "metadata": {
    "id": "yWp6mz3H4jcA"
   },
   "source": [
    "Each course in Khalifa University has a maximum alloted number of students based on classroom size and in compliance with CAA standards to maintain student to faculty ratio.\n",
    "\n",
    "As per the below analysis, we identified the maximum number of students as per a course (MAX_ENROLLMENT_ALLOWED_CRN) versus the number of students registered (NBR_REGISTERED_CRN) for the semester.\n",
    "\n",
    "All exceptions are noted and identified\n",
    "\n",
    "<div class=\"alert alert-block alert-warning\">\n",
    "<b>Example:</b>(Maximum number of students enrolled in a CRN) - (Number of students registered in a CRN); Highlight all exceptions</div>"
   ]
  },
  {
   "cell_type": "code",
   "execution_count": null,
   "metadata": {
    "id": "1Dm56Pai4jcA"
   },
   "outputs": [],
   "source": [
    "df_student_courses['Above Max Enrollment'] = df_student_courses['MAX_ENROLLMENT_ALLOWED_CRN'] - df_student_courses['NBR_REGISTERED_STUDENTS_CRN'] "
   ]
  },
  {
   "cell_type": "code",
   "execution_count": null,
   "metadata": {
    "id": "SmCWs42i4jcA"
   },
   "outputs": [],
   "source": [
    "df_student_courses_max = df_student_courses[df_student_courses['Above Max Enrollment'] <0]"
   ]
  },
  {
   "cell_type": "code",
   "execution_count": null,
   "metadata": {
    "id": "0rqn9D0K4jcA",
    "outputId": "f9c3388f-076c-42a6-a7ab-6fc634049b57"
   },
   "outputs": [],
   "source": [
    "df_student_courses_max"
   ]
  },
  {
   "cell_type": "code",
   "execution_count": null,
   "metadata": {
    "id": "vLMBvrIO4jcA"
   },
   "outputs": [],
   "source": [
    "## write into excel; if required\n",
    "\n",
    "## df_student_courses_max.to_excel('C:/Users/prabhjotsingh3/OneDrive - KPMG/Documents/2021 Projects/Khalifa University/Project/Analysis/Above Max Enrollment.xlsx')"
   ]
  },
  {
   "cell_type": "code",
   "execution_count": null,
   "metadata": {
    "id": "VpoyD0Mo4jcA"
   },
   "outputs": [],
   "source": [
    "df_student_courses_max.to_sql(\"Above_Max_Courses\", eng_write)"
   ]
  },
  {
   "cell_type": "markdown",
   "metadata": {
    "id": "g9VpvAGk4jcA"
   },
   "source": [
    "## 3.2 Scheduling of Courses"
   ]
  },
  {
   "cell_type": "markdown",
   "metadata": {
    "id": "8sB0VgQf4jcB"
   },
   "source": [
    "The below code analyzes the student courses schedule the same instructor / instructors during the same slot on multiple different days / periods. However, on analysis the output below showcases due to the multiple instructors assigned for each individual course, the exceptions are not valid.\n",
    "\n",
    "As a recommendation, the output should be analyzed prior to reporting instances."
   ]
  },
  {
   "cell_type": "code",
   "execution_count": null,
   "metadata": {
    "id": "NwwgCHPt4jcB"
   },
   "outputs": [],
   "source": [
    "df_student_courses_exception = df_student_courses[(df_student_courses.duplicated(['INSTRUCTOR_NAME','SCHEDULE_START_TIME','SCHEDULE_END_TIME','SUN']) | \n",
    "                                                                    df_student_courses.duplicated(['INSTRUCTOR_NAME','SCHEDULE_START_TIME','SCHEDULE_END_TIME','MON']) |\n",
    "                                                                    df_student_courses.duplicated(['INSTRUCTOR_NAME','SCHEDULE_START_TIME','SCHEDULE_END_TIME','TUE']) |\n",
    "                                                                    df_student_courses.duplicated(['INSTRUCTOR_NAME','SCHEDULE_START_TIME','SCHEDULE_END_TIME','WED']) |\n",
    "                                                                    df_student_courses.duplicated(['INSTRUCTOR_NAME','SCHEDULE_START_TIME','SCHEDULE_END_TIME','THU']))\n",
    "                                                                    & df_student_courses['SUN'].notna()]"
   ]
  },
  {
   "cell_type": "code",
   "execution_count": null,
   "metadata": {
    "id": "wdeXQ3-e4jcB",
    "outputId": "c7087e2e-eeea-48ae-95d4-62e004b56d0e"
   },
   "outputs": [],
   "source": [
    "df_student_courses_exception"
   ]
  },
  {
   "cell_type": "code",
   "execution_count": null,
   "metadata": {
    "id": "_N3IRcQC4jcB"
   },
   "outputs": [],
   "source": [
    "## write into excel; if required\n",
    "\n",
    "## df_student_courses_schedule_exception.to_excel(\"C:/Users/prabhjotsingh3/OneDrive - KPMG/Documents/2021 Projects/Khalifa University/Project/Analysis/Student Courses.xlsx\")"
   ]
  },
  {
   "cell_type": "code",
   "execution_count": null,
   "metadata": {
    "id": "nK9pazP24jcB"
   },
   "outputs": [],
   "source": [
    "df_student_courses_exception.to_sql(\"Duplicate_Course_Schedule\", eng_write)"
   ]
  },
  {
   "cell_type": "markdown",
   "metadata": {
    "id": "fOcGGOSl4jcB"
   },
   "source": [
    "# 4. Human Resources (Frequency: as per requirement - weekly, monthy or annually)"
   ]
  },
  {
   "cell_type": "markdown",
   "metadata": {
    "id": "osI7cJz84jcC"
   },
   "source": [
    "The below code analyzes the duplicate employee accounts, emirates ID, employee leaves, bank details and missing information for employees. For each analysis the scripts generate different outputs stored as multiple links. Below are the in-built logic drivers:\n",
    "\n",
    "1. Employee accounts - duplicates identified based on employee number and person ID\n",
    "2. Employee leaves - identify all types of leaves availed for more than 60 day period. The output should be analyzed for consistency as maternity leave can vary\n",
    "3. Bank details - duplicate bank details / incorrect bank details for employees are highlighted\n",
    "4. Missing information - key missing information across the HR data is highlighted such as emirates id, contract date etc. for active employees as per the data source\n",
    "5. Contract date - to analyze if any active employees are working in Khalifa University without valid contracts"
   ]
  },
  {
   "cell_type": "code",
   "execution_count": null,
   "metadata": {
    "id": "YW6_dRTV4jcC"
   },
   "outputs": [],
   "source": [
    "## import master data for excel\n",
    "\n",
    "## df_employee_master = pd.read_excel(\"C:/Users/prabhjotsingh3/OneDrive - KPMG/Documents/2021 Projects/Khalifa University/Project/Data/HR Master Data.xlsx\")"
   ]
  },
  {
   "cell_type": "code",
   "execution_count": null,
   "metadata": {
    "id": "vhH2ycfj4jcC",
    "outputId": "ff8029ca-3aa9-42a4-f8e5-2e96447f7cf5",
    "scrolled": true
   },
   "outputs": [],
   "source": [
    "df_employee_master"
   ]
  },
  {
   "cell_type": "markdown",
   "metadata": {
    "id": "iN6_kiQx4jcC"
   },
   "source": [
    "## 4.1 Duplicate Emirates ID"
   ]
  },
  {
   "cell_type": "code",
   "execution_count": null,
   "metadata": {
    "id": "I0RcJgz74jcC"
   },
   "outputs": [],
   "source": [
    "df_employee_EmiratesID = df_employee_master[df_employee_master.duplicated(['EmiratesID'])]"
   ]
  },
  {
   "cell_type": "code",
   "execution_count": null,
   "metadata": {
    "id": "eoa2V7dZ4jcC",
    "outputId": "1759bb68-482b-4d48-9300-e2d2ba3755dd",
    "scrolled": true
   },
   "outputs": [],
   "source": [
    "df_employee_EmiratesID"
   ]
  },
  {
   "cell_type": "code",
   "execution_count": null,
   "metadata": {
    "id": "zYwFA5z84jcD"
   },
   "outputs": [],
   "source": [
    "## write into excel; if required \n",
    "\n",
    "## df_employee_EmiratesID.to_excel(\"C:/Users/prabhjotsingh3/OneDrive - KPMG/Documents/2021 Projects/Khalifa University/Project/Analysis/Duplicate Employeese Emirates ID.xlsx\")"
   ]
  },
  {
   "cell_type": "code",
   "execution_count": null,
   "metadata": {
    "id": "gcMPiPmq4jcD"
   },
   "outputs": [],
   "source": [
    "df_employee_master['Length'] = df_employee_master['EmiratesID'].str.len()"
   ]
  },
  {
   "cell_type": "code",
   "execution_count": null,
   "metadata": {
    "id": "hodzTlMH4jcD"
   },
   "outputs": [],
   "source": [
    "df_employee_EID = df_employee_master[(df_employee_master['Length'] < 15) | (df_employee_master['Length'] > 15)]"
   ]
  },
  {
   "cell_type": "code",
   "execution_count": null,
   "metadata": {
    "id": "SOTPJN1Q4jcD",
    "outputId": "7d8cd20d-b46a-49cd-a7dd-f655a3fb37d8"
   },
   "outputs": [],
   "source": [
    "df_employee_EID"
   ]
  },
  {
   "cell_type": "code",
   "execution_count": null,
   "metadata": {},
   "outputs": [],
   "source": [
    "df_comparison = pd.merge(df_employee_master, df_employee_EID, on='EmiratesID', how='inner')\n",
    "df_comparison.head(5)"
   ]
  },
  {
   "cell_type": "code",
   "execution_count": null,
   "metadata": {
    "id": "hn40IMzU4jcD"
   },
   "outputs": [],
   "source": [
    "## write into excel; if required\n",
    "\n",
    "## df_employee_EID.to_excel(\"C:/Users/prabhjotsingh3/OneDrive - KPMG/Documents/2021 Projects/Khalifa University/Project/Analysis/Invalid Emirates ID.xlsx\")"
   ]
  },
  {
   "cell_type": "markdown",
   "metadata": {
    "id": "_mOrXtpJ4jcD"
   },
   "source": [
    "## 4.2 Employee ID"
   ]
  },
  {
   "cell_type": "markdown",
   "metadata": {
    "id": "yuHeOv4k4jcD"
   },
   "source": [
    "Employee ID are verified to ensure no two employees are under the same employee ID.\n",
    "\n",
    "For the same, pandas library is utilized to automatically find the duplicated entries within the master data on \"Emp No\" (Employee ID) and \"PersonID\" (Old Employee ID)."
   ]
  },
  {
   "cell_type": "code",
   "execution_count": null,
   "metadata": {
    "id": "6OSni3pe4jcE"
   },
   "outputs": [],
   "source": [
    "df_employee_employeeID = df_employee_master[df_employee_master.duplicated(['EmpNo'])]"
   ]
  },
  {
   "cell_type": "code",
   "execution_count": null,
   "metadata": {
    "id": "u9auEw0H4jcE",
    "outputId": "ae7872e1-5496-4701-db88-354d99c00507"
   },
   "outputs": [],
   "source": [
    "df_employee_employeeID"
   ]
  },
  {
   "cell_type": "code",
   "execution_count": null,
   "metadata": {
    "id": "Qw0wQi_i4jcE"
   },
   "outputs": [],
   "source": [
    "df_employee_personID = df_employee_master[df_employee_master.duplicated(['PersonID'])]"
   ]
  },
  {
   "cell_type": "code",
   "execution_count": null,
   "metadata": {
    "id": "uRkr1gRD4jcE",
    "outputId": "5417ed13-7926-469e-ac7e-837feeb099ed"
   },
   "outputs": [],
   "source": [
    "df_employee_personID"
   ]
  },
  {
   "cell_type": "markdown",
   "metadata": {
    "id": "WXOxEKmk4jcE"
   },
   "source": [
    "## 4.3 Contract Date"
   ]
  },
  {
   "cell_type": "markdown",
   "metadata": {
    "id": "31uDwLmJ4jcE"
   },
   "source": [
    "The below scripts analyzes the continuance of emplyoee beyond the contract period and incase any employees are active in the system beyond the contracted period.\n",
    "\n",
    "Employee master contains two columnn namely \"Contract End\" (end date of contract) and \"HireDate\" (date of joining / continuance). By analyzing the difference between the columns, all employees beyond contracted period can be analyzed."
   ]
  },
  {
   "cell_type": "code",
   "execution_count": null,
   "metadata": {
    "id": "pJtvneh34jcE"
   },
   "outputs": [],
   "source": [
    "df_employee_master['Diff'] = df_employee_master['Contract_End'] - df_employee_master['HireDate'] "
   ]
  },
  {
   "cell_type": "code",
   "execution_count": null,
   "metadata": {
    "id": "ue8lpg7J4jcE",
    "outputId": "92125ccc-618c-4933-e053-6f9d3dcf8f5f"
   },
   "outputs": [],
   "source": [
    "df_employee_master['Diff']"
   ]
  },
  {
   "cell_type": "code",
   "execution_count": null,
   "metadata": {
    "id": "2OXOwU984jcF"
   },
   "outputs": [],
   "source": [
    "df_employee_contract = df_employee_master[(df_employee_master['Diff'] < '365')]"
   ]
  },
  {
   "cell_type": "code",
   "execution_count": null,
   "metadata": {
    "id": "gJu97OxH4jcF",
    "outputId": "66475a4a-2911-487c-c813-8c53bc46698e",
    "scrolled": true
   },
   "outputs": [],
   "source": [
    "df_employee_contract"
   ]
  },
  {
   "cell_type": "markdown",
   "metadata": {
    "id": "5JOFjuIk4jcF"
   },
   "source": [
    "## 4.4 Employee Leaves"
   ]
  },
  {
   "cell_type": "markdown",
   "metadata": {
    "id": "_w1rdinz4jcF"
   },
   "source": [
    "Employee Leaves are granted on an annual basis to each employee. Below are the exceptions that can be identified for employee who have availed a leave for beyond 60 day period for any leave type, i.e., Annual Leave, Unpaid Leave etc."
   ]
  },
  {
   "cell_type": "code",
   "execution_count": null,
   "metadata": {
    "id": "BNWZyyat4jcF",
    "outputId": "612ebefe-eb67-496f-853b-bf713d20bc1d"
   },
   "outputs": [],
   "source": [
    "#df_employee_leave = pd.read_excel(\"C:/Users/ku1016/Downloads/Employee Leave Data.xlsx\")\n",
    "df_employee_leaves.head(5)"
   ]
  },
  {
   "cell_type": "code",
   "execution_count": null,
   "metadata": {
    "id": "JG85LW1S4jcF",
    "outputId": "59bfe236-f02a-459a-e44f-88c5d2aeb08e"
   },
   "outputs": [],
   "source": [
    "df_employee_leaves['Diff'] = df_employee_leaves['LeaveEndDate'] - df_employee_leaves['LeaveStartDate']\n",
    "df_employee_leaves.head(5)"
   ]
  },
  {
   "cell_type": "code",
   "execution_count": null,
   "metadata": {
    "id": "iMK_-0sT4jcF",
    "outputId": "fa2c5cfd-794e-43a3-a850-17e969c9a7e5",
    "scrolled": true
   },
   "outputs": [],
   "source": [
    "df_employee_leave_exception = df_employee_leaves[(df_employee_leaves['Diff'] > '60 days')]\n",
    "df_employee_leave_exception"
   ]
  },
  {
   "cell_type": "code",
   "execution_count": null,
   "metadata": {
    "id": "1T8lhJNr4jcG"
   },
   "outputs": [],
   "source": [
    "df_employee_leave_exception.to_sql(\"Employee_Leaves_Exception\", eng_write)"
   ]
  },
  {
   "cell_type": "markdown",
   "metadata": {
    "id": "IR_4crKH4jcG"
   },
   "source": [
    "## 4.5 Missing Employee Information"
   ]
  },
  {
   "cell_type": "markdown",
   "metadata": {
    "id": "R_bBXL554jcG"
   },
   "source": [
    "All active employees should have complete information as per the HR records and protocol within the master data. The below script analyzes the missing information to ensure completeness of the data."
   ]
  },
  {
   "cell_type": "markdown",
   "metadata": {
    "id": "MZjXiUNG4jcG"
   },
   "source": [
    "To identify the missing values, the pandas libraries for isnull() is utilized and specifies any axis (column) to target all missing values in any column."
   ]
  },
  {
   "cell_type": "code",
   "execution_count": null,
   "metadata": {
    "id": "6G6tEsia4jcG",
    "outputId": "fe16e7e5-8af5-4339-b7b1-8c9179880600"
   },
   "outputs": [],
   "source": [
    "## df_employee_master = pd.read_excel(\"C:/Users/ku1016/Downloads/HR Employee Data.xlsx\")\n",
    "## df_employee_master.head(5)"
   ]
  },
  {
   "cell_type": "code",
   "execution_count": null,
   "metadata": {
    "id": "cmwAcGxI4jcH",
    "outputId": "a7135e92-1365-423b-f014-4ea242ac5c03"
   },
   "outputs": [],
   "source": [
    "df_employee_master.isnull()"
   ]
  },
  {
   "cell_type": "code",
   "execution_count": null,
   "metadata": {
    "id": "cXc87l7Y4jcH",
    "outputId": "983cd0b4-8fd7-4d54-b5e3-d588fa5ee3c4"
   },
   "outputs": [],
   "source": [
    "df_employee_missing = df_employee_master[df_employee_master.isnull().any(axis=1)]\n",
    "df_employee_missing.head(5)"
   ]
  },
  {
   "cell_type": "code",
   "execution_count": null,
   "metadata": {
    "id": "w22y_FDg4jcH"
   },
   "outputs": [],
   "source": [
    "df_employee_missing.to_sql(\"Missing_employee_info\",eng_write)"
   ]
  },
  {
   "cell_type": "markdown",
   "metadata": {
    "id": "qUvJ6J3H4jcH"
   },
   "source": [
    "## 4.6 Employee bank details and account number"
   ]
  },
  {
   "cell_type": "markdown",
   "metadata": {
    "id": "CfYwQc-H4jcH"
   },
   "source": [
    "For any bank details, no two employees can share the same bank details and the length of IBAN should remain constant number of digits as per the international IBAN standards (23 digits). \n",
    "\n",
    "Below are the scripts to analyze both scenarios."
   ]
  },
  {
   "cell_type": "code",
   "execution_count": null,
   "metadata": {
    "id": "ns0zIKek4jcH"
   },
   "outputs": [],
   "source": [
    "## df_employee_bank_details = pd.read_excel(\"C:/users/ku1016/downloads/Employee Bank Details.xlsx\")"
   ]
  },
  {
   "cell_type": "code",
   "execution_count": null,
   "metadata": {
    "id": "FcjlYgXc4jcH",
    "outputId": "e9fc71c5-4530-4cd8-91f4-0450a2837999"
   },
   "outputs": [],
   "source": [
    "## df_employee_bank_details.head(5)"
   ]
  },
  {
   "cell_type": "code",
   "execution_count": null,
   "metadata": {
    "id": "rY_hhKBh4jcI"
   },
   "outputs": [],
   "source": [
    "df_employee_bank_details_duplicated = df_employee_bank_details[df_employee_bank_details.duplicated(['IBAN'])]"
   ]
  },
  {
   "cell_type": "code",
   "execution_count": null,
   "metadata": {
    "id": "eDPhIW4h4jcI"
   },
   "outputs": [],
   "source": [
    "df_employee_bank_details_duplicated.to_sql(\"Duplicatee_employee_bank\", eng_write)"
   ]
  },
  {
   "cell_type": "code",
   "execution_count": null,
   "metadata": {
    "id": "3YE05sE54jcI",
    "outputId": "ea698823-394a-4cc1-b8b5-a3d172ee64e8"
   },
   "outputs": [],
   "source": [
    "df_employee_bank_details['Length of IBAN'] = df_employee_bank_details['IBAN'].str.len()\n",
    "df_employee_bank_details.head(5)"
   ]
  },
  {
   "cell_type": "code",
   "execution_count": null,
   "metadata": {
    "id": "PpZ4TwvR4jcI"
   },
   "outputs": [],
   "source": [
    "df_employee_bank_details_length = df_employee_bank_details[(df_employee_bank_details['Length of IBAN']<23)]"
   ]
  },
  {
   "cell_type": "code",
   "execution_count": null,
   "metadata": {
    "id": "hazWPicl4jcI"
   },
   "outputs": [],
   "source": [
    "df_employee_bank_details_length.to_sql(\"Incorrect_employee_IBAN\", eng_write)"
   ]
  },
  {
   "cell_type": "markdown",
   "metadata": {
    "id": "eqNb5MnJ4jcI"
   },
   "source": [
    "# Finance and Procurement (Frequency: as per requirements - weekly, monthly or annually)"
   ]
  },
  {
   "cell_type": "markdown",
   "metadata": {
    "id": "WcRZEFe54jcI"
   },
   "source": [
    "## 5.1 Supplier Master Analysis"
   ]
  },
  {
   "cell_type": "markdown",
   "metadata": {
    "id": "LzwIhrLq4jcI"
   },
   "source": [
    "The following are analyzed for the supplier master:\n",
    "\n",
    "- Duplicate supplier codes for the same supplier\n",
    "- Duplicate bank details for different suppliers\n",
    "- Duplicate TRN (Tax registration number) for different suppliers"
   ]
  },
  {
   "cell_type": "code",
   "execution_count": null,
   "metadata": {
    "id": "dz5Zc3TP4jcI",
    "outputId": "543ad7c8-6cc1-4b07-f34f-74f7617df3de"
   },
   "outputs": [],
   "source": [
    "## df_supplier_master = pd.read_excel(\"C:/users/ku1016/downloads/Supplier Master.xlsx\")\n",
    "## df_supplier_master.head(5)"
   ]
  },
  {
   "cell_type": "code",
   "execution_count": null,
   "metadata": {
    "id": "Co3mH1er4jcJ",
    "outputId": "4787be9e-e56d-4e4c-bb98-5e3fe97ef220"
   },
   "outputs": [],
   "source": [
    "df_supplier_master_duplicate = df_supplier_master[df_supplier_master.duplicated(['SUPPLIER_NO'])]\n",
    "df_supplier_master_duplicate"
   ]
  },
  {
   "cell_type": "code",
   "execution_count": null,
   "metadata": {},
   "outputs": [],
   "source": [
    "df_comparison = pd.merge(df_supplier_master, df_supplier_master_duplicate, on='SUPPLIER_NO', how='inner')\n",
    "df_comparison.head(5)"
   ]
  },
  {
   "cell_type": "code",
   "execution_count": null,
   "metadata": {
    "id": "wddFo8l34jcJ"
   },
   "outputs": [],
   "source": [
    "df_supplier_master_duplicate.to_sql(\"Duplicate_suppliers_same_entity\", eng_write)"
   ]
  },
  {
   "cell_type": "markdown",
   "metadata": {
    "id": "Swzk-4R_4jcJ"
   },
   "source": [
    "The below output will require analysis to ensure the TRN duplicates are based on different suppliers and not the same supplier. The reason for the analysis is due to the fact Khalifa University registers the same vendor for the same entity twice based on minor tweaks.\n",
    "\n",
    "As a recommendation, Internal Audit should recommend to establish 1 vendor across Khalifa University or remove the duplicated vendors registered multiple times for the same entity."
   ]
  },
  {
   "cell_type": "code",
   "execution_count": null,
   "metadata": {
    "id": "MY2MNhhS4jcJ",
    "outputId": "4ae3a17d-7bd8-4b9c-db79-bd58e876ddc0"
   },
   "outputs": [],
   "source": [
    "df_supplier_master_TRN = df_supplier_master[df_supplier_master.duplicated(['TAX_REGISTRATION_NUM','OPERATING_UNIT','CITY'])]\n",
    "df_supplier_master_TRN"
   ]
  },
  {
   "cell_type": "code",
   "execution_count": null,
   "metadata": {},
   "outputs": [],
   "source": [
    "df_comparison = pd.merge(df_supplier_master, df_supplier_master_TRN, on='TAX_REGISTRATION_NUM', how='inner')\n",
    "df_comparison.head(5)"
   ]
  },
  {
   "cell_type": "code",
   "execution_count": null,
   "metadata": {
    "id": "bERGbHmy4jcJ"
   },
   "outputs": [],
   "source": [
    "df_supplier_master_TRN.to_sql(\"TRN_supplier_duplicates\", conn)"
   ]
  },
  {
   "cell_type": "markdown",
   "metadata": {
    "id": "ZTogQvhv4jcJ"
   },
   "source": [
    "The bank related details are not part of the master supplier list and has been read from the excel file shared. In case the supplier master contains the bank details, **the code will only be required to be modifie from \"df_supplier_bank\" to \"df_supplier_master\"**."
   ]
  },
  {
   "cell_type": "code",
   "execution_count": null,
   "metadata": {
    "id": "zzoZH92a4jcJ",
    "outputId": "0d6b8f07-576b-47ab-b120-3c0b952b0134"
   },
   "outputs": [],
   "source": [
    "df_supplier_bank = pd.read_excel(\"C:/users/ku1016/downloads/Supplier bank detail.xlsx\")\n",
    "df_supplier_bank.head(5)"
   ]
  },
  {
   "cell_type": "markdown",
   "metadata": {
    "id": "RUuATdlt4jcJ"
   },
   "source": [
    "The output will require analysis to ensure the IBANs are for different suppliers, since at Khalifa University **multiple active accounts are valid for same supplier with same bank details, same bank account number and same address**."
   ]
  },
  {
   "cell_type": "code",
   "execution_count": null,
   "metadata": {
    "id": "w_0UuNJl4jcK",
    "outputId": "089c19bc-67a8-499d-8d35-b4907a56ca4b"
   },
   "outputs": [],
   "source": [
    "df_supplier_bank_duplicate = df_supplier_bank[(df_supplier_bank.duplicated([\"Iban\", \"Bank Account\"])) & (df_supplier_bank['Iban'].notna())]\n",
    "df_supplier_bank_duplicate"
   ]
  },
  {
   "cell_type": "code",
   "execution_count": null,
   "metadata": {},
   "outputs": [],
   "source": [
    "df_comparison = pd.merge(df_supplier_bank, df_supplier_bank_duplicate, on='TAX_REGISTRATION_NUM', how='inner')\n",
    "df_comparison.head(5)"
   ]
  },
  {
   "cell_type": "code",
   "execution_count": null,
   "metadata": {
    "id": "bCccocUm4jcK"
   },
   "outputs": [],
   "source": [
    "df_supplier_duplicate.to_sql(\"IBAN_supplier\", conn)"
   ]
  },
  {
   "cell_type": "markdown",
   "metadata": {
    "id": "4NEj5vhi4jcK"
   },
   "source": [
    "## 5.2 Missing information for suppliers"
   ]
  },
  {
   "cell_type": "markdown",
   "metadata": {
    "id": "QN2_Ocli4jcK"
   },
   "source": [
    "All active vendors at Khalifa University are required to have valid IBAN, address and TRN numbers at a minimum. Below are the analysis:"
   ]
  },
  {
   "cell_type": "code",
   "execution_count": null,
   "metadata": {
    "id": "tfsecl4l4jcK",
    "outputId": "b465d35b-ff15-4d4d-f939-c25b4855729f"
   },
   "outputs": [],
   "source": [
    "df_supplier_missing_iban = df_supplier_bank[df_supplier_bank['Iban'].isnull()]\n",
    "df_supplier_missing_iban"
   ]
  },
  {
   "cell_type": "code",
   "execution_count": null,
   "metadata": {
    "id": "VWx77qTv4jcL"
   },
   "outputs": [],
   "source": [
    "df_supplier_missing_iban.to_sql(\"Missing_supplier_Iban\", conn)"
   ]
  },
  {
   "cell_type": "code",
   "execution_count": null,
   "metadata": {
    "id": "N1ypMvLO4jcL",
    "outputId": "407b7a39-f943-4765-ce2d-1958832fa086"
   },
   "outputs": [],
   "source": [
    "df_supplier_missing_trn = df_supplier_bank[df_supplier_bank['Tax Registration No.'].isnull()]\n",
    "df_supplier_missing_trn"
   ]
  },
  {
   "cell_type": "code",
   "execution_count": null,
   "metadata": {
    "id": "tj73eKuL4jcL"
   },
   "outputs": [],
   "source": [
    "df_supplier_missing_trn.to_sql(\"Missing_supplier_trn\", conn)"
   ]
  },
  {
   "cell_type": "markdown",
   "metadata": {
    "id": "HS2jWma-4jcL"
   },
   "source": [
    "## 5.3 AP Master - Vendor payments, duplicate invoices/payments and multiple payments"
   ]
  },
  {
   "cell_type": "markdown",
   "metadata": {
    "id": "CnH7akwm4jcL"
   },
   "source": [
    "The below scripts help to analyze the employee payments as vendor payments, duplicate invoices / payments issued or multiple payments issued to the same vendor in a short duration of time."
   ]
  },
  {
   "cell_type": "code",
   "execution_count": null,
   "metadata": {
    "id": "XuNtf0MJ4jcL",
    "outputId": "06241ce7-b234-4083-9132-0ec2b9b8d726"
   },
   "outputs": [],
   "source": [
    "## df_AP_invoices = pd.read_excel(\"C:/users/ku1016/downloads/AP Master.xlsx\")\n",
    "## df_AP_invoices.head(5)"
   ]
  },
  {
   "cell_type": "markdown",
   "metadata": {
    "id": "bSsjtZLt4jcL"
   },
   "source": [
    "In Khalifa University, employee payments are rendered as vendor payments. As per industry best practice, all employee related payments should be routed through HR payroll to ensure adequate controls are-in-place.\n",
    "\n",
    "Below are the details:"
   ]
  },
  {
   "cell_type": "code",
   "execution_count": null,
   "metadata": {
    "id": "x_h_YFqv4jcM",
    "outputId": "f6f0f62e-78cb-49be-8b63-d3538bdaa04b"
   },
   "outputs": [],
   "source": [
    "df_AP_employees = df_AP_invoices[(df_AP_invoices['VENDOR_TYPE']=='EMPLOYEE')]\n",
    "df_AP_employees"
   ]
  },
  {
   "cell_type": "code",
   "execution_count": null,
   "metadata": {
    "id": "ilfEkrsD4jcM"
   },
   "outputs": [],
   "source": [
    "df_AP_employee.to_sql(\"Employee_Payments_as_Vendor\", conn)"
   ]
  },
  {
   "cell_type": "code",
   "execution_count": null,
   "metadata": {
    "id": "cvI219Pp4jcM",
    "outputId": "26d5c979-3172-420d-cb3a-7efb07ca39a5"
   },
   "outputs": [],
   "source": [
    "df_AP_duplicate = df_AP_invoices[df_AP_invoices.duplicated()]\n",
    "df_AP_duplicate"
   ]
  },
  {
   "cell_type": "code",
   "execution_count": null,
   "metadata": {
    "id": "2zuMPIus4jcM",
    "outputId": "f1671942-c05c-4c74-f44e-6aee112ec682"
   },
   "outputs": [],
   "source": [
    "df_AP_duplicate = df_AP_invoices[(df_AP_invoices.duplicated(['VENDOR_NO','INVOICE_NUM','INVOICE_DESCRIPTION'])) & (df_AP_invoices['INVOICE_APPROVAL_STATUS'] == \"APPROVED\")]\n",
    "df_AP_duplicate"
   ]
  },
  {
   "cell_type": "code",
   "execution_count": null,
   "metadata": {
    "id": "7Vai_H_q4jcM"
   },
   "outputs": [],
   "source": [
    "df_AP_duplicate.to_sql(\"SameInvoiceNum_SameInvoiceDescription_SameVendor_Approved_Invoice\", conn)"
   ]
  },
  {
   "cell_type": "markdown",
   "metadata": {
    "id": "5a1YufCA4jcM"
   },
   "source": [
    "## 5.4 Purchase Orders"
   ]
  },
  {
   "cell_type": "markdown",
   "metadata": {
    "id": "jlvw5-tO4jcM"
   },
   "source": [
    "The below scripts enables IA Department to view all purchase orders created after the approval date of the purchase orders. Two columns utilized are \"CREATION_DATE\" (date of creation) and \"PO_APPROVED_DATE\" (date of approval)."
   ]
  },
  {
   "cell_type": "code",
   "execution_count": null,
   "metadata": {
    "id": "uf3cI5yG4jcN",
    "outputId": "4e5b4761-991e-47d2-e817-cac0198dd40c"
   },
   "outputs": [],
   "source": [
    "## df_POs = pd.read_excel(\"C:/users/ku1016/downloads/PO Master.xlsx\")\n",
    "## df_POs.head(5)"
   ]
  },
  {
   "cell_type": "code",
   "execution_count": null,
   "metadata": {
    "id": "Gi1n1skp4jcN"
   },
   "outputs": [],
   "source": [
    "df_POs['Approval'] = df_POs['PO_APPROVED_DATE']-df_POs['CREATION_DATE']"
   ]
  },
  {
   "cell_type": "code",
   "execution_count": null,
   "metadata": {
    "id": "eB-IYmhG4jcN"
   },
   "outputs": [],
   "source": [
    "df_POs.to_sql('Creation_After_Approval', conn)"
   ]
  }
 ],
 "metadata": {
  "colab": {
   "name": "Khalifa University - CACM.ipynb",
   "provenance": []
  },
  "kernelspec": {
   "display_name": "Python 3 (ipykernel)",
   "language": "python",
   "name": "python3"
  },
  "language_info": {
   "codemirror_mode": {
    "name": "ipython",
    "version": 3
   },
   "file_extension": ".py",
   "mimetype": "text/x-python",
   "name": "python",
   "nbconvert_exporter": "python",
   "pygments_lexer": "ipython3",
   "version": "3.8.11"
  }
 },
 "nbformat": 4,
 "nbformat_minor": 1
}
