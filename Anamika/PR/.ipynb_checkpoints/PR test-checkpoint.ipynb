{
 "cells": [
  {
   "cell_type": "code",
   "execution_count": 2,
   "id": "0fab0e86",
   "metadata": {},
   "outputs": [],
   "source": [
    "import pandas as pd\n",
    "import numpy as np\n",
    "import pyodbc\n",
    "import matplotlib.pyplot as plt\n",
    "from sqlalchemy import create_engine\n",
    "import datetime as dt\n",
    "import seaborn as sns"
   ]
  },
  {
   "cell_type": "code",
   "execution_count": 3,
   "id": "83795570",
   "metadata": {},
   "outputs": [],
   "source": [
    "svr_name = 'KU1ICDDWV011.kunet.ae'\n",
    "db_name_read = 'CACM'\n",
    "db_name_write = 'CACMP'\n",
    "u_name = 'cacm_user'\n",
    "u_pass = 'Welcome#123'"
   ]
  },
  {
   "cell_type": "code",
   "execution_count": 4,
   "id": "782e1d5a",
   "metadata": {},
   "outputs": [],
   "source": [
    "eng_read = create_engine(\"mssql+pyodbc://\"+u_name+\":\"+u_pass+\"@\"+svr_name+\"/\"+db_name_read+\"?driver=ODBC+Driver+17+for+SQL+Server\")\n",
    "eng_write = create_engine(\"mssql+pyodbc://\"+u_name+\":\"+u_pass+\"@\"+svr_name+\"/\"+db_name_write+\"?driver=ODBC+Driver+17+for+SQL+Server\")"
   ]
  },
  {
   "cell_type": "code",
   "execution_count": 5,
   "id": "d5c5aec3",
   "metadata": {},
   "outputs": [],
   "source": [
    "query_pr = \"select * from dbo.KU_SRC_BI_KUST_PR\"\n",
    "query_po = \"select * from dbo.KU_SRC_BI_KUST_PO\"\n",
    "query_ap = \"select * from dbo.KU_SRC_BI_KUST_ap\""
   ]
  },
  {
   "cell_type": "code",
   "execution_count": 6,
   "id": "8df63efe",
   "metadata": {},
   "outputs": [],
   "source": [
    "pr = pd.read_sql(query_pr, eng_read)\n",
    "po = pd.read_sql(query_po, eng_read)\n",
    "ap = pd.read_sql(query_ap, eng_read)"
   ]
  },
  {
   "cell_type": "code",
   "execution_count": 7,
   "id": "be0b32a0",
   "metadata": {},
   "outputs": [
    {
     "name": "stdout",
     "output_type": "stream",
     "text": [
      "<class 'pandas.core.frame.DataFrame'>\n",
      "RangeIndex: 51053 entries, 0 to 51052\n",
      "Data columns (total 56 columns):\n",
      " #   Column                     Non-Null Count  Dtype         \n",
      "---  ------                     --------------  -----         \n",
      " 0   PO_NUMBER                  51053 non-null  object        \n",
      " 1   AUTHORIZATION_STATUS       51030 non-null  object        \n",
      " 2   PO_TYPE                    51053 non-null  object        \n",
      " 3   ITEM_CATEGORY              51053 non-null  object        \n",
      " 4   ITEM_CATEGORY_DESCRIPTION  51052 non-null  object        \n",
      " 5   ITEM_CODE                  51053 non-null  object        \n",
      " 6   ITEM_DESCRIPTION           114 non-null    object        \n",
      " 7   GL_ENCUMBERED_DATE         51053 non-null  datetime64[ns]\n",
      " 8   CREATION_DATE              51053 non-null  datetime64[ns]\n",
      " 9   ENCUMBERED_AMOUNT          44843 non-null  float64       \n",
      " 10  QUANTITY_ORDERED           43068 non-null  float64       \n",
      " 11  REQUISITION_NUM            34746 non-null  object        \n",
      " 12  RATE                       51053 non-null  float64       \n",
      " 13  LINE_NUM                   51053 non-null  float64       \n",
      " 14  DISTRIBUTION_NUM           51053 non-null  float64       \n",
      " 15  UNIT_PRICE                 48590 non-null  float64       \n",
      " 16  VENDOR_ID                  51044 non-null  float64       \n",
      " 17  CLOSED_CODE                50600 non-null  object        \n",
      " 18  ENTITY_CODE                51053 non-null  object        \n",
      " 19  ENTITY_DESCRIPTION         51053 non-null  object        \n",
      " 20  LEDGER_NAME                51053 non-null  object        \n",
      " 21  PROJECT_NUM                22398 non-null  object        \n",
      " 22  PROJECT_NAME               22398 non-null  object        \n",
      " 23  PO_SUBMISION_DATE          50298 non-null  datetime64[ns]\n",
      " 24  PO_APPROVED_DATE           49193 non-null  datetime64[ns]\n",
      " 25  PROMISED_DATE              39034 non-null  datetime64[ns]\n",
      " 26  NEED_BY_DATE               30689 non-null  datetime64[ns]\n",
      " 27  PO_DESCRIPTION             26459 non-null  object        \n",
      " 28  PO_LINE_DESCRIPTION        51053 non-null  object        \n",
      " 29  PO_BUYER                   51053 non-null  object        \n",
      " 30  COST_CENTER_CODE           51053 non-null  object        \n",
      " 31  COST_CENTER_DESC           51053 non-null  object        \n",
      " 32  BUDGET_CODE                51053 non-null  object        \n",
      " 33  BUDGET_DESC                51053 non-null  object        \n",
      " 34  ACCOUNT_CODE               51053 non-null  object        \n",
      " 35  ACCOUNT_DESC               51053 non-null  object        \n",
      " 36  ACTIVITY_CODE              51053 non-null  object        \n",
      " 37  ACTIVITY_DESC              51053 non-null  object        \n",
      " 38  FUTURE1_CODE               51053 non-null  object        \n",
      " 39  FUTURE1_DESC               51053 non-null  object        \n",
      " 40  FUTURE2_CODE               51053 non-null  object        \n",
      " 41  FUTURE2_DESC               51053 non-null  object        \n",
      " 42  GL_CODE                    51053 non-null  object        \n",
      " 43  GL_DESC                    51053 non-null  object        \n",
      " 44  VENDOR_NUM                 51044 non-null  object        \n",
      " 45  VENDOR_NAME                51044 non-null  object        \n",
      " 46  VENDOR_SITE                51044 non-null  object        \n",
      " 47  CURRENCY_CODE              51053 non-null  object        \n",
      " 48  AMOUNT_ORDERED             51052 non-null  float64       \n",
      " 49  QUANTITY_DELIVERED         51053 non-null  float64       \n",
      " 50  AMOUNT_DELIVERED           50649 non-null  float64       \n",
      " 51  QUANTITY_BILLED            51053 non-null  float64       \n",
      " 52  AMOUNT_BILLED              50552 non-null  float64       \n",
      " 53  QUANTITY_CANCELLED         50503 non-null  float64       \n",
      " 54  AMOUNT_CANCELLED           49331 non-null  float64       \n",
      " 55  VENDOR_COUNTRY             51044 non-null  object        \n",
      "dtypes: datetime64[ns](6), float64(14), object(36)\n",
      "memory usage: 21.8+ MB\n"
     ]
    }
   ],
   "source": [
    "po.info()"
   ]
  },
  {
   "cell_type": "code",
   "execution_count": 17,
   "id": "975f5805",
   "metadata": {},
   "outputs": [],
   "source": [
    "sheet1 = pd.read_excel('Copy of Sourcing (competetive vs. single).xlsx',sheet_name=0)"
   ]
  },
  {
   "cell_type": "code",
   "execution_count": 18,
   "id": "70759663",
   "metadata": {},
   "outputs": [],
   "source": [
    "sheet2 = pd.read_excel('Copy of Sourcing (competetive vs. single).xlsx',sheet_name=1)"
   ]
  },
  {
   "cell_type": "code",
   "execution_count": 23,
   "id": "ad4c2fd3",
   "metadata": {},
   "outputs": [],
   "source": [
    "S2 = sheet2[['Requisition Number']].drop_duplicates()"
   ]
  },
  {
   "cell_type": "code",
   "execution_count": 27,
   "id": "bbf0ac81",
   "metadata": {},
   "outputs": [],
   "source": [
    "S1 = sheet1[['Requisition Number']].drop_duplicates()"
   ]
  },
  {
   "cell_type": "code",
   "execution_count": null,
   "id": "a875e4e8",
   "metadata": {},
   "outputs": [],
   "source": []
  }
 ],
 "metadata": {
  "kernelspec": {
   "display_name": "Python 3",
   "language": "python",
   "name": "python3"
  },
  "language_info": {
   "codemirror_mode": {
    "name": "ipython",
    "version": 3
   },
   "file_extension": ".py",
   "mimetype": "text/x-python",
   "name": "python",
   "nbconvert_exporter": "python",
   "pygments_lexer": "ipython3",
   "version": "3.8.11"
  }
 },
 "nbformat": 4,
 "nbformat_minor": 5
}
