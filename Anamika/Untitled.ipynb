{
 "cells": [
  {
   "cell_type": "code",
   "execution_count": 1,
   "id": "34608629",
   "metadata": {},
   "outputs": [],
   "source": [
    "import numpy as np"
   ]
  },
  {
   "cell_type": "code",
   "execution_count": 2,
   "id": "d729cbd5",
   "metadata": {},
   "outputs": [],
   "source": [
    "height = np.round(np.random.normal(1.75,0.20,5000),2)"
   ]
  },
  {
   "cell_type": "code",
   "execution_count": 3,
   "id": "2d935b38",
   "metadata": {},
   "outputs": [
    {
     "data": {
      "text/plain": [
       "array([1.77, 1.76, 1.44, ..., 1.7 , 1.96, 1.62])"
      ]
     },
     "execution_count": 3,
     "metadata": {},
     "output_type": "execute_result"
    }
   ],
   "source": [
    "height"
   ]
  },
  {
   "cell_type": "code",
   "execution_count": 4,
   "id": "b6a89100",
   "metadata": {},
   "outputs": [],
   "source": [
    "weight = np.round(np.random.normal(60.32,15,5000),2)"
   ]
  },
  {
   "cell_type": "code",
   "execution_count": 5,
   "id": "bee3dd9a",
   "metadata": {},
   "outputs": [],
   "source": [
    "np_city = np.column_stack((height,weight))"
   ]
  },
  {
   "cell_type": "code",
   "execution_count": 6,
   "id": "24e4c0cc",
   "metadata": {},
   "outputs": [
    {
     "data": {
      "text/plain": [
       "array([[  1.77, 102.92],\n",
       "       [  1.76,  66.55],\n",
       "       [  1.44,  55.44],\n",
       "       ...,\n",
       "       [  1.7 ,  28.41],\n",
       "       [  1.96,  77.22],\n",
       "       [  1.62,  40.42]])"
      ]
     },
     "execution_count": 6,
     "metadata": {},
     "output_type": "execute_result"
    }
   ],
   "source": [
    "np_city"
   ]
  },
  {
   "cell_type": "code",
   "execution_count": 7,
   "id": "dadf1b80",
   "metadata": {},
   "outputs": [
    {
     "data": {
      "text/plain": [
       "array([1.77, 1.76, 1.44, ..., 1.7 , 1.96, 1.62])"
      ]
     },
     "execution_count": 7,
     "metadata": {},
     "output_type": "execute_result"
    }
   ],
   "source": [
    "np_city[:,0]"
   ]
  },
  {
   "cell_type": "code",
   "execution_count": 8,
   "id": "2852fc46",
   "metadata": {},
   "outputs": [
    {
     "data": {
      "text/plain": [
       "array([102.92,  66.55,  55.44, ...,  28.41,  77.22,  40.42])"
      ]
     },
     "execution_count": 8,
     "metadata": {},
     "output_type": "execute_result"
    }
   ],
   "source": [
    "np_city[:,1]"
   ]
  },
  {
   "cell_type": "code",
   "execution_count": null,
   "id": "317f2576",
   "metadata": {},
   "outputs": [],
   "source": []
  }
 ],
 "metadata": {
  "kernelspec": {
   "display_name": "Python 3",
   "language": "python",
   "name": "python3"
  },
  "language_info": {
   "codemirror_mode": {
    "name": "ipython",
    "version": 3
   },
   "file_extension": ".py",
   "mimetype": "text/x-python",
   "name": "python",
   "nbconvert_exporter": "python",
   "pygments_lexer": "ipython3",
   "version": "3.8.11"
  }
 },
 "nbformat": 4,
 "nbformat_minor": 5
}
