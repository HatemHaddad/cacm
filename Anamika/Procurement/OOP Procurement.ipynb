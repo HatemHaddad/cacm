{
 "cells": [
  {
   "cell_type": "code",
   "execution_count": 1,
   "id": "8089c733",
   "metadata": {},
   "outputs": [],
   "source": [
    "class procurement:\n",
    "    \n",
    "    \n",
    "    def PO(self,name):\n",
    "        print('I am ' + name)"
   ]
  },
  {
   "cell_type": "code",
   "execution_count": 2,
   "id": "53d068bd",
   "metadata": {},
   "outputs": [],
   "source": [
    "audit = procurement()"
   ]
  },
  {
   "cell_type": "code",
   "execution_count": 3,
   "id": "42d570b8",
   "metadata": {},
   "outputs": [
    {
     "name": "stdout",
     "output_type": "stream",
     "text": [
      "I am PO\n"
     ]
    }
   ],
   "source": [
    "audit.PO('PO')"
   ]
  },
  {
   "cell_type": "code",
   "execution_count": null,
   "id": "f15fd610",
   "metadata": {},
   "outputs": [],
   "source": []
  }
 ],
 "metadata": {
  "kernelspec": {
   "display_name": "Python 3",
   "language": "python",
   "name": "python3"
  },
  "language_info": {
   "codemirror_mode": {
    "name": "ipython",
    "version": 3
   },
   "file_extension": ".py",
   "mimetype": "text/x-python",
   "name": "python",
   "nbconvert_exporter": "python",
   "pygments_lexer": "ipython3",
   "version": "3.8.11"
  }
 },
 "nbformat": 4,
 "nbformat_minor": 5
}
