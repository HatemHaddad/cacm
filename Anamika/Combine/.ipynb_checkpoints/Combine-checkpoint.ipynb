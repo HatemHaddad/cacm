{
 "cells": [
  {
   "cell_type": "code",
   "execution_count": 1,
   "id": "8c0a52e8",
   "metadata": {},
   "outputs": [],
   "source": [
    "import pandas as pd\n",
    "import numpy as np"
   ]
  },
  {
   "cell_type": "code",
   "execution_count": 3,
   "id": "b060ed54",
   "metadata": {},
   "outputs": [],
   "source": [
    "sheet1 = pd.read_excel('2021-2022 POs (Contracts).xlsx',sheet_name='PO Details')"
   ]
  },
  {
   "cell_type": "code",
   "execution_count": 7,
   "id": "bb5d5d25",
   "metadata": {},
   "outputs": [],
   "source": [
    "sheet1 = sheet1.drop_duplicates(subset='Purchase Order Number')"
   ]
  },
  {
   "cell_type": "code",
   "execution_count": null,
   "id": "c3d089af",
   "metadata": {},
   "outputs": [],
   "source": []
  }
 ],
 "metadata": {
  "kernelspec": {
   "display_name": "Python 3",
   "language": "python",
   "name": "python3"
  },
  "language_info": {
   "codemirror_mode": {
    "name": "ipython",
    "version": 3
   },
   "file_extension": ".py",
   "mimetype": "text/x-python",
   "name": "python",
   "nbconvert_exporter": "python",
   "pygments_lexer": "ipython3",
   "version": "3.8.11"
  }
 },
 "nbformat": 4,
 "nbformat_minor": 5
}
