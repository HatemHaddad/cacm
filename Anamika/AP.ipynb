{
 "cells": [
  {
   "cell_type": "code",
   "execution_count": 1,
   "id": "921ffdca",
   "metadata": {},
   "outputs": [],
   "source": [
    "import pandas as pd\n",
    "import numpy as np\n",
    "import pyodbc\n",
    "import seaborn as sns\n",
    "import matplotlib.pyplot as plt\n",
    "from sqlalchemy import create_engine\n",
    "import datetime as dt"
   ]
  },
  {
   "cell_type": "code",
   "execution_count": 2,
   "id": "101fe73a",
   "metadata": {},
   "outputs": [],
   "source": [
    "svr_name = 'KU1ICDDWV011.kunet.ae'\n",
    "db_name_read = 'CACM'\n",
    "db_name_write = 'CACMP'\n",
    "u_name = 'cacm_user'\n",
    "u_pass = 'Welcome#123'"
   ]
  },
  {
   "cell_type": "code",
   "execution_count": 3,
   "id": "b85d5a93",
   "metadata": {},
   "outputs": [],
   "source": [
    "eng_read = create_engine(\"mssql+pyodbc://\"+u_name+\":\"+u_pass+\"@\"+svr_name+\"/\"+db_name_read+\"?driver=ODBC+Driver+17+for+SQL+Server\")\n",
    "eng_write = create_engine(\"mssql+pyodbc://\"+u_name+\":\"+u_pass+\"@\"+svr_name+\"/\"+db_name_write+\"?driver=ODBC+Driver+17+for+SQL+Server\")"
   ]
  },
  {
   "cell_type": "code",
   "execution_count": 4,
   "id": "fcab7bb1",
   "metadata": {},
   "outputs": [],
   "source": [
    "query_pr = \"select * from dbo.KU_SRC_BI_KUST_PR\"\n",
    "query_po = \"select * from dbo.KU_SRC_BI_KUST_PO\"\n",
    "query_ap = \"select * from dbo.KU_SRC_BI_KUST_ap\""
   ]
  },
  {
   "cell_type": "code",
   "execution_count": 5,
   "id": "bc405b28",
   "metadata": {},
   "outputs": [],
   "source": [
    "pr = pd.read_sql(query_pr, eng_read)\n",
    "po = pd.read_sql(query_po, eng_read)\n",
    "ap = pd.read_sql(query_ap, eng_read)"
   ]
  },
  {
   "cell_type": "code",
   "execution_count": 6,
   "id": "d9639d0c",
   "metadata": {},
   "outputs": [],
   "source": [
    "#po.reset_index().to_sql('po',eng_write,if_exists='replace')"
   ]
  },
  {
   "cell_type": "code",
   "execution_count": 7,
   "id": "890b28e7",
   "metadata": {},
   "outputs": [],
   "source": [
    "ap['VENDOR_NAME'] = ap['VENDOR_NAME'].str.lower()"
   ]
  },
  {
   "cell_type": "code",
   "execution_count": 8,
   "id": "ed9caeed",
   "metadata": {},
   "outputs": [],
   "source": [
    "ap = ap[ap['CREATION_DATE'] >= '2021-01-01']"
   ]
  },
  {
   "cell_type": "code",
   "execution_count": 9,
   "id": "19db33d8",
   "metadata": {},
   "outputs": [],
   "source": [
    "ap[ap['VENDOR_NAME'].str.contains('center')].to_excel('center.xlsx')"
   ]
  },
  {
   "cell_type": "code",
   "execution_count": null,
   "id": "a74f033e",
   "metadata": {},
   "outputs": [],
   "source": []
  },
  {
   "cell_type": "code",
   "execution_count": 12,
   "id": "42ab70b4",
   "metadata": {},
   "outputs": [
    {
     "name": "stdout",
     "output_type": "stream",
     "text": [
      "<class 'pandas.core.frame.DataFrame'>\n",
      "Int64Index: 128038 entries, 287 to 529263\n",
      "Data columns (total 47 columns):\n",
      " #   Column                      Non-Null Count   Dtype         \n",
      "---  ------                      --------------   -----         \n",
      " 0   LEDGER_NAME                 128038 non-null  object        \n",
      " 1   VENDOR_NO                   128038 non-null  object        \n",
      " 2   VENDOR_NAME                 128038 non-null  object        \n",
      " 3   INVOICE_NUM                 128038 non-null  object        \n",
      " 4   VOUCHER_NUM                 128036 non-null  object        \n",
      " 5   INVOICE_APPROVAL_STATUS     128038 non-null  object        \n",
      " 6   INVOICE_TYPE                128038 non-null  object        \n",
      " 7   INVOICE_DESCRIPTION         86668 non-null   object        \n",
      " 8   CREATION_DATE               128038 non-null  datetime64[ns]\n",
      " 9   LINE_NUMBER                 128038 non-null  float64       \n",
      " 10  INVOICE_DISTRIBUTION_ID     128038 non-null  float64       \n",
      " 11  EXCHANGE_RATE               21549 non-null   float64       \n",
      " 12  INVOICE_DATE                128038 non-null  datetime64[ns]\n",
      " 13  GL_DATE                     128038 non-null  datetime64[ns]\n",
      " 14  INVOICE_CURRENCY_CODE       128038 non-null  object        \n",
      " 15  ENTITY_CODE                 128038 non-null  object        \n",
      " 16  ENTITY_DESCRIPTION          128038 non-null  object        \n",
      " 17  COST_CENTER_CODE            128038 non-null  object        \n",
      " 18  BUDGET_CODE                 128038 non-null  object        \n",
      " 19  ACCOUNT_CODE                128038 non-null  object        \n",
      " 20  ACTIVITY_CODE               128038 non-null  object        \n",
      " 21  FUTURE1_CODE                128038 non-null  object        \n",
      " 22  FUTURE2_CODE                128038 non-null  object        \n",
      " 23  PO_NUMBER                   50066 non-null   object        \n",
      " 24  INVOICE_DIST_AMOUNT         128038 non-null  float64       \n",
      " 25  INVOICE_DIST_BASE_AMOUNT    95369 non-null   float64       \n",
      " 26  TERMS_DATE                  128038 non-null  datetime64[ns]\n",
      " 27  PAY_GROUP_LOOKUP_CODE       128038 non-null  object        \n",
      " 28  PAYMENT_METHOD_CODE         128038 non-null  object        \n",
      " 29  PAYMENT_TERM                128038 non-null  object        \n",
      " 30  TAX_AMOUNT                  0 non-null       object        \n",
      " 31  RECEIPT_NUMBER              54924 non-null   object        \n",
      " 32  INVOICE_SUBMISSION_DATE     112217 non-null  datetime64[ns]\n",
      " 33  INVOICE_APPROVED_DATE       111060 non-null  datetime64[ns]\n",
      " 34  PAYMENT_DATE                114688 non-null  object        \n",
      " 35  RECEIPT_DATE                54924 non-null   datetime64[ns]\n",
      " 36  INVOICE_RECEIVED_DATE       128038 non-null  object        \n",
      " 37  WFAPPROVAL_STATUS           128038 non-null  object        \n",
      " 38  ACCOUNTED                   128038 non-null  object        \n",
      " 39  LINE_TYPE                   128038 non-null  object        \n",
      " 40  TAX_RATE_NAME               79114 non-null   object        \n",
      " 41  TAX_RATE                    79114 non-null   float64       \n",
      " 42  RECOVERABLE_TAX_AMOUNT      79114 non-null   float64       \n",
      " 43  NON_RECOVERABLE_TAX_AMOUNT  79114 non-null   float64       \n",
      " 44  PAYMENT_STATUS_FLAG         128038 non-null  object        \n",
      " 45  ENCUMBERED_FLAG             128038 non-null  object        \n",
      " 46  DUE_DATE                    128038 non-null  datetime64[ns]\n",
      "dtypes: datetime64[ns](8), float64(8), object(31)\n",
      "memory usage: 46.9+ MB\n"
     ]
    }
   ],
   "source": [
    "ap.info()"
   ]
  },
  {
   "cell_type": "code",
   "execution_count": null,
   "id": "471490aa",
   "metadata": {},
   "outputs": [],
   "source": [
    "data = pd.read_excel('')"
   ]
  }
 ],
 "metadata": {
  "kernelspec": {
   "display_name": "Python 3",
   "language": "python",
   "name": "python3"
  },
  "language_info": {
   "codemirror_mode": {
    "name": "ipython",
    "version": 3
   },
   "file_extension": ".py",
   "mimetype": "text/x-python",
   "name": "python",
   "nbconvert_exporter": "python",
   "pygments_lexer": "ipython3",
   "version": "3.8.11"
  }
 },
 "nbformat": 4,
 "nbformat_minor": 5
}
