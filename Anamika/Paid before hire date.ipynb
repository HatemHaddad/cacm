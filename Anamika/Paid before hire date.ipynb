{
 "cells": [
  {
   "cell_type": "code",
   "execution_count": 1,
   "id": "921ffdca",
   "metadata": {},
   "outputs": [],
   "source": [
    "import pandas as pd\n",
    "import numpy as np\n",
    "import pyodbc\n",
    "import seaborn as sns\n",
    "import matplotlib.pyplot as plt\n",
    "from sqlalchemy import create_engine"
   ]
  },
  {
   "cell_type": "code",
   "execution_count": 2,
   "id": "101fe73a",
   "metadata": {},
   "outputs": [],
   "source": [
    "svr_name = 'KU1ICDDWV011.kunet.ae'\n",
    "db_name = 'CACM'\n",
    "u_name = 'cacm_user'\n",
    "u_pass = 'Welcome#123'"
   ]
  },
  {
   "cell_type": "code",
   "execution_count": 3,
   "id": "b85d5a93",
   "metadata": {},
   "outputs": [],
   "source": [
    "eng = create_engine(\"mssql+pyodbc://\"+u_name+\":\"+u_pass+\"@\"+svr_name+\"/\"+db_name+\"?driver=ODBC+Driver+17+for+SQL+Server\")"
   ]
  },
  {
   "cell_type": "code",
   "execution_count": 4,
   "id": "fcab7bb1",
   "metadata": {},
   "outputs": [],
   "source": [
    "query_employee = \"select * from dbo.KU_SRC_EmployeeDetails\"\n",
    "query_payroll = \"select * from ADERP.dbo.KU_Payroll_All\""
   ]
  },
  {
   "cell_type": "code",
   "execution_count": 5,
   "id": "bc405b28",
   "metadata": {},
   "outputs": [],
   "source": [
    "employee = pd.read_sql(query_employee, eng)\n",
    "payroll = pd.read_sql(query_payroll,eng)"
   ]
  },
  {
   "cell_type": "code",
   "execution_count": 6,
   "id": "68cc4f16",
   "metadata": {},
   "outputs": [],
   "source": [
    "employee_hire = employee[['EmpNo','HireDate']]"
   ]
  },
  {
   "cell_type": "code",
   "execution_count": 7,
   "id": "ad3b55d5",
   "metadata": {},
   "outputs": [],
   "source": [
    "payroll['Pay Date'] = payroll['PayYear'].map(str)+'-'+payroll['PayMonth'].map(str)+'-'+str(26)"
   ]
  },
  {
   "cell_type": "code",
   "execution_count": 8,
   "id": "600a2a12",
   "metadata": {},
   "outputs": [],
   "source": [
    "payroll = payroll.astype({'Pay Date':'datetime64'})"
   ]
  },
  {
   "cell_type": "code",
   "execution_count": 9,
   "id": "b733b9fd",
   "metadata": {},
   "outputs": [],
   "source": [
    "payroll_min = payroll.groupby('EmployeeNumber')['Pay Date'].min()"
   ]
  },
  {
   "cell_type": "code",
   "execution_count": 10,
   "id": "db0309c6",
   "metadata": {},
   "outputs": [],
   "source": [
    "payroll_min = pd.DataFrame(payroll_min)"
   ]
  },
  {
   "cell_type": "code",
   "execution_count": 11,
   "id": "35e36630",
   "metadata": {},
   "outputs": [],
   "source": [
    "employee_hire = employee_hire.set_index('EmpNo')"
   ]
  },
  {
   "cell_type": "code",
   "execution_count": 12,
   "id": "3dcb50d4",
   "metadata": {},
   "outputs": [],
   "source": [
    "employee_hire =employee_hire.reset_index()"
   ]
  },
  {
   "cell_type": "code",
   "execution_count": 13,
   "id": "7ff22a46",
   "metadata": {},
   "outputs": [],
   "source": [
    "payroll_min= payroll_min.reset_index()"
   ]
  },
  {
   "cell_type": "code",
   "execution_count": 14,
   "id": "5a22a23e",
   "metadata": {},
   "outputs": [
    {
     "data": {
      "text/plain": [
       "Index(['EmpNo', 'HireDate'], dtype='object')"
      ]
     },
     "execution_count": 14,
     "metadata": {},
     "output_type": "execute_result"
    }
   ],
   "source": [
    "employee_hire.columns"
   ]
  },
  {
   "cell_type": "code",
   "execution_count": 15,
   "id": "bb61dc92",
   "metadata": {},
   "outputs": [
    {
     "data": {
      "text/plain": [
       "Index(['EmployeeNumber', 'Pay Date'], dtype='object')"
      ]
     },
     "execution_count": 15,
     "metadata": {},
     "output_type": "execute_result"
    }
   ],
   "source": [
    "payroll_min.columns"
   ]
  },
  {
   "cell_type": "code",
   "execution_count": 16,
   "id": "ae660c87",
   "metadata": {},
   "outputs": [],
   "source": [
    "output = employee_hire.merge(payroll_min,left_on='EmpNo',right_on='EmployeeNumber')"
   ]
  },
  {
   "cell_type": "code",
   "execution_count": 17,
   "id": "bc269eb6",
   "metadata": {},
   "outputs": [],
   "source": [
    "del(output['EmployeeNumber'])"
   ]
  },
  {
   "cell_type": "code",
   "execution_count": 21,
   "id": "7664db15",
   "metadata": {},
   "outputs": [
    {
     "name": "stdout",
     "output_type": "stream",
     "text": [
      "<class 'pandas.core.frame.DataFrame'>\n",
      "Int64Index: 1256 entries, 0 to 1255\n",
      "Data columns (total 3 columns):\n",
      " #   Column    Non-Null Count  Dtype         \n",
      "---  ------    --------------  -----         \n",
      " 0   EmpNo     1256 non-null   object        \n",
      " 1   HireDate  1256 non-null   datetime64[ns]\n",
      " 2   Pay Date  1256 non-null   datetime64[ns]\n",
      "dtypes: datetime64[ns](2), object(1)\n",
      "memory usage: 39.2+ KB\n"
     ]
    }
   ],
   "source": [
    "output.info()"
   ]
  },
  {
   "cell_type": "code",
   "execution_count": 22,
   "id": "a8bdeed7",
   "metadata": {},
   "outputs": [
    {
     "data": {
      "text/html": [
       "<div>\n",
       "<style scoped>\n",
       "    .dataframe tbody tr th:only-of-type {\n",
       "        vertical-align: middle;\n",
       "    }\n",
       "\n",
       "    .dataframe tbody tr th {\n",
       "        vertical-align: top;\n",
       "    }\n",
       "\n",
       "    .dataframe thead th {\n",
       "        text-align: right;\n",
       "    }\n",
       "</style>\n",
       "<table border=\"1\" class=\"dataframe\">\n",
       "  <thead>\n",
       "    <tr style=\"text-align: right;\">\n",
       "      <th></th>\n",
       "      <th>EmpNo</th>\n",
       "      <th>HireDate</th>\n",
       "      <th>Pay Date</th>\n",
       "    </tr>\n",
       "  </thead>\n",
       "  <tbody>\n",
       "    <tr>\n",
       "      <th>0</th>\n",
       "      <td>100043305</td>\n",
       "      <td>2016-01-10</td>\n",
       "      <td>2016-08-26</td>\n",
       "    </tr>\n",
       "    <tr>\n",
       "      <th>1</th>\n",
       "      <td>100049994</td>\n",
       "      <td>2018-11-13</td>\n",
       "      <td>2018-12-26</td>\n",
       "    </tr>\n",
       "    <tr>\n",
       "      <th>2</th>\n",
       "      <td>1816</td>\n",
       "      <td>2015-06-15</td>\n",
       "      <td>2018-01-26</td>\n",
       "    </tr>\n",
       "    <tr>\n",
       "      <th>3</th>\n",
       "      <td>1866</td>\n",
       "      <td>2015-12-07</td>\n",
       "      <td>2018-01-26</td>\n",
       "    </tr>\n",
       "    <tr>\n",
       "      <th>4</th>\n",
       "      <td>274</td>\n",
       "      <td>2008-12-14</td>\n",
       "      <td>2018-01-26</td>\n",
       "    </tr>\n",
       "  </tbody>\n",
       "</table>\n",
       "</div>"
      ],
      "text/plain": [
       "       EmpNo   HireDate   Pay Date\n",
       "0  100043305 2016-01-10 2016-08-26\n",
       "1  100049994 2018-11-13 2018-12-26\n",
       "2       1816 2015-06-15 2018-01-26\n",
       "3       1866 2015-12-07 2018-01-26\n",
       "4        274 2008-12-14 2018-01-26"
      ]
     },
     "execution_count": 22,
     "metadata": {},
     "output_type": "execute_result"
    }
   ],
   "source": [
    "output.head()"
   ]
  },
  {
   "cell_type": "code",
   "execution_count": 24,
   "id": "0eceb529",
   "metadata": {},
   "outputs": [],
   "source": [
    "output['Diff'] = output['Pay Date'] < output['HireDate']"
   ]
  },
  {
   "cell_type": "code",
   "execution_count": 27,
   "id": "7053da9e",
   "metadata": {},
   "outputs": [],
   "source": [
    "output['Diff']= output['Diff'].astype('int')"
   ]
  },
  {
   "cell_type": "code",
   "execution_count": 29,
   "id": "9f0a4cbf",
   "metadata": {},
   "outputs": [],
   "source": [
    "output[output['Diff'] == 1].to_excel('hire.xlsx')"
   ]
  },
  {
   "cell_type": "code",
   "execution_count": 9,
   "id": "7e30f459",
   "metadata": {},
   "outputs": [
    {
     "data": {
      "text/html": [
       "<div>\n",
       "<style scoped>\n",
       "    .dataframe tbody tr th:only-of-type {\n",
       "        vertical-align: middle;\n",
       "    }\n",
       "\n",
       "    .dataframe tbody tr th {\n",
       "        vertical-align: top;\n",
       "    }\n",
       "\n",
       "    .dataframe thead th {\n",
       "        text-align: right;\n",
       "    }\n",
       "</style>\n",
       "<table border=\"1\" class=\"dataframe\">\n",
       "  <thead>\n",
       "    <tr style=\"text-align: right;\">\n",
       "      <th></th>\n",
       "      <th>EmployeeNumber</th>\n",
       "      <th>PersonID</th>\n",
       "      <th>EmployeeGrade</th>\n",
       "      <th>PayYear</th>\n",
       "      <th>PayMonth</th>\n",
       "      <th>PayMonthNum</th>\n",
       "      <th>PayrollName</th>\n",
       "      <th>Basic</th>\n",
       "      <th>CoLA</th>\n",
       "      <th>MarketDiff</th>\n",
       "      <th>Vacation</th>\n",
       "      <th>ChildAllow</th>\n",
       "      <th>AdminStipend</th>\n",
       "      <th>ActingAllow</th>\n",
       "      <th>OtherLegacy</th>\n",
       "      <th>Gross</th>\n",
       "    </tr>\n",
       "  </thead>\n",
       "  <tbody>\n",
       "    <tr>\n",
       "      <th>0</th>\n",
       "      <td>100020235</td>\n",
       "      <td>420048.0</td>\n",
       "      <td>SG12</td>\n",
       "      <td>2016</td>\n",
       "      <td>OCT</td>\n",
       "      <td>10</td>\n",
       "      <td>KU Monthly Payroll</td>\n",
       "      <td>6206.2</td>\n",
       "      <td>9930.07</td>\n",
       "      <td>0</td>\n",
       "      <td>517</td>\n",
       "      <td>0</td>\n",
       "      <td>0</td>\n",
       "      <td>0</td>\n",
       "      <td>0.0</td>\n",
       "      <td>16653.27</td>\n",
       "    </tr>\n",
       "    <tr>\n",
       "      <th>1</th>\n",
       "      <td>100020235</td>\n",
       "      <td>420048.0</td>\n",
       "      <td>SG12</td>\n",
       "      <td>2017</td>\n",
       "      <td>APR</td>\n",
       "      <td>4</td>\n",
       "      <td>KU Monthly Payroll</td>\n",
       "      <td>8463</td>\n",
       "      <td>13541</td>\n",
       "      <td>0</td>\n",
       "      <td>705</td>\n",
       "      <td>0</td>\n",
       "      <td>0</td>\n",
       "      <td>0</td>\n",
       "      <td>0.0</td>\n",
       "      <td>22709.00</td>\n",
       "    </tr>\n",
       "    <tr>\n",
       "      <th>2</th>\n",
       "      <td>100020242</td>\n",
       "      <td>308462.0</td>\n",
       "      <td>FA5</td>\n",
       "      <td>2017</td>\n",
       "      <td>APR</td>\n",
       "      <td>4</td>\n",
       "      <td>KU Monthly Payroll</td>\n",
       "      <td>6000</td>\n",
       "      <td>8000</td>\n",
       "      <td>0</td>\n",
       "      <td>0</td>\n",
       "      <td>0</td>\n",
       "      <td>0</td>\n",
       "      <td>0</td>\n",
       "      <td>0.0</td>\n",
       "      <td>14000.00</td>\n",
       "    </tr>\n",
       "    <tr>\n",
       "      <th>3</th>\n",
       "      <td>100020242</td>\n",
       "      <td>308462.0</td>\n",
       "      <td>FA5</td>\n",
       "      <td>2017</td>\n",
       "      <td>JUN</td>\n",
       "      <td>6</td>\n",
       "      <td>KU Monthly Payroll</td>\n",
       "      <td>6000</td>\n",
       "      <td>8000</td>\n",
       "      <td>0</td>\n",
       "      <td>0</td>\n",
       "      <td>0</td>\n",
       "      <td>0</td>\n",
       "      <td>0</td>\n",
       "      <td>0.0</td>\n",
       "      <td>14000.00</td>\n",
       "    </tr>\n",
       "    <tr>\n",
       "      <th>4</th>\n",
       "      <td>100020283</td>\n",
       "      <td>420260.0</td>\n",
       "      <td>FA5</td>\n",
       "      <td>2017</td>\n",
       "      <td>JAN</td>\n",
       "      <td>1</td>\n",
       "      <td>Researcher Monthly Payroll</td>\n",
       "      <td>6000</td>\n",
       "      <td>8000</td>\n",
       "      <td>0</td>\n",
       "      <td>0</td>\n",
       "      <td>0</td>\n",
       "      <td>0</td>\n",
       "      <td>0</td>\n",
       "      <td>0.0</td>\n",
       "      <td>14000.00</td>\n",
       "    </tr>\n",
       "    <tr>\n",
       "      <th>...</th>\n",
       "      <td>...</td>\n",
       "      <td>...</td>\n",
       "      <td>...</td>\n",
       "      <td>...</td>\n",
       "      <td>...</td>\n",
       "      <td>...</td>\n",
       "      <td>...</td>\n",
       "      <td>...</td>\n",
       "      <td>...</td>\n",
       "      <td>...</td>\n",
       "      <td>...</td>\n",
       "      <td>...</td>\n",
       "      <td>...</td>\n",
       "      <td>...</td>\n",
       "      <td>...</td>\n",
       "      <td>...</td>\n",
       "    </tr>\n",
       "    <tr>\n",
       "      <th>76973</th>\n",
       "      <td>PI4575</td>\n",
       "      <td>636005.0</td>\n",
       "      <td>1 Student</td>\n",
       "      <td>2018</td>\n",
       "      <td>JUN</td>\n",
       "      <td>6</td>\n",
       "      <td>Researcher Monthly Payroll</td>\n",
       "      <td>6600</td>\n",
       "      <td>4400</td>\n",
       "      <td>0</td>\n",
       "      <td>0</td>\n",
       "      <td>0</td>\n",
       "      <td>0</td>\n",
       "      <td>0</td>\n",
       "      <td>0.0</td>\n",
       "      <td>11000.00</td>\n",
       "    </tr>\n",
       "    <tr>\n",
       "      <th>76974</th>\n",
       "      <td>PI4577</td>\n",
       "      <td>629931.0</td>\n",
       "      <td>1 Student</td>\n",
       "      <td>2018</td>\n",
       "      <td>AUG</td>\n",
       "      <td>8</td>\n",
       "      <td>Researcher Monthly Payroll</td>\n",
       "      <td>2400</td>\n",
       "      <td>1600</td>\n",
       "      <td>0</td>\n",
       "      <td>0</td>\n",
       "      <td>0</td>\n",
       "      <td>0</td>\n",
       "      <td>0</td>\n",
       "      <td>0.0</td>\n",
       "      <td>4000.00</td>\n",
       "    </tr>\n",
       "    <tr>\n",
       "      <th>76975</th>\n",
       "      <td>PI4579</td>\n",
       "      <td>636012.0</td>\n",
       "      <td>1 Student</td>\n",
       "      <td>2018</td>\n",
       "      <td>MAY</td>\n",
       "      <td>5</td>\n",
       "      <td>Researcher Monthly Payroll</td>\n",
       "      <td>2400</td>\n",
       "      <td>1600</td>\n",
       "      <td>0</td>\n",
       "      <td>0</td>\n",
       "      <td>0</td>\n",
       "      <td>0</td>\n",
       "      <td>0</td>\n",
       "      <td>0.0</td>\n",
       "      <td>4000.00</td>\n",
       "    </tr>\n",
       "    <tr>\n",
       "      <th>76976</th>\n",
       "      <td>PI4580</td>\n",
       "      <td>635964.0</td>\n",
       "      <td>1 Student</td>\n",
       "      <td>2019</td>\n",
       "      <td>OCT</td>\n",
       "      <td>10</td>\n",
       "      <td>Researcher Monthly Payroll</td>\n",
       "      <td>0</td>\n",
       "      <td>0</td>\n",
       "      <td>0</td>\n",
       "      <td>0</td>\n",
       "      <td>0</td>\n",
       "      <td>0</td>\n",
       "      <td>0</td>\n",
       "      <td>0.0</td>\n",
       "      <td>0.00</td>\n",
       "    </tr>\n",
       "    <tr>\n",
       "      <th>76977</th>\n",
       "      <td>PI4580</td>\n",
       "      <td>635964.0</td>\n",
       "      <td>1 Student</td>\n",
       "      <td>2019</td>\n",
       "      <td>SEP</td>\n",
       "      <td>9</td>\n",
       "      <td>Researcher Monthly Payroll</td>\n",
       "      <td>0</td>\n",
       "      <td>0</td>\n",
       "      <td>0</td>\n",
       "      <td>0</td>\n",
       "      <td>0</td>\n",
       "      <td>0</td>\n",
       "      <td>0</td>\n",
       "      <td>0.0</td>\n",
       "      <td>0.00</td>\n",
       "    </tr>\n",
       "  </tbody>\n",
       "</table>\n",
       "<p>76978 rows × 16 columns</p>\n",
       "</div>"
      ],
      "text/plain": [
       "      EmployeeNumber  PersonID EmployeeGrade PayYear PayMonth  PayMonthNum  \\\n",
       "0          100020235  420048.0          SG12    2016      OCT           10   \n",
       "1          100020235  420048.0          SG12    2017      APR            4   \n",
       "2          100020242  308462.0           FA5    2017      APR            4   \n",
       "3          100020242  308462.0           FA5    2017      JUN            6   \n",
       "4          100020283  420260.0           FA5    2017      JAN            1   \n",
       "...              ...       ...           ...     ...      ...          ...   \n",
       "76973         PI4575  636005.0     1 Student    2018      JUN            6   \n",
       "76974         PI4577  629931.0     1 Student    2018      AUG            8   \n",
       "76975         PI4579  636012.0     1 Student    2018      MAY            5   \n",
       "76976         PI4580  635964.0     1 Student    2019      OCT           10   \n",
       "76977         PI4580  635964.0     1 Student    2019      SEP            9   \n",
       "\n",
       "                      PayrollName   Basic     CoLA MarketDiff Vacation  \\\n",
       "0              KU Monthly Payroll  6206.2  9930.07          0      517   \n",
       "1              KU Monthly Payroll    8463    13541          0      705   \n",
       "2              KU Monthly Payroll    6000     8000          0        0   \n",
       "3              KU Monthly Payroll    6000     8000          0        0   \n",
       "4      Researcher Monthly Payroll    6000     8000          0        0   \n",
       "...                           ...     ...      ...        ...      ...   \n",
       "76973  Researcher Monthly Payroll    6600     4400          0        0   \n",
       "76974  Researcher Monthly Payroll    2400     1600          0        0   \n",
       "76975  Researcher Monthly Payroll    2400     1600          0        0   \n",
       "76976  Researcher Monthly Payroll       0        0          0        0   \n",
       "76977  Researcher Monthly Payroll       0        0          0        0   \n",
       "\n",
       "      ChildAllow AdminStipend ActingAllow  OtherLegacy     Gross  \n",
       "0              0            0           0          0.0  16653.27  \n",
       "1              0            0           0          0.0  22709.00  \n",
       "2              0            0           0          0.0  14000.00  \n",
       "3              0            0           0          0.0  14000.00  \n",
       "4              0            0           0          0.0  14000.00  \n",
       "...          ...          ...         ...          ...       ...  \n",
       "76973          0            0           0          0.0  11000.00  \n",
       "76974          0            0           0          0.0   4000.00  \n",
       "76975          0            0           0          0.0   4000.00  \n",
       "76976          0            0           0          0.0      0.00  \n",
       "76977          0            0           0          0.0      0.00  \n",
       "\n",
       "[76978 rows x 16 columns]"
      ]
     },
     "execution_count": 9,
     "metadata": {},
     "output_type": "execute_result"
    }
   ],
   "source": [
    "payroll"
   ]
  },
  {
   "cell_type": "code",
   "execution_count": 10,
   "id": "eab6094a",
   "metadata": {},
   "outputs": [],
   "source": [
    "employee.to_excel('employee_details.xlsx')"
   ]
  },
  {
   "cell_type": "code",
   "execution_count": 11,
   "id": "bdf37482",
   "metadata": {},
   "outputs": [],
   "source": [
    "payroll.to_excel('payroll_all.xlsx')"
   ]
  },
  {
   "cell_type": "code",
   "execution_count": null,
   "id": "707b349b",
   "metadata": {},
   "outputs": [],
   "source": []
  }
 ],
 "metadata": {
  "kernelspec": {
   "display_name": "Python 3",
   "language": "python",
   "name": "python3"
  },
  "language_info": {
   "codemirror_mode": {
    "name": "ipython",
    "version": 3
   },
   "file_extension": ".py",
   "mimetype": "text/x-python",
   "name": "python",
   "nbconvert_exporter": "python",
   "pygments_lexer": "ipython3",
   "version": "3.8.11"
  }
 },
 "nbformat": 4,
 "nbformat_minor": 5
}
