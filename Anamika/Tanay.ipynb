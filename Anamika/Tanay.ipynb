{
 "cells": [
  {
   "cell_type": "code",
   "execution_count": 1,
   "id": "73a36ff0",
   "metadata": {},
   "outputs": [],
   "source": [
    "import pandas as pd\n",
    "import numpy as np"
   ]
  },
  {
   "cell_type": "code",
   "execution_count": 2,
   "id": "31e856c6",
   "metadata": {},
   "outputs": [
    {
     "name": "stdout",
     "output_type": "stream",
     "text": [
      " Volume in drive C has no label.\n",
      " Volume Serial Number is 46E4-F6EF\n",
      "\n",
      " Directory of C:\\Users\\ku1016\\Desktop\\CACM\\Anamika\n",
      "\n",
      "06/06/2022  09:20 AM    <DIR>          .\n",
      "06/06/2022  09:20 AM    <DIR>          ..\n",
      "06/06/2022  09:20 AM    <DIR>          .ipynb_checkpoints\n",
      "05/04/2022  10:36 AM            33,608 72.xlsx\n",
      "29/03/2022  02:27 PM             7,640 Annual Leave.xlsx\n",
      "28/03/2022  12:40 PM        17,281,704 ap.csv\n",
      "11/04/2022  02:26 PM           110,355 Approved DTRs not in AP data.xlsx\n",
      "28/03/2022  12:39 PM           716,416 bank_details.csv\n",
      "14/04/2022  09:13 AM            19,700 Copy of Payroll tests.xlsx\n",
      "25/04/2022  01:27 PM            17,704 Copy of Schools not in Abudhabi.xlsx\n",
      "20/04/2022  10:53 AM            23,917 DTR.ipynb\n",
      "11/04/2022  02:27 PM           239,940 dtr.xlsx\n",
      "30/03/2022  12:26 PM            60,947 dup_iban.xlsx\n",
      "20/04/2022  10:52 AM            42,751 Education.ipynb\n",
      "13/04/2022  01:20 PM             9,054 education_equals.xlsx\n",
      "13/04/2022  12:34 PM             8,488 education_equals_aa.xlsx\n",
      "13/04/2022  12:35 PM            11,557 education_equals_all.xlsx\n",
      "13/04/2022  12:06 PM             5,504 education_exceed.xlsx\n",
      "13/04/2022  12:08 PM             5,741 education_exceed_details.xlsx\n",
      "13/04/2022  12:15 PM             9,658 education_exceed_details_1.xlsx\n",
      "08/04/2022  10:33 AM            81,874 education_result.xlsx\n",
      "07/04/2022  12:10 PM             5,685 Employee Basic Info.ipynb\n",
      "07/04/2022  12:25 PM             6,968 Employee Leaves.ipynb\n",
      "28/03/2022  12:39 PM           978,701 employee_details.csv\n",
      "22/04/2022  11:15 AM           338,445 employee_details.xlsx\n",
      "13/05/2022  11:42 AM    <DIR>          Final\n",
      "21/04/2022  09:44 AM             5,668 Final.ipynb\n",
      "23/05/2022  10:14 AM               282 GRN.txt\n",
      "13/04/2022  09:13 AM            28,992 hire.xlsx\n",
      "11/04/2022  10:07 AM            20,977 Housing Advance.ipynb\n",
      "05/04/2022  10:00 AM            21,844 housing.xlsx\n",
      "05/04/2022  10:17 AM             9,550 housing_total.xlsx\n",
      "06/04/2022  09:28 AM        68,667,769 info.ipynb\n",
      "29/03/2022  11:53 AM           955,894 Invoice Description.xlsx\n",
      "30/03/2022  11:15 AM           128,088 invoices_sorted_2021.xlsx\n",
      "30/03/2022  10:41 AM            44,691 invoice_amount.xlsx\n",
      "30/03/2022  11:16 AM            40,155 invoice_amount_1.xlsx\n",
      "30/03/2022  01:35 PM             5,810 KU750.xlsx\n",
      "30/03/2022  12:03 PM           113,730 matrix.xlsx\n",
      "06/04/2022  12:57 PM           112,384 Month to Month.ipynb\n",
      "29/03/2022  04:04 PM           324,747 outer.xlsx\n",
      "22/04/2022  11:18 AM            20,037 Paid before hire date.ipynb\n",
      "27/04/2022  10:12 PM            84,121 Payroll - Check.ipynb\n",
      "31/05/2022  04:20 PM            78,386 Payroll Main.ipynb\n",
      "22/04/2022  11:16 AM         4,844,241 payroll_all.xlsx\n",
      "30/03/2022  11:16 AM           692,361 payroll_ap.xlsx\n",
      "14/04/2022  10:24 AM            12,482 Resigned.ipynb\n",
      "25/04/2022  12:19 PM             5,368 sc0.xlsx\n",
      "25/04/2022  12:23 PM             5,437 sc00.xlsx\n",
      "25/04/2022  12:18 PM             5,430 sc1.xlsx\n",
      "21/04/2022  09:44 AM             5,668 school.py\n",
      "11/04/2022  02:18 PM            36,566 schoolin.xlsx\n",
      "20/04/2022  01:46 PM             5,668 Schooling Functions.ipynb\n",
      "06/06/2022  09:17 AM            31,039 Schooling-read a list from excel.ipynb\n",
      "25/04/2022  01:46 PM            71,521 Schooling.ipynb\n",
      "13/04/2022  01:22 PM             9,837 schooling_exceed_21_22.xlsx\n",
      "25/04/2022  01:39 PM            17,075 Schools_list.xlsx\n",
      "13/04/2022  01:31 PM             9,808 schools_not_in_ad_2022.xlsx\n",
      "14/04/2022  12:40 PM            10,809 school_exceptions.xlsx\n",
      "13/04/2022  10:38 AM            13,689 school_name.xlsx\n",
      "13/04/2022  01:20 PM            11,306 school_not_in_ad.xlsx\n",
      "13/04/2022  12:43 PM            15,415 school_not_in_ad_case.xlsx\n",
      "14/04/2022  12:56 PM            12,472 student_total_amount_exact.xlsx\n",
      "29/03/2022  11:56 AM           130,905 Supplier Name.xlsx\n",
      "29/03/2022  03:43 PM            29,175 Supplier Vs. Employees-Copy1.ipynb\n",
      "31/03/2022  11:13 AM            78,905 Supplier Vs. Employees.ipynb\n",
      "28/03/2022  12:39 PM        39,257,263 supplier.csv\n",
      "31/03/2022  11:10 AM            20,774 Supplier.ipynb\n",
      "06/06/2022  09:20 AM                72 Tanay.ipynb\n",
      "12/04/2022  01:29 PM             7,514 termination.xlsx\n",
      "07/04/2022  12:24 PM            14,028 unpaid_leaves_2021.xlsx\n",
      "28/03/2022  03:59 PM             2,969 Untitled.ipynb\n",
      "13/04/2022  08:24 AM                72 Untitled1.ipynb\n",
      "22/04/2022  11:23 AM    <DIR>          Weekend\n",
      "              69 File(s)    136,037,351 bytes\n",
      "               5 Dir(s)  315,164,680,192 bytes free\n"
     ]
    }
   ],
   "source": [
    "!dir"
   ]
  },
  {
   "cell_type": "code",
   "execution_count": null,
   "id": "f223bc6b",
   "metadata": {},
   "outputs": [],
   "source": []
  }
 ],
 "metadata": {
  "kernelspec": {
   "display_name": "Python 3",
   "language": "python",
   "name": "python3"
  },
  "language_info": {
   "codemirror_mode": {
    "name": "ipython",
    "version": 3
   },
   "file_extension": ".py",
   "mimetype": "text/x-python",
   "name": "python",
   "nbconvert_exporter": "python",
   "pygments_lexer": "ipython3",
   "version": "3.8.11"
  }
 },
 "nbformat": 4,
 "nbformat_minor": 5
}
