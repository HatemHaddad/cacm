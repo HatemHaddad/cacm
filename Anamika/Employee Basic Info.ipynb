{
 "cells": [
  {
   "cell_type": "code",
   "execution_count": 2,
   "id": "921ffdca",
   "metadata": {},
   "outputs": [],
   "source": [
    "import pandas as pd\n",
    "import numpy as np\n",
    "import pyodbc\n",
    "import seaborn as sns\n",
    "import matplotlib.pyplot as plt\n",
    "from sqlalchemy import create_engine"
   ]
  },
  {
   "cell_type": "code",
   "execution_count": 3,
   "id": "101fe73a",
   "metadata": {},
   "outputs": [],
   "source": [
    "svr_name = 'KU1ICDDWV011.kunet.ae'\n",
    "db_name = 'CACM'\n",
    "u_name = 'cacm_user'\n",
    "u_pass = 'Welcome#123'"
   ]
  },
  {
   "cell_type": "code",
   "execution_count": 4,
   "id": "b85d5a93",
   "metadata": {},
   "outputs": [],
   "source": [
    "eng = create_engine(\"mssql+pyodbc://\"+u_name+\":\"+u_pass+\"@\"+svr_name+\"/\"+db_name+\"?driver=ODBC+Driver+17+for+SQL+Server\")"
   ]
  },
  {
   "cell_type": "code",
   "execution_count": 5,
   "id": "fcab7bb1",
   "metadata": {},
   "outputs": [],
   "source": [
    "query_basic_info = \"select * from ADERP.dbo.XXDOF_BI_KU_Emp_Basic_Info_T\"\n",
    "query_assignment = \"select * from ADERP.dbo.XXDOF_BI_KU_Assignment_T\"\n",
    "query_resignation = \"select * from ADERP.dbo.XXDOF_BI_KU_Resignation_T\""
   ]
  },
  {
   "cell_type": "code",
   "execution_count": 6,
   "id": "bc405b28",
   "metadata": {},
   "outputs": [],
   "source": [
    "info = pd.read_sql(query_basic_info, eng)\n",
    "assignment = pd.read_sql(query_assignment, eng)\n",
    "resignation = pd.read_sql(query_resignation, eng)"
   ]
  },
  {
   "cell_type": "code",
   "execution_count": 7,
   "id": "5304334a",
   "metadata": {},
   "outputs": [
    {
     "name": "stdout",
     "output_type": "stream",
     "text": [
      "<class 'pandas.core.frame.DataFrame'>\n",
      "RangeIndex: 81907 entries, 0 to 81906\n",
      "Data columns (total 39 columns):\n",
      " #   Column                      Non-Null Count  Dtype         \n",
      "---  ------                      --------------  -----         \n",
      " 0   PERSONID                    81907 non-null  float64       \n",
      " 1   PERSONTYPE                  81907 non-null  object        \n",
      " 2   EMIRATESID                  15793 non-null  object        \n",
      " 3   EMPLOYEENUMBER              11398 non-null  object        \n",
      " 4   HIREDATE                    10907 non-null  datetime64[ns]\n",
      " 5   ADJUSTEDSERVICEDATE         3400 non-null   datetime64[ns]\n",
      " 6   ORIGINALHIREDATE            10806 non-null  datetime64[ns]\n",
      " 7   EFFECTIVESTARTDATE          81907 non-null  datetime64[ns]\n",
      " 8   EFFECTIVEENDDATE            81907 non-null  object        \n",
      " 9   TITLE                       9888 non-null   object        \n",
      " 10  EMPLOYEENAME                81907 non-null  object        \n",
      " 11  EMPLOYEEARABICNAME          81907 non-null  object        \n",
      " 12  GENDER                      55006 non-null  object        \n",
      " 13  FIRST_NAME                  81436 non-null  object        \n",
      " 14  LAST_NAME                   81907 non-null  object        \n",
      " 15  MIDDLE_NAME_ENG             24771 non-null  object        \n",
      " 16  GRAND_FATHER_NAME_ENG       16072 non-null  object        \n",
      " 17  FULL_NAME                   81907 non-null  object        \n",
      " 18  FIRST_NAME_AR               19397 non-null  object        \n",
      " 19  MIDDLE_NAME_AR              12519 non-null  object        \n",
      " 20  GRAND_FATHER_NAME_AR        10904 non-null  object        \n",
      " 21  LAST_NAME_AR                20011 non-null  object        \n",
      " 22  RELIGION                    9448 non-null   object        \n",
      " 23  NATIONALITY                 54393 non-null  object        \n",
      " 24  TOWN_OF_BIRTH               2535 non-null   object        \n",
      " 25  COUNTRY_OF_BIRTH            0 non-null      object        \n",
      " 26  DATEOFBIRTH                 54563 non-null  object        \n",
      " 27  EMAILADDRESS                81756 non-null  object        \n",
      " 28  EMAILADDRESSPERSONAL        81907 non-null  object        \n",
      " 29  MARITALSTAT                 54303 non-null  object        \n",
      " 30  PENSION_MEMBER_ID           341 non-null    object        \n",
      " 31  PERNSION_REGISTRATION_DATE  333 non-null    object        \n",
      " 32  NEARESTAIRPORT              1945 non-null   object        \n",
      " 33  POINTOFORIGIN               81907 non-null  object        \n",
      " 34  AUTOCREATEFLAG              11279 non-null  object        \n",
      " 35  CREATEDBY                   81907 non-null  float64       \n",
      " 36  LASTUPDATEDBY               81907 non-null  float64       \n",
      " 37  LASTUPDATEDATE              81907 non-null  datetime64[ns]\n",
      " 38  LASTUPDATEDATE1             81907 non-null  datetime64[ns]\n",
      "dtypes: datetime64[ns](6), float64(3), object(30)\n",
      "memory usage: 24.4+ MB\n"
     ]
    }
   ],
   "source": [
    "info.info()"
   ]
  },
  {
   "cell_type": "code",
   "execution_count": null,
   "id": "b9a71988",
   "metadata": {},
   "outputs": [],
   "source": []
  }
 ],
 "metadata": {
  "kernelspec": {
   "display_name": "Python 3",
   "language": "python",
   "name": "python3"
  },
  "language_info": {
   "codemirror_mode": {
    "name": "ipython",
    "version": 3
   },
   "file_extension": ".py",
   "mimetype": "text/x-python",
   "name": "python",
   "nbconvert_exporter": "python",
   "pygments_lexer": "ipython3",
   "version": "3.8.11"
  }
 },
 "nbformat": 4,
 "nbformat_minor": 5
}
