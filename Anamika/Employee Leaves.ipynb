{
 "cells": [
  {
   "cell_type": "code",
   "execution_count": 1,
   "id": "921ffdca",
   "metadata": {},
   "outputs": [],
   "source": [
    "import pandas as pd\n",
    "import numpy as np\n",
    "import pyodbc\n",
    "import seaborn as sns\n",
    "import matplotlib.pyplot as plt\n",
    "from sqlalchemy import create_engine"
   ]
  },
  {
   "cell_type": "code",
   "execution_count": 2,
   "id": "101fe73a",
   "metadata": {},
   "outputs": [],
   "source": [
    "svr_name = 'KU1ICDDWV011.kunet.ae'\n",
    "db_name = 'CACM'\n",
    "u_name = 'cacm_user'\n",
    "u_pass = 'Welcome#123'"
   ]
  },
  {
   "cell_type": "code",
   "execution_count": 3,
   "id": "b85d5a93",
   "metadata": {},
   "outputs": [],
   "source": [
    "eng = create_engine(\"mssql+pyodbc://\"+u_name+\":\"+u_pass+\"@\"+svr_name+\"/\"+db_name+\"?driver=ODBC+Driver+17+for+SQL+Server\")"
   ]
  },
  {
   "cell_type": "code",
   "execution_count": 18,
   "id": "fcab7bb1",
   "metadata": {},
   "outputs": [],
   "source": [
    "query_leaves = \"select * from CACM.dbo.KU_SRC_EmployeesLeaves\"\n",
    "query_basic_info = \"select * from ADERP.dbo.XXDOF_BI_KU_Emp_Basic_Info_T\""
   ]
  },
  {
   "cell_type": "code",
   "execution_count": 19,
   "id": "bc405b28",
   "metadata": {},
   "outputs": [],
   "source": [
    "leaves = pd.read_sql(query_leaves, eng)\n",
    "info = pd.read_sql(query_basic_info, eng)"
   ]
  },
  {
   "cell_type": "code",
   "execution_count": 7,
   "id": "5304334a",
   "metadata": {},
   "outputs": [
    {
     "data": {
      "text/html": [
       "<div>\n",
       "<style scoped>\n",
       "    .dataframe tbody tr th:only-of-type {\n",
       "        vertical-align: middle;\n",
       "    }\n",
       "\n",
       "    .dataframe tbody tr th {\n",
       "        vertical-align: top;\n",
       "    }\n",
       "\n",
       "    .dataframe thead th {\n",
       "        text-align: right;\n",
       "    }\n",
       "</style>\n",
       "<table border=\"1\" class=\"dataframe\">\n",
       "  <thead>\n",
       "    <tr style=\"text-align: right;\">\n",
       "      <th></th>\n",
       "      <th>EmployeeNumber</th>\n",
       "      <th>leaveCategory</th>\n",
       "      <th>LeaveType</th>\n",
       "      <th>LeaveStartDate</th>\n",
       "      <th>LeaveEndDate</th>\n",
       "      <th>leaveduration</th>\n",
       "      <th>LeaveStatus</th>\n",
       "    </tr>\n",
       "  </thead>\n",
       "  <tbody>\n",
       "    <tr>\n",
       "      <th>0</th>\n",
       "      <td>100020235</td>\n",
       "      <td>V</td>\n",
       "      <td>Annual Leave</td>\n",
       "      <td>2017-08-13</td>\n",
       "      <td>2017-09-02</td>\n",
       "      <td>21.0</td>\n",
       "      <td>A</td>\n",
       "    </tr>\n",
       "    <tr>\n",
       "      <th>1</th>\n",
       "      <td>100020235</td>\n",
       "      <td>S</td>\n",
       "      <td>Maternity Sick Leave</td>\n",
       "      <td>2017-05-09</td>\n",
       "      <td>2017-05-11</td>\n",
       "      <td>3.0</td>\n",
       "      <td>A</td>\n",
       "    </tr>\n",
       "    <tr>\n",
       "      <th>2</th>\n",
       "      <td>100020235</td>\n",
       "      <td>S</td>\n",
       "      <td>Maternity Sick Leave</td>\n",
       "      <td>2017-04-18</td>\n",
       "      <td>2017-04-18</td>\n",
       "      <td>1.0</td>\n",
       "      <td>A</td>\n",
       "    </tr>\n",
       "    <tr>\n",
       "      <th>3</th>\n",
       "      <td>100020235</td>\n",
       "      <td>V</td>\n",
       "      <td>Annual Leave</td>\n",
       "      <td>2017-03-28</td>\n",
       "      <td>2017-03-30</td>\n",
       "      <td>3.0</td>\n",
       "      <td>A</td>\n",
       "    </tr>\n",
       "    <tr>\n",
       "      <th>4</th>\n",
       "      <td>100020235</td>\n",
       "      <td>V</td>\n",
       "      <td>Annual Leave</td>\n",
       "      <td>2017-03-22</td>\n",
       "      <td>2017-03-23</td>\n",
       "      <td>2.0</td>\n",
       "      <td>A</td>\n",
       "    </tr>\n",
       "  </tbody>\n",
       "</table>\n",
       "</div>"
      ],
      "text/plain": [
       "  EmployeeNumber leaveCategory             LeaveType LeaveStartDate  \\\n",
       "0      100020235             V          Annual Leave     2017-08-13   \n",
       "1      100020235             S  Maternity Sick Leave     2017-05-09   \n",
       "2      100020235             S  Maternity Sick Leave     2017-04-18   \n",
       "3      100020235             V          Annual Leave     2017-03-28   \n",
       "4      100020235             V          Annual Leave     2017-03-22   \n",
       "\n",
       "  LeaveEndDate  leaveduration LeaveStatus  \n",
       "0   2017-09-02           21.0           A  \n",
       "1   2017-05-11            3.0           A  \n",
       "2   2017-04-18            1.0           A  \n",
       "3   2017-03-30            3.0           A  \n",
       "4   2017-03-23            2.0           A  "
      ]
     },
     "execution_count": 7,
     "metadata": {},
     "output_type": "execute_result"
    }
   ],
   "source": [
    "leaves.head()"
   ]
  },
  {
   "cell_type": "code",
   "execution_count": 11,
   "id": "0d2f1ba8",
   "metadata": {},
   "outputs": [],
   "source": [
    "leaves = leaves.set_index('LeaveStartDate')"
   ]
  },
  {
   "cell_type": "code",
   "execution_count": 14,
   "id": "9aeb4062",
   "metadata": {},
   "outputs": [],
   "source": [
    "leaves21 = leaves.loc['2021']"
   ]
  },
  {
   "cell_type": "code",
   "execution_count": 25,
   "id": "4524b5ba",
   "metadata": {},
   "outputs": [],
   "source": [
    "leaves21 = leaves21[leaves21['LeaveType'].isin(['Unauthorized Unpaid Leave', 'Unpaid Leave'])]"
   ]
  },
  {
   "cell_type": "code",
   "execution_count": 32,
   "id": "b9d7e6f1",
   "metadata": {},
   "outputs": [],
   "source": [
    "leaves21 = leaves21.reset_index()"
   ]
  },
  {
   "cell_type": "code",
   "execution_count": 33,
   "id": "bee23095",
   "metadata": {},
   "outputs": [],
   "source": [
    "emp_number = info[['EMPLOYEENUMBER','EMPLOYEENAME']].drop_duplicates()"
   ]
  },
  {
   "cell_type": "code",
   "execution_count": 35,
   "id": "10eaa5f7",
   "metadata": {},
   "outputs": [],
   "source": [
    "leaves21.merge(emp_number,left_on='EmployeeNumber',right_on='EMPLOYEENUMBER',how='left').to_excel('unpaid_leaves_2021.xlsx')"
   ]
  },
  {
   "cell_type": "code",
   "execution_count": null,
   "id": "0ff84b87",
   "metadata": {},
   "outputs": [],
   "source": []
  }
 ],
 "metadata": {
  "kernelspec": {
   "display_name": "Python 3",
   "language": "python",
   "name": "python3"
  },
  "language_info": {
   "codemirror_mode": {
    "name": "ipython",
    "version": 3
   },
   "file_extension": ".py",
   "mimetype": "text/x-python",
   "name": "python",
   "nbconvert_exporter": "python",
   "pygments_lexer": "ipython3",
   "version": "3.8.11"
  }
 },
 "nbformat": 4,
 "nbformat_minor": 5
}
