{
 "cells": [
  {
   "cell_type": "code",
   "execution_count": 3,
   "id": "921ffdca",
   "metadata": {},
   "outputs": [],
   "source": [
    "import pandas as pd\n",
    "import numpy as np\n",
    "import pyodbc\n",
    "import seaborn as sns\n",
    "import matplotlib.pyplot as plt\n",
    "from sqlalchemy import create_engine"
   ]
  },
  {
   "cell_type": "code",
   "execution_count": 4,
   "id": "101fe73a",
   "metadata": {},
   "outputs": [],
   "source": [
    "svr_name = 'KU1ICDDWV011.kunet.ae'\n",
    "db_name_read = 'CACM'\n",
    "db_name_write = 'CACMP'\n",
    "u_name = 'cacm_user'\n",
    "u_pass = 'Welcome#123'"
   ]
  },
  {
   "cell_type": "code",
   "execution_count": 5,
   "id": "b85d5a93",
   "metadata": {},
   "outputs": [],
   "source": [
    "eng_read = create_engine(\"mssql+pyodbc://\"+u_name+\":\"+u_pass+\"@\"+svr_name+\"/\"+db_name_read+\"?driver=ODBC+Driver+17+for+SQL+Server\")\n",
    "eng_write = create_engine(\"mssql+pyodbc://\"+u_name+\":\"+u_pass+\"@\"+svr_name+\"/\"+db_name_write+\"?driver=ODBC+Driver+17+for+SQL+Server\")"
   ]
  },
  {
   "cell_type": "markdown",
   "id": "597385eb",
   "metadata": {},
   "source": [
    "# Select statements"
   ]
  },
  {
   "cell_type": "code",
   "execution_count": 9,
   "id": "fcab7bb1",
   "metadata": {},
   "outputs": [],
   "source": [
    "query_po = \"select * from dbo.KU_SRC_BI_KUST_PO\"\n",
    "query_ap = \"select * from dbo.KU_SRC_BI_KUST_AP\""
   ]
  },
  {
   "cell_type": "markdown",
   "id": "cf21d902",
   "metadata": {},
   "source": [
    "# Reading from SQL"
   ]
  },
  {
   "cell_type": "code",
   "execution_count": 10,
   "id": "bc405b28",
   "metadata": {},
   "outputs": [],
   "source": [
    "po = pd.read_sql(query_po, eng_read)\n",
    "ap = pd.read_sql(query_ap, eng_read)"
   ]
  },
  {
   "cell_type": "code",
   "execution_count": 9,
   "id": "cccf3283",
   "metadata": {},
   "outputs": [],
   "source": [
    "# po.reset_index().to_sql('po',eng_write,if_exists='replace')"
   ]
  },
  {
   "cell_type": "code",
   "execution_count": null,
   "id": "1b5ed6b5",
   "metadata": {},
   "outputs": [],
   "source": []
  }
 ],
 "metadata": {
  "kernelspec": {
   "display_name": "Python 3",
   "language": "python",
   "name": "python3"
  },
  "language_info": {
   "codemirror_mode": {
    "name": "ipython",
    "version": 3
   },
   "file_extension": ".py",
   "mimetype": "text/x-python",
   "name": "python",
   "nbconvert_exporter": "python",
   "pygments_lexer": "ipython3",
   "version": "3.8.11"
  }
 },
 "nbformat": 4,
 "nbformat_minor": 5
}
