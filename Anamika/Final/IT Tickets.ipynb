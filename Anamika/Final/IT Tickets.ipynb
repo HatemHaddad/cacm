{
 "cells": [
  {
   "cell_type": "code",
   "execution_count": 1,
   "id": "921ffdca",
   "metadata": {},
   "outputs": [],
   "source": [
    "import pandas as pd\n",
    "import numpy as np\n",
    "import pyodbc\n",
    "import seaborn as sns\n",
    "import matplotlib.pyplot as plt\n",
    "from sqlalchemy import create_engine\n",
    "import datetime as dt"
   ]
  },
  {
   "cell_type": "code",
   "execution_count": 2,
   "id": "101fe73a",
   "metadata": {},
   "outputs": [],
   "source": [
    "svr_name = 'KU1ICDDWV011.kunet.ae'\n",
    "db_name_read = 'CACM'\n",
    "db_name_write = 'CACMP'\n",
    "u_name = 'cacm_user'\n",
    "u_pass = 'Welcome#123'"
   ]
  },
  {
   "cell_type": "code",
   "execution_count": 3,
   "id": "b85d5a93",
   "metadata": {},
   "outputs": [],
   "source": [
    "eng_read = create_engine(\"mssql+pyodbc://\"+u_name+\":\"+u_pass+\"@\"+svr_name+\"/\"+db_name_read+\"?driver=ODBC+Driver+17+for+SQL+Server\")\n",
    "eng_write = create_engine(\"mssql+pyodbc://\"+u_name+\":\"+u_pass+\"@\"+svr_name+\"/\"+db_name_write+\"?driver=ODBC+Driver+17+for+SQL+Server\")"
   ]
  },
  {
   "cell_type": "code",
   "execution_count": 4,
   "id": "fcab7bb1",
   "metadata": {},
   "outputs": [],
   "source": [
    "query_it_tickets = \"select * from dbo.KU_SRC_IT_Tickets\""
   ]
  },
  {
   "cell_type": "code",
   "execution_count": 6,
   "id": "bc405b28",
   "metadata": {},
   "outputs": [],
   "source": [
    "it_tickets = pd.read_sql(query_it_tickets, eng_read)"
   ]
  },
  {
   "cell_type": "code",
   "execution_count": 12,
   "id": "d9639d0c",
   "metadata": {},
   "outputs": [],
   "source": [
    "it_tickets.to_excel('it_tickets.xlsx')"
   ]
  },
  {
   "cell_type": "code",
   "execution_count": 14,
   "id": "a7c5b788",
   "metadata": {},
   "outputs": [
    {
     "data": {
      "text/plain": [
       "Lina A. H. Salem                   340\n",
       "Fatima Al Qubaisi                  309\n",
       "Lama Sadek                         252\n",
       "Alienvault (Ankabut)               250\n",
       "Aaisha Abdallah Humaid Al Saidi    248\n",
       "                                  ... \n",
       "Abdulrahman sadun Alsadun            1\n",
       "Abdelrahman Ramadan Eisa             1\n",
       "Omar Magdy Helal Elataly             1\n",
       "Moni Nader                           1\n",
       "Sujith Chandran                      1\n",
       "Name: Requester, Length: 4406, dtype: int64"
      ]
     },
     "execution_count": 14,
     "metadata": {},
     "output_type": "execute_result"
    }
   ],
   "source": [
    "it_tickets['Requester'].value_counts()"
   ]
  },
  {
   "cell_type": "code",
   "execution_count": null,
   "id": "72aa80dc",
   "metadata": {},
   "outputs": [],
   "source": []
  }
 ],
 "metadata": {
  "kernelspec": {
   "display_name": "Python 3",
   "language": "python",
   "name": "python3"
  },
  "language_info": {
   "codemirror_mode": {
    "name": "ipython",
    "version": 3
   },
   "file_extension": ".py",
   "mimetype": "text/x-python",
   "name": "python",
   "nbconvert_exporter": "python",
   "pygments_lexer": "ipython3",
   "version": "3.8.11"
  }
 },
 "nbformat": 4,
 "nbformat_minor": 5
}
