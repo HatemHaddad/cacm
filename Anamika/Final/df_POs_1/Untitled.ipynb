{
 "cells": [
  {
   "cell_type": "code",
   "execution_count": 1,
   "id": "5de2809e",
   "metadata": {},
   "outputs": [],
   "source": [
    "neg = lambda x: 'Negative' if x < 0 else 'Positive'"
   ]
  },
  {
   "cell_type": "code",
   "execution_count": 2,
   "id": "5c333ba7",
   "metadata": {},
   "outputs": [
    {
     "data": {
      "text/plain": [
       "'Negative'"
      ]
     },
     "execution_count": 2,
     "metadata": {},
     "output_type": "execute_result"
    }
   ],
   "source": [
    "neg(-4)"
   ]
  },
  {
   "cell_type": "code",
   "execution_count": 3,
   "id": "70481bab",
   "metadata": {},
   "outputs": [],
   "source": [
    "m = lambda x, y: min(x,y)"
   ]
  },
  {
   "cell_type": "code",
   "execution_count": 4,
   "id": "2e10e4ca",
   "metadata": {},
   "outputs": [
    {
     "data": {
      "text/plain": [
       "6"
      ]
     },
     "execution_count": 4,
     "metadata": {},
     "output_type": "execute_result"
    }
   ],
   "source": [
    "m(10,6)"
   ]
  },
  {
   "cell_type": "code",
   "execution_count": 5,
   "id": "a2546894",
   "metadata": {},
   "outputs": [],
   "source": [
    "five = lambda x: x+5"
   ]
  },
  {
   "cell_type": "code",
   "execution_count": 6,
   "id": "06447595",
   "metadata": {},
   "outputs": [
    {
     "data": {
      "text/plain": [
       "12"
      ]
     },
     "execution_count": 6,
     "metadata": {},
     "output_type": "execute_result"
    }
   ],
   "source": [
    "five(7)"
   ]
  },
  {
   "cell_type": "code",
   "execution_count": 7,
   "id": "604d50c4",
   "metadata": {},
   "outputs": [],
   "source": [
    "import numpy as np"
   ]
  },
  {
   "cell_type": "code",
   "execution_count": 8,
   "id": "667e226c",
   "metadata": {},
   "outputs": [
    {
     "data": {
      "text/plain": [
       "array([-0.444216  , -1.02657758, -0.55852459, -0.6128259 ,  0.05940372,\n",
       "       -1.14661461, -0.07774594,  1.18176978,  0.39922661, -1.30629435])"
      ]
     },
     "execution_count": 8,
     "metadata": {},
     "output_type": "execute_result"
    }
   ],
   "source": [
    "np.random.normal(0,1,10)"
   ]
  },
  {
   "cell_type": "code",
   "execution_count": 9,
   "id": "3d4faf68",
   "metadata": {},
   "outputs": [],
   "source": [
    "import os"
   ]
  },
  {
   "cell_type": "code",
   "execution_count": 10,
   "id": "a6c04f4a",
   "metadata": {},
   "outputs": [
    {
     "data": {
      "text/plain": [
       "'C:\\\\Users\\\\ku1016\\\\Desktop\\\\CACM\\\\Anamika\\\\Final\\\\df_POs_1'"
      ]
     },
     "execution_count": 10,
     "metadata": {},
     "output_type": "execute_result"
    }
   ],
   "source": [
    "os.getcwd()"
   ]
  },
  {
   "cell_type": "code",
   "execution_count": null,
   "id": "cab8bd61",
   "metadata": {},
   "outputs": [],
   "source": []
  }
 ],
 "metadata": {
  "kernelspec": {
   "display_name": "Python 3",
   "language": "python",
   "name": "python3"
  },
  "language_info": {
   "codemirror_mode": {
    "name": "ipython",
    "version": 3
   },
   "file_extension": ".py",
   "mimetype": "text/x-python",
   "name": "python",
   "nbconvert_exporter": "python",
   "pygments_lexer": "ipython3",
   "version": "3.8.11"
  }
 },
 "nbformat": 4,
 "nbformat_minor": 5
}
