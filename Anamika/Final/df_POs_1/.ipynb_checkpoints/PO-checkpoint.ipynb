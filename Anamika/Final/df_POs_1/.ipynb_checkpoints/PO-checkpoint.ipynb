{
 "cells": [
  {
   "cell_type": "code",
   "execution_count": 1,
   "id": "27d72ec3",
   "metadata": {},
   "outputs": [],
   "source": [
    "import pandas as pd"
   ]
  },
  {
   "cell_type": "code",
   "execution_count": 2,
   "id": "56ad004c",
   "metadata": {},
   "outputs": [],
   "source": [
    "df = pd.read_excel('df_POs_1.xlsx',index_col=0)"
   ]
  },
  {
   "cell_type": "code",
   "execution_count": 8,
   "id": "70153643",
   "metadata": {},
   "outputs": [],
   "source": [
    "df1 = df[df['CREATION_DATE'] >= '2020-01-01']"
   ]
  },
  {
   "cell_type": "code",
   "execution_count": 35,
   "id": "d61882ca",
   "metadata": {},
   "outputs": [],
   "source": [
    "df2 = df1[['PO_NUMBER','AMOUNT_BILLED','VENDOR_NAME','CREATION_DATE']]"
   ]
  },
  {
   "cell_type": "code",
   "execution_count": 36,
   "id": "d924f272",
   "metadata": {},
   "outputs": [],
   "source": [
    "df3 = df2.sort_values(by=['VENDOR_NAME','CREATION_DATE'],ascending=[True,False])"
   ]
  },
  {
   "cell_type": "code",
   "execution_count": 37,
   "id": "88294bb6",
   "metadata": {},
   "outputs": [],
   "source": [
    "df3['Diff'] = df3['CREATION_DATE'].shift() - df3['CREATION_DATE']"
   ]
  },
  {
   "cell_type": "code",
   "execution_count": 38,
   "id": "b4b57e8f",
   "metadata": {},
   "outputs": [],
   "source": [
    "df3['Diff'] = df3['Diff'].dt.days"
   ]
  },
  {
   "cell_type": "code",
   "execution_count": 56,
   "id": "122a6975",
   "metadata": {},
   "outputs": [],
   "source": [
    "df3['Fill'] = df3['Diff'].replace(to_replace=0,method='bfill',limit=1)"
   ]
  },
  {
   "cell_type": "code",
   "execution_count": null,
   "id": "1f880608",
   "metadata": {},
   "outputs": [],
   "source": []
  }
 ],
 "metadata": {
  "kernelspec": {
   "display_name": "Python 3",
   "language": "python",
   "name": "python3"
  },
  "language_info": {
   "codemirror_mode": {
    "name": "ipython",
    "version": 3
   },
   "file_extension": ".py",
   "mimetype": "text/x-python",
   "name": "python",
   "nbconvert_exporter": "python",
   "pygments_lexer": "ipython3",
   "version": "3.8.11"
  }
 },
 "nbformat": 4,
 "nbformat_minor": 5
}
