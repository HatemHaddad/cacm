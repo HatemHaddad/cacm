{
 "cells": [
  {
   "cell_type": "code",
   "execution_count": 1,
   "id": "c35181ab",
   "metadata": {},
   "outputs": [],
   "source": [
    "import pandas as pd"
   ]
  },
  {
   "cell_type": "code",
   "execution_count": 2,
   "id": "f1c87d1e",
   "metadata": {},
   "outputs": [],
   "source": [
    "df = pd.read_excel('df_POs_1.xlsx',index_col=0)"
   ]
  },
  {
   "cell_type": "code",
   "execution_count": 8,
   "id": "131e8bb9",
   "metadata": {},
   "outputs": [],
   "source": [
    "df1 = df[df['CREATION_DATE'] >= '2020-01-01']"
   ]
  },
  {
   "cell_type": "code",
   "execution_count": 35,
   "id": "d3e50b38",
   "metadata": {},
   "outputs": [],
   "source": [
    "df2 = df1[['PO_NUMBER','AMOUNT_BILLED','VENDOR_NAME','CREATION_DATE']]"
   ]
  },
  {
   "cell_type": "code",
   "execution_count": 36,
   "id": "2fc900d9",
   "metadata": {},
   "outputs": [],
   "source": [
    "df3 = df2.sort_values(by=['VENDOR_NAME','CREATION_DATE'],ascending=[True,False])"
   ]
  },
  {
   "cell_type": "code",
   "execution_count": 37,
   "id": "ef6f0b3e",
   "metadata": {},
   "outputs": [],
   "source": [
    "df3['Diff'] = df3['CREATION_DATE'].shift() - df3['CREATION_DATE']"
   ]
  },
  {
   "cell_type": "code",
   "execution_count": 38,
   "id": "bba7f8f8",
   "metadata": {},
   "outputs": [],
   "source": [
    "df3['Diff'] = df3['Diff'].dt.days"
   ]
  },
  {
   "cell_type": "code",
   "execution_count": 56,
   "id": "797ca2a1",
   "metadata": {},
   "outputs": [],
   "source": [
    "df3['Fill'] = df3['Diff'].replace(to_replace=0,method='bfill',limit=1)"
   ]
  },
  {
   "cell_type": "code",
   "execution_count": 61,
   "id": "335e646d",
   "metadata": {},
   "outputs": [
    {
     "data": {
      "text/html": [
       "<div>\n",
       "<style scoped>\n",
       "    .dataframe tbody tr th:only-of-type {\n",
       "        vertical-align: middle;\n",
       "    }\n",
       "\n",
       "    .dataframe tbody tr th {\n",
       "        vertical-align: top;\n",
       "    }\n",
       "\n",
       "    .dataframe thead th {\n",
       "        text-align: right;\n",
       "    }\n",
       "</style>\n",
       "<table border=\"1\" class=\"dataframe\">\n",
       "  <thead>\n",
       "    <tr style=\"text-align: right;\">\n",
       "      <th></th>\n",
       "      <th>PO_NUMBER</th>\n",
       "      <th>AMOUNT_BILLED</th>\n",
       "      <th>VENDOR_NAME</th>\n",
       "      <th>CREATION_DATE</th>\n",
       "      <th>Diff</th>\n",
       "      <th>Fill</th>\n",
       "    </tr>\n",
       "  </thead>\n",
       "  <tbody>\n",
       "    <tr>\n",
       "      <th>37722</th>\n",
       "      <td>8472105862</td>\n",
       "      <td>16549.39</td>\n",
       "      <td>ABU DHABI NATIONAL HOTELS COMPANY - COMPASS MI...</td>\n",
       "      <td>2021-06-06</td>\n",
       "      <td>0.0</td>\n",
       "      <td>7.0</td>\n",
       "    </tr>\n",
       "    <tr>\n",
       "      <th>37723</th>\n",
       "      <td>8472105862</td>\n",
       "      <td>12911.16</td>\n",
       "      <td>ABU DHABI NATIONAL HOTELS COMPANY - COMPASS MI...</td>\n",
       "      <td>2021-05-30</td>\n",
       "      <td>7.0</td>\n",
       "      <td>7.0</td>\n",
       "    </tr>\n",
       "    <tr>\n",
       "      <th>50121</th>\n",
       "      <td>8472107720</td>\n",
       "      <td>0.00</td>\n",
       "      <td>AIR LIQUIDE EMIRATES FOR INDUSTRIAL GASES L.L.C</td>\n",
       "      <td>2022-01-24</td>\n",
       "      <td>7.0</td>\n",
       "      <td>7.0</td>\n",
       "    </tr>\n",
       "    <tr>\n",
       "      <th>38057</th>\n",
       "      <td>8472105137</td>\n",
       "      <td>690.00</td>\n",
       "      <td>AIR PRODUCTS GULF GAS L.L.C.</td>\n",
       "      <td>2020-03-18</td>\n",
       "      <td>0.0</td>\n",
       "      <td>7.0</td>\n",
       "    </tr>\n",
       "    <tr>\n",
       "      <th>35315</th>\n",
       "      <td>8472105084</td>\n",
       "      <td>26782.00</td>\n",
       "      <td>AIR PRODUCTS GULF GAS L.L.C.</td>\n",
       "      <td>2020-03-11</td>\n",
       "      <td>7.0</td>\n",
       "      <td>7.0</td>\n",
       "    </tr>\n",
       "    <tr>\n",
       "      <th>...</th>\n",
       "      <td>...</td>\n",
       "      <td>...</td>\n",
       "      <td>...</td>\n",
       "      <td>...</td>\n",
       "      <td>...</td>\n",
       "      <td>...</td>\n",
       "    </tr>\n",
       "    <tr>\n",
       "      <th>42771</th>\n",
       "      <td>8472106196</td>\n",
       "      <td>253.00</td>\n",
       "      <td>WAVES COMPUTER SUPPLIES</td>\n",
       "      <td>2020-09-14</td>\n",
       "      <td>7.0</td>\n",
       "      <td>7.0</td>\n",
       "    </tr>\n",
       "    <tr>\n",
       "      <th>43874</th>\n",
       "      <td>8472106081</td>\n",
       "      <td>4976.00</td>\n",
       "      <td>WAVES COMPUTER SUPPLIES</td>\n",
       "      <td>2020-08-17</td>\n",
       "      <td>7.0</td>\n",
       "      <td>7.0</td>\n",
       "    </tr>\n",
       "    <tr>\n",
       "      <th>36864</th>\n",
       "      <td>8472105659</td>\n",
       "      <td>7155.00</td>\n",
       "      <td>WAVES COMPUTER SUPPLIES</td>\n",
       "      <td>2020-06-09</td>\n",
       "      <td>0.0</td>\n",
       "      <td>7.0</td>\n",
       "    </tr>\n",
       "    <tr>\n",
       "      <th>35797</th>\n",
       "      <td>8472105608</td>\n",
       "      <td>950.00</td>\n",
       "      <td>WAVES COMPUTER SUPPLIES</td>\n",
       "      <td>2020-06-02</td>\n",
       "      <td>7.0</td>\n",
       "      <td>7.0</td>\n",
       "    </tr>\n",
       "    <tr>\n",
       "      <th>44281</th>\n",
       "      <td>8472107335</td>\n",
       "      <td>222400.00</td>\n",
       "      <td>WHITE CRESCENT DECOR WORKS</td>\n",
       "      <td>2021-09-13</td>\n",
       "      <td>7.0</td>\n",
       "      <td>7.0</td>\n",
       "    </tr>\n",
       "  </tbody>\n",
       "</table>\n",
       "<p>163 rows × 6 columns</p>\n",
       "</div>"
      ],
      "text/plain": [
       "        PO_NUMBER  AMOUNT_BILLED  \\\n",
       "37722  8472105862       16549.39   \n",
       "37723  8472105862       12911.16   \n",
       "50121  8472107720           0.00   \n",
       "38057  8472105137         690.00   \n",
       "35315  8472105084       26782.00   \n",
       "...           ...            ...   \n",
       "42771  8472106196         253.00   \n",
       "43874  8472106081        4976.00   \n",
       "36864  8472105659        7155.00   \n",
       "35797  8472105608         950.00   \n",
       "44281  8472107335      222400.00   \n",
       "\n",
       "                                             VENDOR_NAME CREATION_DATE  Diff  \\\n",
       "37722  ABU DHABI NATIONAL HOTELS COMPANY - COMPASS MI...    2021-06-06   0.0   \n",
       "37723  ABU DHABI NATIONAL HOTELS COMPANY - COMPASS MI...    2021-05-30   7.0   \n",
       "50121    AIR LIQUIDE EMIRATES FOR INDUSTRIAL GASES L.L.C    2022-01-24   7.0   \n",
       "38057                       AIR PRODUCTS GULF GAS L.L.C.    2020-03-18   0.0   \n",
       "35315                       AIR PRODUCTS GULF GAS L.L.C.    2020-03-11   7.0   \n",
       "...                                                  ...           ...   ...   \n",
       "42771                            WAVES COMPUTER SUPPLIES    2020-09-14   7.0   \n",
       "43874                            WAVES COMPUTER SUPPLIES    2020-08-17   7.0   \n",
       "36864                            WAVES COMPUTER SUPPLIES    2020-06-09   0.0   \n",
       "35797                            WAVES COMPUTER SUPPLIES    2020-06-02   7.0   \n",
       "44281                         WHITE CRESCENT DECOR WORKS    2021-09-13   7.0   \n",
       "\n",
       "       Fill  \n",
       "37722   7.0  \n",
       "37723   7.0  \n",
       "50121   7.0  \n",
       "38057   7.0  \n",
       "35315   7.0  \n",
       "...     ...  \n",
       "42771   7.0  \n",
       "43874   7.0  \n",
       "36864   7.0  \n",
       "35797   7.0  \n",
       "44281   7.0  \n",
       "\n",
       "[163 rows x 6 columns]"
      ]
     },
     "execution_count": 61,
     "metadata": {},
     "output_type": "execute_result"
    }
   ],
   "source": [
    "df3[df3['Fill'] == 7]"
   ]
  },
  {
   "cell_type": "code",
   "execution_count": null,
   "id": "ca1538e7",
   "metadata": {},
   "outputs": [],
   "source": []
  }
 ],
 "metadata": {
  "kernelspec": {
   "display_name": "Python 3",
   "language": "python",
   "name": "python3"
  },
  "language_info": {
   "codemirror_mode": {
    "name": "ipython",
    "version": 3
   },
   "file_extension": ".py",
   "mimetype": "text/x-python",
   "name": "python",
   "nbconvert_exporter": "python",
   "pygments_lexer": "ipython3",
   "version": "3.8.11"
  }
 },
 "nbformat": 4,
 "nbformat_minor": 5
}
