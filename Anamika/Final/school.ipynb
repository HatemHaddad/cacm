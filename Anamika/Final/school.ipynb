{
 "cells": [
  {
   "cell_type": "code",
   "execution_count": 1,
   "id": "921ffdca",
   "metadata": {},
   "outputs": [],
   "source": [
    "import pandas as pd\n",
    "import numpy as np\n",
    "import pyodbc\n",
    "import seaborn as sns\n",
    "import matplotlib.pyplot as plt\n",
    "from sqlalchemy import create_engine"
   ]
  },
  {
   "cell_type": "code",
   "execution_count": 2,
   "id": "101fe73a",
   "metadata": {},
   "outputs": [],
   "source": [
    "svr_name = 'KU1ICDDWV011.kunet.ae'\n",
    "db_name = 'CACM'\n",
    "u_name = 'cacm_user'\n",
    "u_pass = 'Welcome#123'"
   ]
  },
  {
   "cell_type": "code",
   "execution_count": 3,
   "id": "b85d5a93",
   "metadata": {},
   "outputs": [],
   "source": [
    "eng = create_engine(\"mssql+pyodbc://\"+u_name+\":\"+u_pass+\"@\"+svr_name+\"/\"+db_name+\"?driver=ODBC+Driver+17+for+SQL+Server\")"
   ]
  },
  {
   "cell_type": "code",
   "execution_count": 4,
   "id": "fcab7bb1",
   "metadata": {},
   "outputs": [],
   "source": [
    "query_payroll = \"select * from ADERP.dbo.KU_Payroll_All\"\n",
    "query_education =\"select * from ADERP.dbo.XXDOF_BI_KU_EDUCATION_T\"\n",
    "query_basic_info = \"select * from ADERP.dbo.XXDOF_BI_KU_Emp_Basic_Info_T\"\n",
    "query_payroll_T =  \"select * from ADERP.dbo.XXDOF_BI_KU_PAYROLL_T\""
   ]
  },
  {
   "cell_type": "code",
   "execution_count": 5,
   "id": "bc405b28",
   "metadata": {},
   "outputs": [],
   "source": [
    "payroll = pd.read_sql(query_payroll, eng)\n",
    "education = pd.read_sql(query_education, eng)\n",
    "info = pd.read_sql(query_basic_info, eng)\n",
    "payroll_t = pd.read_sql(query_payroll_T, eng)"
   ]
  },
  {
   "cell_type": "code",
   "execution_count": 6,
   "id": "5304334a",
   "metadata": {},
   "outputs": [],
   "source": [
    "child = education[['EMPLOYEE_NUMBER','CHILD_NAME']].drop_duplicates()\n",
    "eligible = education[['EMPLOYEE_NUMBER','MAX_CHILD_ELIGIBLE']].drop_duplicates()\n",
    "emp = info[['EMPLOYEENUMBER','NATIONALITY','MARITALSTAT']].drop_duplicates()"
   ]
  },
  {
   "cell_type": "code",
   "execution_count": 34,
   "id": "bbb42cd7",
   "metadata": {},
   "outputs": [],
   "source": [
    "def schooling_exceed():\n",
    "    \n",
    "    \"\"\"This script will check if the education amount paid is more than .....\"\"\"\n",
    "    \n",
    "    education = pd.read_sql(query_education, eng)\n",
    "    \n",
    "    education = education.astype({'AMOUNT_TO_BE_PAID':'float'})\n",
    "    \n",
    "    ed_final = education[['EMPLOYEE_NUMBER','ACADEMIC_YEAR','ACADEMIC_SEM','CHILD_NAME','DATE_OF_BIRTH','TOTAL_ENTITLEMENT','CHILD_ENTITLEMENT_AMOUNT','SCHOOL','AMOUNT_TO_BE_PAID']]\n",
    "\n",
    "    ed_final = ed_final[-education['ACADEMIC_YEAR'].isin(['2001 - 2002','2018 – 2019','2016 - 2017','2011 - 2012','2015 - 2016','2012 - 2013','2014 - 2015','2017 - 2018','2013 - 2014'])]\n",
    "    \n",
    "    ed = ed_final[['EMPLOYEE_NUMBER','SCHOOL']].drop_duplicates()\n",
    "\n",
    "    entitlement = ed_final.groupby(['ACADEMIC_YEAR','EMPLOYEE_NUMBER']).agg({'TOTAL_ENTITLEMENT':'max','AMOUNT_TO_BE_PAID':'sum'})\n",
    "\n",
    "    entitlement = entitlement.astype({'TOTAL_ENTITLEMENT':'float64'})\n",
    "\n",
    "    entitlement['Diff'] = (entitlement['AMOUNT_TO_BE_PAID'] > entitlement['TOTAL_ENTITLEMENT']).astype('int')\n",
    "\n",
    "    return entitlement[entitlement['Diff'] == 1]"
   ]
  },
  {
   "cell_type": "code",
   "execution_count": 35,
   "id": "d3ff4ff7",
   "metadata": {},
   "outputs": [],
   "source": [
    "def schooling_equal():\n",
    "    \n",
    "    education = pd.read_sql(query_education, eng)\n",
    "    \n",
    "    education = education.astype({'AMOUNT_TO_BE_PAID':'float'})\n",
    "    \n",
    "    ed_final = education[['EMPLOYEE_NUMBER','ACADEMIC_YEAR','ACADEMIC_SEM','CHILD_NAME','DATE_OF_BIRTH','TOTAL_ENTITLEMENT','CHILD_ENTITLEMENT_AMOUNT','SCHOOL','AMOUNT_TO_BE_PAID']]\n",
    "\n",
    "    ed = ed_final[['EMPLOYEE_NUMBER','SCHOOL']].drop_duplicates()\n",
    "\n",
    "    entitlement = ed_final.groupby(['ACADEMIC_YEAR','EMPLOYEE_NUMBER']).agg({'TOTAL_ENTITLEMENT':'max','AMOUNT_TO_BE_PAID':'sum'})\n",
    "\n",
    "    entitlement = entitlement.astype({'TOTAL_ENTITLEMENT':'float64'})\n",
    "\n",
    "    entitlement['Diff'] = (entitlement['AMOUNT_TO_BE_PAID'] == entitlement['TOTAL_ENTITLEMENT']).astype('int')\n",
    "\n",
    "    return entitlement[entitlement['Diff'] == 1]"
   ]
  },
  {
   "cell_type": "code",
   "execution_count": 36,
   "id": "f6070e5c",
   "metadata": {},
   "outputs": [],
   "source": [
    "def check_details(EmpNo,Year):\n",
    "    \n",
    "    \"\"\"\"\"\"\n",
    "    \n",
    "    education = pd.read_sql(query_education, eng)\n",
    "    \n",
    "    result = education[(education['EMPLOYEE_NUMBER'] == EmpNo) &  (education['ACADEMIC_YEAR'] == Year)]\n",
    "    \n",
    "    result = result[['EMPLOYEE_NUMBER','ACADEMIC_YEAR','ACADEMIC_SEM','CHILD_NAME','DATE_OF_BIRTH','TOTAL_ENTITLEMENT','CHILD_ENTITLEMENT_AMOUNT','SCHOOL','AMOUNT_TO_BE_PAID']]\n",
    "    \n",
    "    return result\n"
   ]
  },
  {
   "cell_type": "code",
   "execution_count": 37,
   "id": "2e9b58a3",
   "metadata": {},
   "outputs": [],
   "source": [
    "x = schooling_exceed()"
   ]
  },
  {
   "cell_type": "code",
   "execution_count": 38,
   "id": "ec625494",
   "metadata": {},
   "outputs": [],
   "source": [
    "x.reset_index().to_sql('Schooling_Exceed',eng,if_exists='replace')"
   ]
  },
  {
   "cell_type": "code",
   "execution_count": 42,
   "id": "60339ea3",
   "metadata": {},
   "outputs": [
    {
     "data": {
      "text/html": [
       "<div>\n",
       "<style scoped>\n",
       "    .dataframe tbody tr th:only-of-type {\n",
       "        vertical-align: middle;\n",
       "    }\n",
       "\n",
       "    .dataframe tbody tr th {\n",
       "        vertical-align: top;\n",
       "    }\n",
       "\n",
       "    .dataframe thead th {\n",
       "        text-align: right;\n",
       "    }\n",
       "</style>\n",
       "<table border=\"1\" class=\"dataframe\">\n",
       "  <thead>\n",
       "    <tr style=\"text-align: right;\">\n",
       "      <th></th>\n",
       "      <th></th>\n",
       "      <th>TOTAL_ENTITLEMENT</th>\n",
       "      <th>AMOUNT_TO_BE_PAID</th>\n",
       "      <th>Diff</th>\n",
       "    </tr>\n",
       "    <tr>\n",
       "      <th>ACADEMIC_YEAR</th>\n",
       "      <th>EMPLOYEE_NUMBER</th>\n",
       "      <th></th>\n",
       "      <th></th>\n",
       "      <th></th>\n",
       "    </tr>\n",
       "  </thead>\n",
       "  <tbody>\n",
       "    <tr>\n",
       "      <th>2020 – 2021</th>\n",
       "      <th>KU789</th>\n",
       "      <td>80000.0</td>\n",
       "      <td>81866.0</td>\n",
       "      <td>1</td>\n",
       "    </tr>\n",
       "    <tr>\n",
       "      <th rowspan=\"2\" valign=\"top\">2021 - 2022</th>\n",
       "      <th>KU500416</th>\n",
       "      <td>60000.0</td>\n",
       "      <td>79220.0</td>\n",
       "      <td>1</td>\n",
       "    </tr>\n",
       "    <tr>\n",
       "      <th>KU781</th>\n",
       "      <td>80000.0</td>\n",
       "      <td>90163.0</td>\n",
       "      <td>1</td>\n",
       "    </tr>\n",
       "  </tbody>\n",
       "</table>\n",
       "</div>"
      ],
      "text/plain": [
       "                               TOTAL_ENTITLEMENT  AMOUNT_TO_BE_PAID  Diff\n",
       "ACADEMIC_YEAR EMPLOYEE_NUMBER                                            \n",
       "2020 – 2021   KU789                      80000.0            81866.0     1\n",
       "2021 - 2022   KU500416                   60000.0            79220.0     1\n",
       "              KU781                      80000.0            90163.0     1"
      ]
     },
     "execution_count": 42,
     "metadata": {},
     "output_type": "execute_result"
    }
   ],
   "source": [
    "x"
   ]
  },
  {
   "cell_type": "code",
   "execution_count": 45,
   "id": "f2445a7a",
   "metadata": {},
   "outputs": [],
   "source": [
    "edu = education[education['ACADEMIC_YEAR'] == '2021 - 2022']"
   ]
  },
  {
   "cell_type": "code",
   "execution_count": 36,
   "id": "542070a7",
   "metadata": {},
   "outputs": [
    {
     "data": {
      "text/plain": [
       "456"
      ]
     },
     "execution_count": 36,
     "metadata": {},
     "output_type": "execute_result"
    }
   ],
   "source": [
    "len(edu['EMPLOYEE_NUMBER'].unique())"
   ]
  },
  {
   "cell_type": "code",
   "execution_count": 48,
   "id": "78474778",
   "metadata": {},
   "outputs": [
    {
     "data": {
      "text/plain": [
       "1805"
      ]
     },
     "execution_count": 48,
     "metadata": {},
     "output_type": "execute_result"
    }
   ],
   "source": [
    "len(edu)"
   ]
  },
  {
   "cell_type": "code",
   "execution_count": null,
   "id": "af102d59",
   "metadata": {},
   "outputs": [],
   "source": []
  }
 ],
 "metadata": {
  "kernelspec": {
   "display_name": "Python 3",
   "language": "python",
   "name": "python3"
  },
  "language_info": {
   "codemirror_mode": {
    "name": "ipython",
    "version": 3
   },
   "file_extension": ".py",
   "mimetype": "text/x-python",
   "name": "python",
   "nbconvert_exporter": "python",
   "pygments_lexer": "ipython3",
   "version": "3.8.11"
  }
 },
 "nbformat": 4,
 "nbformat_minor": 5
}
