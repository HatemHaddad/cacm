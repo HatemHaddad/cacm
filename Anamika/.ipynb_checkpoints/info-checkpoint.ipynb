{
 "cells": [
  {
   "cell_type": "code",
   "execution_count": 1,
   "id": "51ee80af",
   "metadata": {},
   "outputs": [],
   "source": [
    "import pandas as pd\n",
    "import fuzzymatcher\n",
    "import numpy as np\n",
    "import pyodbc\n",
    "import seaborn as sns\n",
    "import matplotlib.pyplot as plt\n",
    "import datetime\n",
    "import sqlite3\n",
    "from sqlite_fts4 import register_functions\n",
    "from sqlalchemy import create_engine"
   ]
  },
  {
   "cell_type": "code",
   "execution_count": 2,
   "id": "ebd664f5",
   "metadata": {},
   "outputs": [],
   "source": [
    "pd.set_option('display.max_rows', None)"
   ]
  },
  {
   "cell_type": "code",
   "execution_count": 3,
   "id": "0bfaa330",
   "metadata": {},
   "outputs": [],
   "source": [
    "svr_name = 'KU1ICDDWV011.kunet.ae'\n",
    "db_name = 'CACM'\n",
    "u_name = 'cacm_user'\n",
    "u_pass = 'Welcome#123'"
   ]
  },
  {
   "cell_type": "code",
   "execution_count": 4,
   "id": "14b900f0",
   "metadata": {},
   "outputs": [],
   "source": [
    "eng = create_engine(\"mssql+pyodbc://\"+u_name+\":\"+u_pass+\"@\"+svr_name+\"/\"+db_name+\"?driver=ODBC+Driver+17+for+SQL+Server\")"
   ]
  },
  {
   "cell_type": "code",
   "execution_count": 5,
   "id": "69e3ac75",
   "metadata": {},
   "outputs": [],
   "source": [
    "query_supplier = \"select * from dbo.KU_SRC_BI_KUST_SUPPLIER\"\n",
    "query_employee_bankdetails = \"select * from dbo.KU_SRC_EmployeesBankDetails\"\n",
    "query_employee_details = \"select * from dbo.KU_SRC_EmployeeDetails\"\n",
    "query_ap = \"select * from dbo.KU_SRC_AP_Invoices\"\n",
    "query_payroll = \"select * from aderp.dbo.KU_Payroll_All\"\n",
    "query_leaves = \"select * from CACM.dbo.KU_SRC_EmployeesLeaves\"\n",
    "query_attendance = \"select * from aderp.dbo.KU_Attendance_view\""
   ]
  },
  {
   "cell_type": "code",
   "execution_count": 37,
   "id": "b6654ac4",
   "metadata": {},
   "outputs": [],
   "source": [
    "supplier = pd.read_sql(query_supplier, eng)\n",
    "bank_details = pd.read_sql(query_employee_bankdetails, eng)\n",
    "employee_details = pd.read_sql(query_employee_details, eng)\n",
    "ap = pd.read_sql(query_ap, eng)\n",
    "payroll = pd.read_sql(query_payroll, eng)\n",
    "leaves = pd.read_sql(query_leaves,eng)\n",
    "attendance = pd.read_sql(query_attendance, eng)"
   ]
  },
  {
   "cell_type": "markdown",
   "id": "4897b9b5",
   "metadata": {},
   "source": [
    "## Employee Basic Information"
   ]
  },
  {
   "cell_type": "code",
   "execution_count": 16,
   "id": "d77afc4b",
   "metadata": {},
   "outputs": [],
   "source": [
    "def info(id):\n",
    "    \n",
    "    try:\n",
    "        name = list(employee_details[employee_details['EmpNo'] == id]['EmployeeName'])\n",
    "        department = list(employee_details[employee_details['EmpNo'] == id]['Department'])\n",
    "        vpname = list(employee_details[employee_details['EmpNo'] == id]['VPName'])[0]\n",
    "        gender = list(employee_details[employee_details['EmpNo'] == id]['Gender'])[0]\n",
    "        nationality = list(employee_details[employee_details['EmpNo'] == id]['Nationality'])[0]\n",
    "        birth = list(employee_details[employee_details['EmpNo'] == id]['DateOfBirth'])[0]\n",
    "        age = list(employee_details[employee_details['EmpNo'] == id]['Age'])[0]\n",
    "        hire = list(employee_details[employee_details['EmpNo'] == id]['HireDate'])[0]\n",
    "        details = attendance[attendance['empID'] == id].iloc[-1]\n",
    "        date = details[0]\n",
    "        salary = payroll[payroll['EmployeeNumber'] == id].sort_values(['PayYear','PayMonthNum'],ascending=[False,False])['Gross'].iloc[0]\n",
    "        leave = leaves[leaves['EmployeeNumber'] == id].sort_values('LeaveStartDate',ascending=False).iloc[0]\n",
    "        delta = int((datetime.datetime.strptime(date,\"%Y-%m-%d\").date() - datetime.datetime.today().date()).days)\n",
    "        last_entry = datetime.datetime.strptime(date,\"%Y-%m-%d\").date()\n",
    "        condition = np.where((last_entry > leave[4].date()) & (delta < 0),\"Leave Not Registered\",\"OK\" )\n",
    "\n",
    "        print('Name: ',name[0])\n",
    "        print('Department: ',department[0])\n",
    "        print('VP Name: ', vpname)\n",
    "        print('Nationality: ', nationality)\n",
    "        print('Date of Birth: ', birth)\n",
    "        print('Age: ', age)\n",
    "        print('Gender: ', gender)\n",
    "        print('Hire Date: ', hire.date())\n",
    "        print('Last Salary: '+ 'AED '+ str(salary))\n",
    "        print('Last Entry Date: ', last_entry)\n",
    "        print('Leave Start Date: ',leave[3].date())\n",
    "        print('Leave End Date: ',leave[4].date())\n",
    "        print('Leave Type: ', leave[2])\n",
    "        print('Leave Duration', leave[5])\n",
    "        #print(datetime.datetime.today().date())\n",
    "        print('Attendance: ', condition)\n",
    "        print('Days not attending: ', delta)\n",
    "        \n",
    "    except:\n",
    "        print('ID is not available.')\n",
    "    "
   ]
  },
  {
   "cell_type": "markdown",
   "id": "ea697492",
   "metadata": {},
   "source": [
    "## Same IBAN for different employees"
   ]
  },
  {
   "cell_type": "code",
   "execution_count": 17,
   "id": "9c725681",
   "metadata": {},
   "outputs": [],
   "source": [
    "def iban():\n",
    "    \n",
    "    '''\n",
    "    Checks if two employees got the same IBA.\n",
    "    \n",
    "    '''\n",
    "    bank_no_dup = bank_details[['IBAN','EMPLOYEENUMBER']].drop_duplicates()\n",
    "    x = bank_no_dup[['IBAN','EMPLOYEENUMBER']].groupby('IBAN').agg({'EMPLOYEENUMBER':'count'}).sort_values('EMPLOYEENUMBER',ascending=False)\n",
    "    return x[x['EMPLOYEENUMBER'] > 1].reset_index()"
   ]
  },
  {
   "cell_type": "code",
   "execution_count": 18,
   "id": "6530c8c7",
   "metadata": {},
   "outputs": [],
   "source": [
    "def dup_iban(iban):\n",
    "    return list(bank_details[bank_details['IBAN'] == iban]['EMPLOYEENUMBER'].drop_duplicates())"
   ]
  },
  {
   "cell_type": "markdown",
   "id": "e46b95fc",
   "metadata": {},
   "source": [
    "## Supplier not Employee"
   ]
  },
  {
   "cell_type": "code",
   "execution_count": 19,
   "id": "443edd4f",
   "metadata": {},
   "outputs": [],
   "source": [
    "def supplier_not_employee(cat):\n",
    "    \n",
    "    supplier_x = supplier[['SUPPLIER_NAME','SUPPLIER_CATEGORY']].drop_duplicates()\n",
    "    employee = employee_details[['EmpNo','EmployeeName']].drop_duplicates()\n",
    "    left = supplier_x.merge(employee,left_on='SUPPLIER_NAME',right_on='EmployeeName',how='left')\n",
    "    result = left[(left['SUPPLIER_CATEGORY'] == cat) & (left['EmpNo'].isnull())]\n",
    "    \n",
    "    return result"
   ]
  },
  {
   "cell_type": "code",
   "execution_count": 20,
   "id": "747e9643",
   "metadata": {},
   "outputs": [],
   "source": [
    "supplier_x = supplier[['SUPPLIER_NAME','SUPPLIER_CATEGORY']].drop_duplicates()\n",
    "employee = employee_details[['EmpNo','EmployeeName']].drop_duplicates()"
   ]
  },
  {
   "cell_type": "code",
   "execution_count": 32,
   "id": "06d66a3d",
   "metadata": {},
   "outputs": [],
   "source": [
    "l = ['KU883','KU106']"
   ]
  },
  {
   "cell_type": "code",
   "execution_count": 36,
   "id": "2541a6b9",
   "metadata": {},
   "outputs": [
    {
     "name": "stdout",
     "output_type": "stream",
     "text": [
      "Name:  Najat Jumaa Al Mukaiti\n",
      "Department:  Finance Operations\n",
      "VP Name:  Ebrahim Jafar Alahmed\n",
      "Nationality:  United Arab Emirates\n",
      "Date of Birth:  07-DEC-1984\n",
      "Age:  37\n",
      "Gender:  Female\n",
      "Hire Date:  2020-03-01\n",
      "Last Salary: AED 45974.0\n",
      "Last Entry Date:  2022-04-01\n",
      "Leave Start Date:  2022-01-20\n",
      "Leave End Date:  2022-01-20\n",
      "Leave Type:  Partial Day Annual Leave\n",
      "Leave Duration 0.5\n",
      "Attendance:  Leave Not Registered\n",
      "Days not attending:  -3\n"
     ]
    },
    {
     "ename": "TypeError",
     "evalue": "'NoneType' object is not subscriptable",
     "output_type": "error",
     "traceback": [
      "\u001b[1;31m---------------------------------------------------------------------------\u001b[0m",
      "\u001b[1;31mTypeError\u001b[0m                                 Traceback (most recent call last)",
      "\u001b[1;32m<ipython-input-36-73cb48108eef>\u001b[0m in \u001b[0;36m<module>\u001b[1;34m\u001b[0m\n\u001b[0;32m      1\u001b[0m \u001b[1;32mfor\u001b[0m \u001b[0mi\u001b[0m \u001b[1;32min\u001b[0m \u001b[0ml\u001b[0m\u001b[1;33m:\u001b[0m\u001b[1;33m\u001b[0m\u001b[1;33m\u001b[0m\u001b[0m\n\u001b[1;32m----> 2\u001b[1;33m     \u001b[0mprint\u001b[0m\u001b[1;33m(\u001b[0m\u001b[0minfo\u001b[0m\u001b[1;33m(\u001b[0m\u001b[0mi\u001b[0m\u001b[1;33m)\u001b[0m\u001b[1;33m[\u001b[0m\u001b[1;36m1\u001b[0m\u001b[1;33m]\u001b[0m\u001b[1;33m[\u001b[0m\u001b[1;36m1\u001b[0m\u001b[1;33m]\u001b[0m\u001b[1;33m)\u001b[0m\u001b[1;33m\u001b[0m\u001b[1;33m\u001b[0m\u001b[0m\n\u001b[0m",
      "\u001b[1;31mTypeError\u001b[0m: 'NoneType' object is not subscriptable"
     ]
    }
   ],
   "source": []
  },
  {
   "cell_type": "code",
   "execution_count": null,
   "id": "6aafed6e",
   "metadata": {},
   "outputs": [],
   "source": []
  }
 ],
 "metadata": {
  "kernelspec": {
   "display_name": "Python 3",
   "language": "python",
   "name": "python3"
  },
  "language_info": {
   "codemirror_mode": {
    "name": "ipython",
    "version": 3
   },
   "file_extension": ".py",
   "mimetype": "text/x-python",
   "name": "python",
   "nbconvert_exporter": "python",
   "pygments_lexer": "ipython3",
   "version": "3.8.11"
  }
 },
 "nbformat": 4,
 "nbformat_minor": 5
}
