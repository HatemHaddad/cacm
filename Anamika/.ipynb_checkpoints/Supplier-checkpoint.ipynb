{
 "cells": [
  {
   "cell_type": "markdown",
   "id": "a714c20a",
   "metadata": {},
   "source": [
    "# Bank account details in Supplier database(Beneficiary – employee) and Employee database matches.\n",
    "\n",
    "1. Employee has two bank accounts in employee master\n",
    "2. Emp bank account in employee master does not match the IBAN in supplier master (match by name)\n",
    "3. Emp IBAN matches with supplier IBAN i.e. other categories"
   ]
  },
  {
   "cell_type": "code",
   "execution_count": 2,
   "id": "51ee80af",
   "metadata": {},
   "outputs": [],
   "source": [
    "import pandas as pd\n",
    "import numpy as np\n",
    "import pyodbc\n",
    "import seaborn as sns\n",
    "import matplotlib.pyplot as plt\n",
    "from sqlalchemy import create_engine"
   ]
  },
  {
   "cell_type": "code",
   "execution_count": 3,
   "id": "0bfaa330",
   "metadata": {},
   "outputs": [],
   "source": [
    "svr_name = 'KU1ICDDWV011.kunet.ae'\n",
    "db_name = 'CACM'\n",
    "u_name = 'cacm_user'\n",
    "u_pass = 'Welcome#123'"
   ]
  },
  {
   "cell_type": "code",
   "execution_count": 4,
   "id": "14b900f0",
   "metadata": {},
   "outputs": [],
   "source": [
    "eng = create_engine(\"mssql+pyodbc://\"+u_name+\":\"+u_pass+\"@\"+svr_name+\"/\"+db_name+\"?driver=ODBC+Driver+17+for+SQL+Server\")"
   ]
  },
  {
   "cell_type": "code",
   "execution_count": 5,
   "id": "69e3ac75",
   "metadata": {},
   "outputs": [],
   "source": [
    "query_supplier = \"select * from dbo.KU_SRC_BI_KUST_SUPPLIER\"\n",
    "query_employee_bankdetails = \"select * from dbo.KU_SRC_EmployeesBankDetails\"\n",
    "query_employee_details = \"select * from dbo.KU_SRC_EmployeeDetails\"\n",
    "query_ap = \"select * from dbo.KU_SRC_AP_Invoices\"\n",
    "query_payroll = \"select * from aderp.dbo.KU_Payroll_All\"\n",
    "query_leaves = \"select * from CACM.dbo.KU_SRC_EmployeesLeaves\"\n",
    "query_attendance = \"select * from aderp.dbo.KU_Attendance_view\""
   ]
  },
  {
   "cell_type": "code",
   "execution_count": 6,
   "id": "b6654ac4",
   "metadata": {},
   "outputs": [],
   "source": [
    "supplier = pd.read_sql(query_supplier, eng)\n",
    "bank_details = pd.read_sql(query_employee_bankdetails, eng)\n",
    "employee_details = pd.read_sql(query_employee_details, eng)\n",
    "ap = pd.read_sql(query_ap, eng)\n",
    "payroll = pd.read_sql(query_payroll, eng)\n",
    "leaves = pd.read_sql(query_leaves,eng)\n",
    "attendance = pd.read_sql(query_attendance, eng)"
   ]
  },
  {
   "cell_type": "code",
   "execution_count": 102,
   "id": "4fa01f85",
   "metadata": {},
   "outputs": [],
   "source": [
    "def info(id):\n",
    "    \n",
    "    name = list(employee_details[employee_details['EmpNo'] == id]['EmployeeName'])\n",
    "    details = attendance[attendance['empID'] == id].iloc[-1]\n",
    "    date = details[0]\n",
    "    salary = payroll[payroll['EmployeeNumber'] == id].sort_values(['PayYear','PayMonthNum'],ascending=[False,False])['Gross'].iloc[0]\n",
    "    leave = leaves[leaves['EmployeeNumber'] == id].sort_values('LeaveStartDate',ascending=False).iloc[0]\n",
    "    print('Name: ',name[0])\n",
    "    print('Last Salary: '+ 'AED '+ str(salary))\n",
    "    print('Last Entry Date: ',date)\n",
    "    print('Leave Start Date: ',leave[3].date())\n",
    "    print('Leave Type: ', leave[2])\n",
    "    print('Leave Duration', leave[5])"
   ]
  },
  {
   "cell_type": "code",
   "execution_count": 103,
   "id": "26e4cbe7",
   "metadata": {},
   "outputs": [
    {
     "name": "stdout",
     "output_type": "stream",
     "text": [
      "Name:  Juan Manuel Acuna\n",
      "Last Salary: AED 91617.0\n",
      "Last Entry Date:  2022-03-22\n",
      "Leave Start Date:  2022-01-23\n",
      "Leave Type:  EXPO 2020 Leave\n",
      "Leave Duration 1.0\n"
     ]
    }
   ],
   "source": [
    "info('KU750')"
   ]
  },
  {
   "cell_type": "code",
   "execution_count": 90,
   "id": "df8d0f9f",
   "metadata": {},
   "outputs": [
    {
     "data": {
      "text/plain": [
       "EmployeeNumber                  KU750\n",
       "leaveCategory                       V\n",
       "LeaveType             EXPO 2020 Leave\n",
       "LeaveStartDate    2022-01-23 00:00:00\n",
       "LeaveEndDate      2022-01-23 00:00:00\n",
       "leaveduration                     1.0\n",
       "LeaveStatus                         A\n",
       "Name: 32321, dtype: object"
      ]
     },
     "execution_count": 90,
     "metadata": {},
     "output_type": "execute_result"
    }
   ],
   "source": [
    "leaves[leaves['EmployeeNumber'] == 'KU750'].sort_values('LeaveStartDate',ascending=False).iloc[0]"
   ]
  },
  {
   "cell_type": "code",
   "execution_count": 77,
   "id": "8b0840fe",
   "metadata": {},
   "outputs": [
    {
     "data": {
      "text/html": [
       "<div>\n",
       "<style scoped>\n",
       "    .dataframe tbody tr th:only-of-type {\n",
       "        vertical-align: middle;\n",
       "    }\n",
       "\n",
       "    .dataframe tbody tr th {\n",
       "        vertical-align: top;\n",
       "    }\n",
       "\n",
       "    .dataframe thead th {\n",
       "        text-align: right;\n",
       "    }\n",
       "</style>\n",
       "<table border=\"1\" class=\"dataframe\">\n",
       "  <thead>\n",
       "    <tr style=\"text-align: right;\">\n",
       "      <th></th>\n",
       "      <th>SUPPLIER_NAME</th>\n",
       "      <th>BANK_NAME</th>\n",
       "      <th>BANK_ACCOUNT_IBAN</th>\n",
       "    </tr>\n",
       "  </thead>\n",
       "  <tbody>\n",
       "    <tr>\n",
       "      <th>1</th>\n",
       "      <td>AL FUTTAIM MOTOR COMPANY L.L.C. - ABU DHABI</td>\n",
       "      <td>ABU DHABI COMMERCIAL BANK</td>\n",
       "      <td>AE230030000100317020003</td>\n",
       "    </tr>\n",
       "    <tr>\n",
       "      <th>7</th>\n",
       "      <td>POTENZA ELECTROMECHANICAL WORKS L.L.C.</td>\n",
       "      <td>ARAB BANK FOR INVESTMENT/TRADE</td>\n",
       "      <td>AE460080000991000479343</td>\n",
       "    </tr>\n",
       "    <tr>\n",
       "      <th>8</th>\n",
       "      <td>SOFIA ALEXANDRA BALULA PEREIRA DIAS</td>\n",
       "      <td>BANCO MONTEPIO</td>\n",
       "      <td>PT50003601999910005563195</td>\n",
       "    </tr>\n",
       "    <tr>\n",
       "      <th>9</th>\n",
       "      <td>SOFIA ALEXANDRA BALULA PEREIRA DIAS</td>\n",
       "      <td>ABU DHABI COMMERCIAL BANK</td>\n",
       "      <td>AE860030011980906910001</td>\n",
       "    </tr>\n",
       "    <tr>\n",
       "      <th>11</th>\n",
       "      <td>AADEL HASSAN MOHAMED MOHAMED ALHMOUDI</td>\n",
       "      <td>ABU DHABI ISLAMIC BANK</td>\n",
       "      <td>AE630500000000028230787</td>\n",
       "    </tr>\n",
       "    <tr>\n",
       "      <th>...</th>\n",
       "      <td>...</td>\n",
       "      <td>...</td>\n",
       "      <td>...</td>\n",
       "    </tr>\n",
       "    <tr>\n",
       "      <th>107191</th>\n",
       "      <td>JASON CYRUS FETTY</td>\n",
       "      <td>ABU DHABI COMMERCIAL BANK</td>\n",
       "      <td>AE390030011868320920001</td>\n",
       "    </tr>\n",
       "    <tr>\n",
       "      <th>107192</th>\n",
       "      <td>MOHAMED LAMINE SEGHIER</td>\n",
       "      <td>FIRST ABU DHABI BANK</td>\n",
       "      <td>AE130351871003748013019</td>\n",
       "    </tr>\n",
       "    <tr>\n",
       "      <th>107193</th>\n",
       "      <td>CHENG CHIN KUI</td>\n",
       "      <td>ABU DHABI COMMERCIAL BANK</td>\n",
       "      <td>AE910030011866895920001</td>\n",
       "    </tr>\n",
       "    <tr>\n",
       "      <th>107194</th>\n",
       "      <td>LUDOVIC FRANCIS YANNICK DUMEE</td>\n",
       "      <td>HSBC BANK MIDDLE EAST</td>\n",
       "      <td>AE930200000012240057001</td>\n",
       "    </tr>\n",
       "    <tr>\n",
       "      <th>107196</th>\n",
       "      <td>KHALIFA UNIVERSITY OF SCIENCE AND TECHONOLOGY-...</td>\n",
       "      <td>FIRST ABU DHABI BANK</td>\n",
       "      <td>AE030351011003284369136</td>\n",
       "    </tr>\n",
       "  </tbody>\n",
       "</table>\n",
       "<p>77905 rows × 3 columns</p>\n",
       "</div>"
      ],
      "text/plain": [
       "                                            SUPPLIER_NAME  \\\n",
       "1             AL FUTTAIM MOTOR COMPANY L.L.C. - ABU DHABI   \n",
       "7                  POTENZA ELECTROMECHANICAL WORKS L.L.C.   \n",
       "8                     SOFIA ALEXANDRA BALULA PEREIRA DIAS   \n",
       "9                     SOFIA ALEXANDRA BALULA PEREIRA DIAS   \n",
       "11                  AADEL HASSAN MOHAMED MOHAMED ALHMOUDI   \n",
       "...                                                   ...   \n",
       "107191                                  JASON CYRUS FETTY   \n",
       "107192                             MOHAMED LAMINE SEGHIER   \n",
       "107193                                     CHENG CHIN KUI   \n",
       "107194                      LUDOVIC FRANCIS YANNICK DUMEE   \n",
       "107196  KHALIFA UNIVERSITY OF SCIENCE AND TECHONOLOGY-...   \n",
       "\n",
       "                             BANK_NAME          BANK_ACCOUNT_IBAN  \n",
       "1            ABU DHABI COMMERCIAL BANK    AE230030000100317020003  \n",
       "7       ARAB BANK FOR INVESTMENT/TRADE    AE460080000991000479343  \n",
       "8                       BANCO MONTEPIO  PT50003601999910005563195  \n",
       "9            ABU DHABI COMMERCIAL BANK    AE860030011980906910001  \n",
       "11              ABU DHABI ISLAMIC BANK    AE630500000000028230787  \n",
       "...                                ...                        ...  \n",
       "107191       ABU DHABI COMMERCIAL BANK    AE390030011868320920001  \n",
       "107192            FIRST ABU DHABI BANK    AE130351871003748013019  \n",
       "107193       ABU DHABI COMMERCIAL BANK    AE910030011866895920001  \n",
       "107194           HSBC BANK MIDDLE EAST    AE930200000012240057001  \n",
       "107196            FIRST ABU DHABI BANK    AE030351011003284369136  \n",
       "\n",
       "[77905 rows x 3 columns]"
      ]
     },
     "execution_count": 77,
     "metadata": {},
     "output_type": "execute_result"
    }
   ],
   "source": [
    "supplier_iban = supplier.loc[:,[\"SUPPLIER_NAME\",\"BANK_NAME\",\"BANK_ACCOUNT_IBAN\"]].dropna()\n",
    "supplier_iban"
   ]
  },
  {
   "cell_type": "code",
   "execution_count": 43,
   "id": "d5ec3aa9",
   "metadata": {},
   "outputs": [
    {
     "data": {
      "text/plain": [
       "['Juan Manuel Acuna']"
      ]
     },
     "execution_count": 43,
     "metadata": {},
     "output_type": "execute_result"
    }
   ],
   "source": [
    "list(employee_details[employee_details['EmpNo'] =='KU750']['EmployeeName'])"
   ]
  },
  {
   "cell_type": "code",
   "execution_count": null,
   "id": "1420d9eb",
   "metadata": {},
   "outputs": [],
   "source": []
  },
  {
   "cell_type": "code",
   "execution_count": 19,
   "id": "c55e42db",
   "metadata": {},
   "outputs": [
    {
     "data": {
      "text/plain": [
       "'2022-03-30'"
      ]
     },
     "execution_count": 19,
     "metadata": {},
     "output_type": "execute_result"
    }
   ],
   "source": [
    "x = info('KU1016')\n",
    "x[0]"
   ]
  },
  {
   "cell_type": "code",
   "execution_count": null,
   "id": "5bd6a252",
   "metadata": {},
   "outputs": [],
   "source": [
    "employee_iban = bank_details.loc[:,[\"EMPLOYEENUMBER\",\"IBAN\"]]\n",
    "employee_iban"
   ]
  },
  {
   "cell_type": "code",
   "execution_count": null,
   "id": "ff2f2115",
   "metadata": {},
   "outputs": [],
   "source": [
    "emp_name = employee_details.loc[:,[\"EmpNo\",\"EmployeeName\"]]\n",
    "emp_name"
   ]
  },
  {
   "cell_type": "code",
   "execution_count": null,
   "id": "618aa2c5",
   "metadata": {},
   "outputs": [],
   "source": [
    "emp_join = emp_name.merge(supplier_iban,left_on=\"EmployeeName\",right_on=\"SUPPLIER_NAME\",how=\"left\").drop_duplicates()\n",
    "emp_join"
   ]
  },
  {
   "cell_type": "code",
   "execution_count": null,
   "id": "30dfd60d",
   "metadata": {},
   "outputs": [],
   "source": [
    "employee_iban.merge(supplier_iban,left_on=\"IBAN\",right_on=\"BANK_ACCOUNT_IBAN\",how=\"inner\") \\\n",
    ".merge(emp_name,left_on=\"EMPLOYEENUMBER\",right_on=\"EmpNo\",how=\"inner\").drop_duplicates()"
   ]
  },
  {
   "cell_type": "code",
   "execution_count": null,
   "id": "d2af85d5",
   "metadata": {},
   "outputs": [],
   "source": [
    "emp_join.head()"
   ]
  },
  {
   "cell_type": "code",
   "execution_count": null,
   "id": "505d7a2b",
   "metadata": {},
   "outputs": [],
   "source": [
    "emp_join.drop_duplicates().groupby(\"EmpNo\")[\"BANK_ACCOUNT_IBAN\"].count().sort_values(ascending=False)"
   ]
  },
  {
   "cell_type": "code",
   "execution_count": null,
   "id": "7816f0a2",
   "metadata": {},
   "outputs": [],
   "source": [
    "ap_merge = ap.merge(supplier_iban,left_on=\"Supplier Name\",right_on=\"SUPPLIER_NAME\",how=\"inner\")"
   ]
  },
  {
   "cell_type": "code",
   "execution_count": null,
   "id": "7eeefc6d",
   "metadata": {},
   "outputs": [],
   "source": [
    "ap.groupby(\"Invoice Number\").agg({\"Invoice Number\":\"count\"})"
   ]
  },
  {
   "cell_type": "code",
   "execution_count": null,
   "id": "e31fa0ff",
   "metadata": {},
   "outputs": [],
   "source": [
    "ap['Invoice Date'] = pd.to_datetime(ap['Invoice Date'])"
   ]
  },
  {
   "cell_type": "code",
   "execution_count": null,
   "id": "b8f78ccc",
   "metadata": {},
   "outputs": [],
   "source": [
    "ap.set_index('Invoice Date',inplace=True)"
   ]
  },
  {
   "cell_type": "code",
   "execution_count": null,
   "id": "0f3f8784",
   "metadata": {},
   "outputs": [],
   "source": [
    "ap.loc['2021-10'].groupby('Supplier Name')['Invoice Amount'].sum().sort_values(ascending=False)"
   ]
  },
  {
   "cell_type": "code",
   "execution_count": null,
   "id": "f256afe0",
   "metadata": {},
   "outputs": [],
   "source": [
    "ap['Supplier Name'].nunique()"
   ]
  },
  {
   "cell_type": "code",
   "execution_count": null,
   "id": "9b0da5ef",
   "metadata": {},
   "outputs": [],
   "source": [
    "ap[ap['Approval Status'] == 'NEEDS REAPPROVAL']"
   ]
  },
  {
   "cell_type": "code",
   "execution_count": null,
   "id": "b2f4eb10",
   "metadata": {},
   "outputs": [],
   "source": [
    "ap = ap.astype({'Payment Date':'datetime64','Invoice Received Date':'datetime64[ns]'},errors='ignore')"
   ]
  },
  {
   "cell_type": "code",
   "execution_count": null,
   "id": "995eab85",
   "metadata": {},
   "outputs": [],
   "source": [
    "bank_no_dup = bank_details[['IBAN','EMPLOYEENUMBER']].drop_duplicates()\n",
    "\n",
    "dup=bank_no_dup[['IBAN','EMPLOYEENUMBER']].groupby('IBAN').agg({'EMPLOYEENUMBER':'count'}).sort_values('EMPLOYEENUMBER',ascending=False)\n",
    "\n",
    "len(dup.index)\n",
    "# bank_details[['IBAN','EMPLOYEENUMBER']].groupby('IBAN').agg({'EMPLOYEENUMBER':'first'})"
   ]
  },
  {
   "cell_type": "code",
   "execution_count": null,
   "id": "3c563ec1",
   "metadata": {},
   "outputs": [],
   "source": [
    "dup_bank_names = bank_details[bank_details['IBAN'].isin(['AE450351446003549975019','AE490240029520170584301','AE030340003578211043701','AE110030010364093204001','AE390350000000156655590','AE320520000110080030040','AE830351856003656580018','AE690030011396880920001','AE890030010200957141001','AE030500000000028310146'\n",
    ",'AE020230000002001929807','AE350351466003921558016'])]"
   ]
  },
  {
   "cell_type": "code",
   "execution_count": null,
   "id": "c082a045",
   "metadata": {},
   "outputs": [],
   "source": [
    "employee_details.head(1)"
   ]
  },
  {
   "cell_type": "code",
   "execution_count": null,
   "id": "25b2abdc",
   "metadata": {},
   "outputs": [],
   "source": [
    "dup_final = dup_bank_names[['EMPLOYEENUMBER','IBAN']].merge(employee_details,left_on='EMPLOYEENUMBER',right_on='EmpNo',how='left')"
   ]
  },
  {
   "cell_type": "code",
   "execution_count": null,
   "id": "2d89a1d0",
   "metadata": {},
   "outputs": [],
   "source": [
    "dup_final[['IBAN','EmpNo','EmployeeName']]"
   ]
  },
  {
   "cell_type": "code",
   "execution_count": null,
   "id": "5e7bf958",
   "metadata": {},
   "outputs": [],
   "source": [
    "employee_details[employee_details['EmpNo'] == 'KU750']"
   ]
  },
  {
   "cell_type": "code",
   "execution_count": null,
   "id": "79528138",
   "metadata": {},
   "outputs": [],
   "source": [
    "payroll[payroll['EmployeeNumber'] == 'KU750'].pivot_table('Gross',index='EmployeeNumber',columns=['PayYear','PayMonthNum']).to_excel('KU750.xlsx')"
   ]
  },
  {
   "cell_type": "code",
   "execution_count": null,
   "id": "c7a9b693",
   "metadata": {},
   "outputs": [],
   "source": [
    "payroll"
   ]
  },
  {
   "cell_type": "code",
   "execution_count": null,
   "id": "6bab1e7d",
   "metadata": {},
   "outputs": [],
   "source": [
    "leaves[leaves['EmployeeNumber'] == 'KU750']"
   ]
  },
  {
   "cell_type": "code",
   "execution_count": 13,
   "id": "cc3e295e",
   "metadata": {},
   "outputs": [
    {
     "data": {
      "text/plain": [
       "transactionDate    2022-03-30\n",
       "empID                  KU1016\n",
       "firstIn                 08:38\n",
       "LastOUt                 14:29\n",
       "Campus                    MAC\n",
       "Name: 458729, dtype: object"
      ]
     },
     "execution_count": 13,
     "metadata": {},
     "output_type": "execute_result"
    }
   ],
   "source": [
    "attendance[attendance['empID'] == 'KU1016'].iloc[-1]"
   ]
  },
  {
   "cell_type": "code",
   "execution_count": null,
   "id": "f3c5b7d0",
   "metadata": {},
   "outputs": [],
   "source": []
  },
  {
   "cell_type": "code",
   "execution_count": null,
   "id": "06105b33",
   "metadata": {},
   "outputs": [],
   "source": []
  },
  {
   "cell_type": "code",
   "execution_count": null,
   "id": "5b8af83b",
   "metadata": {},
   "outputs": [],
   "source": []
  }
 ],
 "metadata": {
  "kernelspec": {
   "display_name": "Python 3",
   "language": "python",
   "name": "python3"
  },
  "language_info": {
   "codemirror_mode": {
    "name": "ipython",
    "version": 3
   },
   "file_extension": ".py",
   "mimetype": "text/x-python",
   "name": "python",
   "nbconvert_exporter": "python",
   "pygments_lexer": "ipython3",
   "version": "3.8.11"
  }
 },
 "nbformat": 4,
 "nbformat_minor": 5
}
