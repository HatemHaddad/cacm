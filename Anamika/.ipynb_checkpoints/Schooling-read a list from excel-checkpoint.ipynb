{
 "cells": [
  {
   "cell_type": "code",
   "execution_count": 3,
   "id": "921ffdca",
   "metadata": {},
   "outputs": [],
   "source": [
    "import pandas as pd\n",
    "import numpy as np\n",
    "import pyodbc\n",
    "import seaborn as sns\n",
    "import matplotlib.pyplot as plt\n",
    "from sqlalchemy import create_engine"
   ]
  },
  {
   "cell_type": "code",
   "execution_count": 4,
   "id": "101fe73a",
   "metadata": {},
   "outputs": [],
   "source": [
    "svr_name = 'KU1ICDDWV011.kunet.ae'\n",
    "db_name = 'CACM'\n",
    "u_name = 'cacm_user'\n",
    "u_pass = 'Welcome#123'"
   ]
  },
  {
   "cell_type": "code",
   "execution_count": 5,
   "id": "b85d5a93",
   "metadata": {},
   "outputs": [],
   "source": [
    "eng = create_engine(\"mssql+pyodbc://\"+u_name+\":\"+u_pass+\"@\"+svr_name+\"/\"+db_name+\"?driver=ODBC+Driver+17+for+SQL+Server\")"
   ]
  },
  {
   "cell_type": "code",
   "execution_count": 6,
   "id": "fcab7bb1",
   "metadata": {},
   "outputs": [],
   "source": [
    "query_payroll = \"select * from ADERP.dbo.KU_Payroll_All\"\n",
    "query_education =\"select * from ADERP.dbo.XXDOF_BI_KU_EDUCATION_T\"\n",
    "query_basic_info = \"select * from ADERP.dbo.XXDOF_BI_KU_Emp_Basic_Info_T\"\n",
    "query_payroll_T =  \"select * from ADERP.dbo.XXDOF_BI_KU_PAYROLL_T\""
   ]
  },
  {
   "cell_type": "code",
   "execution_count": 7,
   "id": "bc405b28",
   "metadata": {},
   "outputs": [],
   "source": [
    "payroll = pd.read_sql(query_payroll, eng)\n",
    "education = pd.read_sql(query_education, eng)\n",
    "info = pd.read_sql(query_basic_info, eng)\n",
    "payroll_t = pd.read_sql(query_payroll_T, eng)"
   ]
  },
  {
   "cell_type": "code",
   "execution_count": 8,
   "id": "5304334a",
   "metadata": {},
   "outputs": [],
   "source": [
    "child = education[['EMPLOYEE_NUMBER','CHILD_NAME']].drop_duplicates()\n",
    "eligible = education[['EMPLOYEE_NUMBER','MAX_CHILD_ELIGIBLE']].drop_duplicates()\n",
    "emp = info[['EMPLOYEENUMBER','NATIONALITY','MARITALSTAT']].drop_duplicates()"
   ]
  },
  {
   "cell_type": "code",
   "execution_count": 22,
   "id": "f803ce9d",
   "metadata": {},
   "outputs": [
    {
     "data": {
      "text/plain": [
       "array(['2013 - 2014', '2017 - 2018', '2014 - 2015', '2012 - 2013',\n",
       "       '2015 - 2016', '2011 - 2012', '2016 - 2017', '2021 - 2022',\n",
       "       '2020 – 2021', '2019 – 2020', '2018 – 2019', '2022 – 2023',\n",
       "       '2001 - 2002'], dtype=object)"
      ]
     },
     "execution_count": 22,
     "metadata": {},
     "output_type": "execute_result"
    }
   ],
   "source": [
    "education['ACADEMIC_YEAR'].unique()"
   ]
  },
  {
   "cell_type": "code",
   "execution_count": 9,
   "id": "c6a339ae",
   "metadata": {},
   "outputs": [],
   "source": [
    "def academic_year(year):\n",
    "    \n",
    "    academic = education[education['ACADEMIC_YEAR'] == year]\n",
    "    academic = academic.astype({'AMOUNT_TO_BE_PAID':'float'})\n",
    "    \n",
    "    ed_final = academic[['EMPLOYEE_NUMBER','ACADEMIC_YEAR','ACADEMIC_SEM','CHILD_NAME','DATE_OF_BIRTH','TOTAL_ENTITLEMENT','CHILD_ENTITLEMENT_AMOUNT','SCHOOL','AMOUNT_TO_BE_PAID']]\n",
    "    \n",
    "    return ed_final\n",
    "    "
   ]
  },
  {
   "cell_type": "code",
   "execution_count": 10,
   "id": "be698127",
   "metadata": {},
   "outputs": [],
   "source": [
    "def paid(Emp):\n",
    "    \n",
    "    result = ed_final[ed_final['EMPLOYEE_NUMBER'] == Emp ].agg({'AMOUNT_TO_BE_PAID':'sum'})\n",
    "    \n",
    "    return list(result)"
   ]
  },
  {
   "cell_type": "code",
   "execution_count": 28,
   "id": "f3ef0b3d",
   "metadata": {},
   "outputs": [],
   "source": [
    "ed_final = academic_year('2020 – 2021')"
   ]
  },
  {
   "cell_type": "code",
   "execution_count": 29,
   "id": "eea9949e",
   "metadata": {},
   "outputs": [],
   "source": [
    "sc = pd.read_excel('Schools_list.xlsx')\n",
    "\n",
    "mylist = sc['EMPLOYEE_NUMBER'].tolist()\n",
    "\n",
    "\n",
    "output = []\n",
    "\n",
    "for emp in mylist:\n",
    "    output.append(paid(emp))\n"
   ]
  },
  {
   "cell_type": "code",
   "execution_count": 30,
   "id": "490d00fe",
   "metadata": {},
   "outputs": [],
   "source": [
    "df = pd.DataFrame(output)"
   ]
  },
  {
   "cell_type": "code",
   "execution_count": 31,
   "id": "55fee1eb",
   "metadata": {},
   "outputs": [
    {
     "data": {
      "text/html": [
       "<div>\n",
       "<style scoped>\n",
       "    .dataframe tbody tr th:only-of-type {\n",
       "        vertical-align: middle;\n",
       "    }\n",
       "\n",
       "    .dataframe tbody tr th {\n",
       "        vertical-align: top;\n",
       "    }\n",
       "\n",
       "    .dataframe thead th {\n",
       "        text-align: right;\n",
       "    }\n",
       "</style>\n",
       "<table border=\"1\" class=\"dataframe\">\n",
       "  <thead>\n",
       "    <tr style=\"text-align: right;\">\n",
       "      <th></th>\n",
       "      <th>0</th>\n",
       "    </tr>\n",
       "  </thead>\n",
       "  <tbody>\n",
       "    <tr>\n",
       "      <th>0</th>\n",
       "      <td>60000.00</td>\n",
       "    </tr>\n",
       "    <tr>\n",
       "      <th>1</th>\n",
       "      <td>27405.00</td>\n",
       "    </tr>\n",
       "    <tr>\n",
       "      <th>2</th>\n",
       "      <td>30000.00</td>\n",
       "    </tr>\n",
       "    <tr>\n",
       "      <th>3</th>\n",
       "      <td>31071.00</td>\n",
       "    </tr>\n",
       "    <tr>\n",
       "      <th>4</th>\n",
       "      <td>51123.00</td>\n",
       "    </tr>\n",
       "    <tr>\n",
       "      <th>5</th>\n",
       "      <td>45375.15</td>\n",
       "    </tr>\n",
       "    <tr>\n",
       "      <th>6</th>\n",
       "      <td>36010.50</td>\n",
       "    </tr>\n",
       "    <tr>\n",
       "      <th>7</th>\n",
       "      <td>80000.00</td>\n",
       "    </tr>\n",
       "    <tr>\n",
       "      <th>8</th>\n",
       "      <td>80000.00</td>\n",
       "    </tr>\n",
       "    <tr>\n",
       "      <th>9</th>\n",
       "      <td>80000.00</td>\n",
       "    </tr>\n",
       "    <tr>\n",
       "      <th>10</th>\n",
       "      <td>80000.00</td>\n",
       "    </tr>\n",
       "    <tr>\n",
       "      <th>11</th>\n",
       "      <td>80000.00</td>\n",
       "    </tr>\n",
       "    <tr>\n",
       "      <th>12</th>\n",
       "      <td>80000.00</td>\n",
       "    </tr>\n",
       "    <tr>\n",
       "      <th>13</th>\n",
       "      <td>35058.00</td>\n",
       "    </tr>\n",
       "    <tr>\n",
       "      <th>14</th>\n",
       "      <td>45206.00</td>\n",
       "    </tr>\n",
       "    <tr>\n",
       "      <th>15</th>\n",
       "      <td>56000.00</td>\n",
       "    </tr>\n",
       "    <tr>\n",
       "      <th>16</th>\n",
       "      <td>37735.50</td>\n",
       "    </tr>\n",
       "    <tr>\n",
       "      <th>17</th>\n",
       "      <td>60000.00</td>\n",
       "    </tr>\n",
       "    <tr>\n",
       "      <th>18</th>\n",
       "      <td>60000.00</td>\n",
       "    </tr>\n",
       "    <tr>\n",
       "      <th>19</th>\n",
       "      <td>0.00</td>\n",
       "    </tr>\n",
       "    <tr>\n",
       "      <th>20</th>\n",
       "      <td>57920.00</td>\n",
       "    </tr>\n",
       "    <tr>\n",
       "      <th>21</th>\n",
       "      <td>14040.00</td>\n",
       "    </tr>\n",
       "    <tr>\n",
       "      <th>22</th>\n",
       "      <td>80000.00</td>\n",
       "    </tr>\n",
       "    <tr>\n",
       "      <th>23</th>\n",
       "      <td>0.00</td>\n",
       "    </tr>\n",
       "    <tr>\n",
       "      <th>24</th>\n",
       "      <td>0.00</td>\n",
       "    </tr>\n",
       "  </tbody>\n",
       "</table>\n",
       "</div>"
      ],
      "text/plain": [
       "           0\n",
       "0   60000.00\n",
       "1   27405.00\n",
       "2   30000.00\n",
       "3   31071.00\n",
       "4   51123.00\n",
       "5   45375.15\n",
       "6   36010.50\n",
       "7   80000.00\n",
       "8   80000.00\n",
       "9   80000.00\n",
       "10  80000.00\n",
       "11  80000.00\n",
       "12  80000.00\n",
       "13  35058.00\n",
       "14  45206.00\n",
       "15  56000.00\n",
       "16  37735.50\n",
       "17  60000.00\n",
       "18  60000.00\n",
       "19      0.00\n",
       "20  57920.00\n",
       "21  14040.00\n",
       "22  80000.00\n",
       "23      0.00\n",
       "24      0.00"
      ]
     },
     "execution_count": 31,
     "metadata": {},
     "output_type": "execute_result"
    }
   ],
   "source": [
    "df"
   ]
  },
  {
   "cell_type": "code",
   "execution_count": null,
   "id": "3300c6da",
   "metadata": {},
   "outputs": [],
   "source": []
  }
 ],
 "metadata": {
  "kernelspec": {
   "display_name": "Python 3",
   "language": "python",
   "name": "python3"
  },
  "language_info": {
   "codemirror_mode": {
    "name": "ipython",
    "version": 3
   },
   "file_extension": ".py",
   "mimetype": "text/x-python",
   "name": "python",
   "nbconvert_exporter": "python",
   "pygments_lexer": "ipython3",
   "version": "3.8.11"
  }
 },
 "nbformat": 4,
 "nbformat_minor": 5
}
