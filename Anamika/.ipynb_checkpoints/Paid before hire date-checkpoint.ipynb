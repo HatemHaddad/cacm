{
 "cells": [
  {
   "cell_type": "code",
   "execution_count": 1,
   "id": "921ffdca",
   "metadata": {},
   "outputs": [],
   "source": [
    "import pandas as pd\n",
    "import numpy as np\n",
    "import pyodbc\n",
    "import seaborn as sns\n",
    "import matplotlib.pyplot as plt\n",
    "from sqlalchemy import create_engine"
   ]
  },
  {
   "cell_type": "code",
   "execution_count": 2,
   "id": "101fe73a",
   "metadata": {},
   "outputs": [],
   "source": [
    "svr_name = 'KU1ICDDWV011.kunet.ae'\n",
    "db_name = 'CACM'\n",
    "u_name = 'cacm_user'\n",
    "u_pass = 'Welcome#123'"
   ]
  },
  {
   "cell_type": "code",
   "execution_count": 3,
   "id": "b85d5a93",
   "metadata": {},
   "outputs": [],
   "source": [
    "eng = create_engine(\"mssql+pyodbc://\"+u_name+\":\"+u_pass+\"@\"+svr_name+\"/\"+db_name+\"?driver=ODBC+Driver+17+for+SQL+Server\")"
   ]
  },
  {
   "cell_type": "code",
   "execution_count": 4,
   "id": "fcab7bb1",
   "metadata": {},
   "outputs": [],
   "source": [
    "query_employee = \"select * from dbo.KU_SRC_EmployeeDetails\"\n",
    "query_payroll = \"select * from ADERP.dbo.KU_Payroll_All\""
   ]
  },
  {
   "cell_type": "code",
   "execution_count": 5,
   "id": "bc405b28",
   "metadata": {},
   "outputs": [],
   "source": [
    "employee = pd.read_sql(query_employee, eng)\n",
    "payroll = pd.read_sql(query_payroll,eng)"
   ]
  },
  {
   "cell_type": "code",
   "execution_count": 6,
   "id": "68cc4f16",
   "metadata": {},
   "outputs": [],
   "source": [
    "employee_hire = employee[['EmpNo','HireDate']]"
   ]
  },
  {
   "cell_type": "code",
   "execution_count": 7,
   "id": "ad3b55d5",
   "metadata": {},
   "outputs": [],
   "source": [
    "payroll['Pay Date'] = payroll['PayYear'].map(str)+'-'+payroll['PayMonth'].map(str)+'-'+str(26)"
   ]
  },
  {
   "cell_type": "code",
   "execution_count": 8,
   "id": "600a2a12",
   "metadata": {},
   "outputs": [],
   "source": [
    "payroll = payroll.astype({'Pay Date':'datetime64'})"
   ]
  },
  {
   "cell_type": "code",
   "execution_count": 9,
   "id": "b733b9fd",
   "metadata": {},
   "outputs": [],
   "source": [
    "payroll_min = payroll.groupby('EmployeeNumber')['Pay Date'].min()"
   ]
  },
  {
   "cell_type": "code",
   "execution_count": 10,
   "id": "db0309c6",
   "metadata": {},
   "outputs": [],
   "source": [
    "payroll_min = pd.DataFrame(payroll_min)"
   ]
  },
  {
   "cell_type": "code",
   "execution_count": 11,
   "id": "35e36630",
   "metadata": {},
   "outputs": [],
   "source": [
    "employee_hire = employee_hire.set_index('EmpNo')"
   ]
  },
  {
   "cell_type": "code",
   "execution_count": 12,
   "id": "3dcb50d4",
   "metadata": {},
   "outputs": [],
   "source": [
    "employee_hire =employee_hire.reset_index()"
   ]
  },
  {
   "cell_type": "code",
   "execution_count": 13,
   "id": "7ff22a46",
   "metadata": {},
   "outputs": [],
   "source": [
    "payroll_min= payroll_min.reset_index()"
   ]
  },
  {
   "cell_type": "code",
   "execution_count": 14,
   "id": "5a22a23e",
   "metadata": {},
   "outputs": [
    {
     "data": {
      "text/plain": [
       "Index(['EmpNo', 'HireDate'], dtype='object')"
      ]
     },
     "execution_count": 14,
     "metadata": {},
     "output_type": "execute_result"
    }
   ],
   "source": [
    "employee_hire.columns"
   ]
  },
  {
   "cell_type": "code",
   "execution_count": 15,
   "id": "bb61dc92",
   "metadata": {},
   "outputs": [
    {
     "data": {
      "text/plain": [
       "Index(['EmployeeNumber', 'Pay Date'], dtype='object')"
      ]
     },
     "execution_count": 15,
     "metadata": {},
     "output_type": "execute_result"
    }
   ],
   "source": [
    "payroll_min.columns"
   ]
  },
  {
   "cell_type": "code",
   "execution_count": 16,
   "id": "ae660c87",
   "metadata": {},
   "outputs": [],
   "source": [
    "output = employee_hire.merge(payroll_min,left_on='EmpNo',right_on='EmployeeNumber')"
   ]
  },
  {
   "cell_type": "code",
   "execution_count": 17,
   "id": "bc269eb6",
   "metadata": {},
   "outputs": [],
   "source": [
    "del(output['EmployeeNumber'])"
   ]
  },
  {
   "cell_type": "code",
   "execution_count": 21,
   "id": "7664db15",
   "metadata": {},
   "outputs": [
    {
     "name": "stdout",
     "output_type": "stream",
     "text": [
      "<class 'pandas.core.frame.DataFrame'>\n",
      "Int64Index: 1256 entries, 0 to 1255\n",
      "Data columns (total 3 columns):\n",
      " #   Column    Non-Null Count  Dtype         \n",
      "---  ------    --------------  -----         \n",
      " 0   EmpNo     1256 non-null   object        \n",
      " 1   HireDate  1256 non-null   datetime64[ns]\n",
      " 2   Pay Date  1256 non-null   datetime64[ns]\n",
      "dtypes: datetime64[ns](2), object(1)\n",
      "memory usage: 39.2+ KB\n"
     ]
    }
   ],
   "source": [
    "output.info()"
   ]
  },
  {
   "cell_type": "code",
   "execution_count": 22,
   "id": "a8bdeed7",
   "metadata": {},
   "outputs": [
    {
     "data": {
      "text/html": [
       "<div>\n",
       "<style scoped>\n",
       "    .dataframe tbody tr th:only-of-type {\n",
       "        vertical-align: middle;\n",
       "    }\n",
       "\n",
       "    .dataframe tbody tr th {\n",
       "        vertical-align: top;\n",
       "    }\n",
       "\n",
       "    .dataframe thead th {\n",
       "        text-align: right;\n",
       "    }\n",
       "</style>\n",
       "<table border=\"1\" class=\"dataframe\">\n",
       "  <thead>\n",
       "    <tr style=\"text-align: right;\">\n",
       "      <th></th>\n",
       "      <th>EmpNo</th>\n",
       "      <th>HireDate</th>\n",
       "      <th>Pay Date</th>\n",
       "    </tr>\n",
       "  </thead>\n",
       "  <tbody>\n",
       "    <tr>\n",
       "      <th>0</th>\n",
       "      <td>100043305</td>\n",
       "      <td>2016-01-10</td>\n",
       "      <td>2016-08-26</td>\n",
       "    </tr>\n",
       "    <tr>\n",
       "      <th>1</th>\n",
       "      <td>100049994</td>\n",
       "      <td>2018-11-13</td>\n",
       "      <td>2018-12-26</td>\n",
       "    </tr>\n",
       "    <tr>\n",
       "      <th>2</th>\n",
       "      <td>1816</td>\n",
       "      <td>2015-06-15</td>\n",
       "      <td>2018-01-26</td>\n",
       "    </tr>\n",
       "    <tr>\n",
       "      <th>3</th>\n",
       "      <td>1866</td>\n",
       "      <td>2015-12-07</td>\n",
       "      <td>2018-01-26</td>\n",
       "    </tr>\n",
       "    <tr>\n",
       "      <th>4</th>\n",
       "      <td>274</td>\n",
       "      <td>2008-12-14</td>\n",
       "      <td>2018-01-26</td>\n",
       "    </tr>\n",
       "  </tbody>\n",
       "</table>\n",
       "</div>"
      ],
      "text/plain": [
       "       EmpNo   HireDate   Pay Date\n",
       "0  100043305 2016-01-10 2016-08-26\n",
       "1  100049994 2018-11-13 2018-12-26\n",
       "2       1816 2015-06-15 2018-01-26\n",
       "3       1866 2015-12-07 2018-01-26\n",
       "4        274 2008-12-14 2018-01-26"
      ]
     },
     "execution_count": 22,
     "metadata": {},
     "output_type": "execute_result"
    }
   ],
   "source": [
    "output.head()"
   ]
  },
  {
   "cell_type": "code",
   "execution_count": 24,
   "id": "0eceb529",
   "metadata": {},
   "outputs": [],
   "source": [
    "output['Diff'] = output['Pay Date'] < output['HireDate']"
   ]
  },
  {
   "cell_type": "code",
   "execution_count": 27,
   "id": "7053da9e",
   "metadata": {},
   "outputs": [],
   "source": [
    "output['Diff']= output['Diff'].astype('int')"
   ]
  },
  {
   "cell_type": "code",
   "execution_count": 29,
   "id": "9f0a4cbf",
   "metadata": {},
   "outputs": [],
   "source": [
    "output[output['Diff'] == 1].to_excel('hire.xlsx')"
   ]
  },
  {
   "cell_type": "code",
   "execution_count": null,
   "id": "7e30f459",
   "metadata": {},
   "outputs": [],
   "source": []
  }
 ],
 "metadata": {
  "kernelspec": {
   "display_name": "Python 3",
   "language": "python",
   "name": "python3"
  },
  "language_info": {
   "codemirror_mode": {
    "name": "ipython",
    "version": 3
   },
   "file_extension": ".py",
   "mimetype": "text/x-python",
   "name": "python",
   "nbconvert_exporter": "python",
   "pygments_lexer": "ipython3",
   "version": "3.8.11"
  }
 },
 "nbformat": 4,
 "nbformat_minor": 5
}
