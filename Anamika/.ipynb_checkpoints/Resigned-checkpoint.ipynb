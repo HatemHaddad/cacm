{
 "cells": [
  {
   "cell_type": "code",
   "execution_count": 58,
   "id": "921ffdca",
   "metadata": {},
   "outputs": [],
   "source": [
    "import pandas as pd\n",
    "import numpy as np\n",
    "import pyodbc\n",
    "import seaborn as sns\n",
    "import matplotlib.pyplot as plt\n",
    "from sqlalchemy import create_engine"
   ]
  },
  {
   "cell_type": "code",
   "execution_count": 59,
   "id": "101fe73a",
   "metadata": {},
   "outputs": [],
   "source": [
    "svr_name = 'KU1ICDDWV011.kunet.ae'\n",
    "db_name = 'CACM'\n",
    "u_name = 'cacm_user'\n",
    "u_pass = 'Welcome#123'"
   ]
  },
  {
   "cell_type": "code",
   "execution_count": 60,
   "id": "b85d5a93",
   "metadata": {},
   "outputs": [],
   "source": [
    "eng = create_engine(\"mssql+pyodbc://\"+u_name+\":\"+u_pass+\"@\"+svr_name+\"/\"+db_name+\"?driver=ODBC+Driver+17+for+SQL+Server\")"
   ]
  },
  {
   "cell_type": "code",
   "execution_count": 61,
   "id": "fcab7bb1",
   "metadata": {},
   "outputs": [],
   "source": [
    "query_resigned = \"select * from ADERP.dbo.XXDOF_BI_KU_Resignation_T\"\n",
    "query_payroll = \"select * from ADERP.dbo.ku_payroll_latest\""
   ]
  },
  {
   "cell_type": "code",
   "execution_count": 62,
   "id": "bc405b28",
   "metadata": {},
   "outputs": [],
   "source": [
    "resigned = pd.read_sql(query_resigned, eng)\n",
    "payroll = pd.read_sql(query_payroll,eng)"
   ]
  },
  {
   "cell_type": "code",
   "execution_count": 63,
   "id": "b9935c5c",
   "metadata": {},
   "outputs": [
    {
     "data": {
      "text/plain": [
       "Index(['PERSON_ID', 'PERSON_EXTRA_INFO_ID', 'EMPLOYEE_NUMBER',\n",
       "       'LEAVING_REASON', 'NOTIFY_ON', 'ACTUAL_TERMINATION_DATE', 'REMARKS',\n",
       "       'CREATION_DATE', 'LASTUPDATEDATE1'],\n",
       "      dtype='object')"
      ]
     },
     "execution_count": 63,
     "metadata": {},
     "output_type": "execute_result"
    }
   ],
   "source": [
    "resigned.columns"
   ]
  },
  {
   "cell_type": "code",
   "execution_count": 64,
   "id": "b212e027",
   "metadata": {},
   "outputs": [
    {
     "data": {
      "text/plain": [
       "Index(['EmployeeNumber', 'PersonID', 'EmployeeGrade', 'PayYear', 'PayMonth',\n",
       "       'PayrollName', 'Basic', 'CoLA', 'MarketDiff', 'Vacation', 'ChildAllow',\n",
       "       'AdminStipend', 'ActingAllow', 'OtherLegacy', 'Gross'],\n",
       "      dtype='object')"
      ]
     },
     "execution_count": 64,
     "metadata": {},
     "output_type": "execute_result"
    }
   ],
   "source": [
    "payroll.columns"
   ]
  },
  {
   "cell_type": "code",
   "execution_count": 65,
   "id": "619d4ff0",
   "metadata": {},
   "outputs": [],
   "source": [
    "resigned_data = resigned.merge(payroll,left_on='EMPLOYEE_NUMBER',right_on='EmployeeNumber',how='left')"
   ]
  },
  {
   "cell_type": "code",
   "execution_count": 66,
   "id": "de154af7",
   "metadata": {},
   "outputs": [],
   "source": [
    "resigned_data = resigned_data[['EMPLOYEE_NUMBER','ACTUAL_TERMINATION_DATE','PayrollName','PayYear','PayMonth','Gross']]"
   ]
  },
  {
   "cell_type": "code",
   "execution_count": 67,
   "id": "8674d453",
   "metadata": {},
   "outputs": [
    {
     "data": {
      "text/plain": [
       "Index(['EMPLOYEE_NUMBER', 'ACTUAL_TERMINATION_DATE', 'PayrollName', 'PayYear',\n",
       "       'PayMonth', 'Gross'],\n",
       "      dtype='object')"
      ]
     },
     "execution_count": 67,
     "metadata": {},
     "output_type": "execute_result"
    }
   ],
   "source": [
    "resigned_data.columns"
   ]
  },
  {
   "cell_type": "code",
   "execution_count": 68,
   "id": "a18e34e1",
   "metadata": {},
   "outputs": [],
   "source": [
    "resigned_data['Last'] = resigned_data['PayMonth']+'-'+resigned_data['PayYear']"
   ]
  },
  {
   "cell_type": "code",
   "execution_count": 69,
   "id": "19cba0c6",
   "metadata": {},
   "outputs": [],
   "source": [
    "resigned_data['Termination'] = [x[3:] for x in resigned_data['ACTUAL_TERMINATION_DATE']]"
   ]
  },
  {
   "cell_type": "code",
   "execution_count": 70,
   "id": "c5448242",
   "metadata": {},
   "outputs": [],
   "source": [
    "resigned_data = resigned_data.astype({'Last':'datetime64','Termination':'datetime64'})"
   ]
  },
  {
   "cell_type": "code",
   "execution_count": 71,
   "id": "ac688ed5",
   "metadata": {},
   "outputs": [],
   "source": [
    "resigned_data['Diff'] = resigned_data['Termination'] <= resigned_data['Last']"
   ]
  },
  {
   "cell_type": "code",
   "execution_count": 72,
   "id": "42ea05f8",
   "metadata": {},
   "outputs": [],
   "source": [
    "resigned_data['Diff'] = resigned_data['Diff'].astype('int')"
   ]
  },
  {
   "cell_type": "code",
   "execution_count": 75,
   "id": "19d36b41",
   "metadata": {},
   "outputs": [],
   "source": [
    "resigned_data[resigned_data['Diff'] == 1].to_excel('termination.xlsx')"
   ]
  },
  {
   "cell_type": "code",
   "execution_count": null,
   "id": "68cc4f16",
   "metadata": {},
   "outputs": [],
   "source": []
  }
 ],
 "metadata": {
  "kernelspec": {
   "display_name": "Python 3",
   "language": "python",
   "name": "python3"
  },
  "language_info": {
   "codemirror_mode": {
    "name": "ipython",
    "version": 3
   },
   "file_extension": ".py",
   "mimetype": "text/x-python",
   "name": "python",
   "nbconvert_exporter": "python",
   "pygments_lexer": "ipython3",
   "version": "3.8.11"
  }
 },
 "nbformat": 4,
 "nbformat_minor": 5
}
