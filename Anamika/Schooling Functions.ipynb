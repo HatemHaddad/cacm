{
 "cells": [
  {
   "cell_type": "code",
   "execution_count": 1,
   "id": "921ffdca",
   "metadata": {},
   "outputs": [],
   "source": [
    "import pandas as pd\n",
    "import numpy as np\n",
    "import pyodbc\n",
    "import seaborn as sns\n",
    "import matplotlib.pyplot as plt\n",
    "from sqlalchemy import create_engine"
   ]
  },
  {
   "cell_type": "code",
   "execution_count": 2,
   "id": "101fe73a",
   "metadata": {},
   "outputs": [],
   "source": [
    "svr_name = 'KU1ICDDWV011.kunet.ae'\n",
    "db_name = 'CACM'\n",
    "u_name = 'cacm_user'\n",
    "u_pass = 'Welcome#123'"
   ]
  },
  {
   "cell_type": "code",
   "execution_count": 3,
   "id": "b85d5a93",
   "metadata": {},
   "outputs": [],
   "source": [
    "eng = create_engine(\"mssql+pyodbc://\"+u_name+\":\"+u_pass+\"@\"+svr_name+\"/\"+db_name+\"?driver=ODBC+Driver+17+for+SQL+Server\")"
   ]
  },
  {
   "cell_type": "code",
   "execution_count": 4,
   "id": "fcab7bb1",
   "metadata": {},
   "outputs": [],
   "source": [
    "query_payroll = \"select * from ADERP.dbo.KU_Payroll_All\"\n",
    "query_education =\"select * from ADERP.dbo.XXDOF_BI_KU_EDUCATION_T\"\n",
    "query_basic_info = \"select * from ADERP.dbo.XXDOF_BI_KU_Emp_Basic_Info_T\"\n",
    "query_payroll_T =  \"select * from ADERP.dbo.XXDOF_BI_KU_PAYROLL_T\""
   ]
  },
  {
   "cell_type": "code",
   "execution_count": 5,
   "id": "bc405b28",
   "metadata": {},
   "outputs": [],
   "source": [
    "payroll = pd.read_sql(query_payroll, eng)\n",
    "education = pd.read_sql(query_education, eng)\n",
    "info = pd.read_sql(query_basic_info, eng)\n",
    "payroll_t = pd.read_sql(query_payroll_T, eng)"
   ]
  },
  {
   "cell_type": "code",
   "execution_count": 6,
   "id": "5304334a",
   "metadata": {},
   "outputs": [],
   "source": [
    "child = education[['EMPLOYEE_NUMBER','CHILD_NAME']].drop_duplicates()\n",
    "eligible = education[['EMPLOYEE_NUMBER','MAX_CHILD_ELIGIBLE']].drop_duplicates()\n",
    "emp = info[['EMPLOYEENUMBER','NATIONALITY','MARITALSTAT']].drop_duplicates()"
   ]
  },
  {
   "cell_type": "code",
   "execution_count": 7,
   "id": "bbb42cd7",
   "metadata": {},
   "outputs": [],
   "source": [
    "def schooling_exceed():\n",
    "    \n",
    "    \"\"\"This script will check if the education amount paid is more than .....\"\"\"\n",
    "    \n",
    "    education = pd.read_sql(query_education, eng)\n",
    "    \n",
    "    education = education.astype({'AMOUNT_TO_BE_PAID':'float'})\n",
    "    \n",
    "    ed_final = education[['EMPLOYEE_NUMBER','ACADEMIC_YEAR','ACADEMIC_SEM','CHILD_NAME','DATE_OF_BIRTH','TOTAL_ENTITLEMENT','CHILD_ENTITLEMENT_AMOUNT','SCHOOL','AMOUNT_TO_BE_PAID']]\n",
    "\n",
    "    ed = ed_final[['EMPLOYEE_NUMBER','SCHOOL']].drop_duplicates()\n",
    "\n",
    "    entitlement = ed_final.groupby(['ACADEMIC_YEAR','EMPLOYEE_NUMBER']).agg({'TOTAL_ENTITLEMENT':'max','AMOUNT_TO_BE_PAID':'sum'})\n",
    "\n",
    "    entitlement = entitlement.astype({'TOTAL_ENTITLEMENT':'float64'})\n",
    "\n",
    "    entitlement['Diff'] = (entitlement['AMOUNT_TO_BE_PAID'] > entitlement['TOTAL_ENTITLEMENT']).astype('int')\n",
    "\n",
    "    return entitlement[entitlement['Diff'] == 1]"
   ]
  },
  {
   "cell_type": "code",
   "execution_count": 8,
   "id": "dd067a07",
   "metadata": {},
   "outputs": [],
   "source": [
    "def schooling_equal():\n",
    "    \n",
    "    education = pd.read_sql(query_education, eng)\n",
    "    \n",
    "    education = education.astype({'AMOUNT_TO_BE_PAID':'float'})\n",
    "    \n",
    "    ed_final = education[['EMPLOYEE_NUMBER','ACADEMIC_YEAR','ACADEMIC_SEM','CHILD_NAME','DATE_OF_BIRTH','TOTAL_ENTITLEMENT','CHILD_ENTITLEMENT_AMOUNT','SCHOOL','AMOUNT_TO_BE_PAID']]\n",
    "\n",
    "    ed = ed_final[['EMPLOYEE_NUMBER','SCHOOL']].drop_duplicates()\n",
    "\n",
    "    entitlement = ed_final.groupby(['ACADEMIC_YEAR','EMPLOYEE_NUMBER']).agg({'TOTAL_ENTITLEMENT':'max','AMOUNT_TO_BE_PAID':'sum'})\n",
    "\n",
    "    entitlement = entitlement.astype({'TOTAL_ENTITLEMENT':'float64'})\n",
    "\n",
    "    entitlement['Diff'] = (entitlement['AMOUNT_TO_BE_PAID'] == entitlement['TOTAL_ENTITLEMENT']).astype('int')\n",
    "\n",
    "    return entitlement[entitlement['Diff'] == 1]"
   ]
  },
  {
   "cell_type": "code",
   "execution_count": 9,
   "id": "fc3c5806",
   "metadata": {},
   "outputs": [],
   "source": [
    "def check_details(EmpNo,Year):\n",
    "    \n",
    "    \"\"\"\"\"\"\n",
    "    \n",
    "    education = pd.read_sql(query_education, eng)\n",
    "    \n",
    "    result = education[(education['EMPLOYEE_NUMBER'] == EmpNo) &  (education['ACADEMIC_YEAR'] == Year)]\n",
    "    \n",
    "    return result\n"
   ]
  },
  {
   "cell_type": "code",
   "execution_count": 10,
   "id": "ef6c3e69",
   "metadata": {},
   "outputs": [],
   "source": [
    "x = schooling_exceed()"
   ]
  },
  {
   "cell_type": "code",
   "execution_count": 16,
   "id": "a40ad8fa",
   "metadata": {},
   "outputs": [],
   "source": [
    "x.reset_index().to_sql('Schooling_Exceed',eng,if_exists='replace')"
   ]
  },
  {
   "cell_type": "code",
   "execution_count": null,
   "id": "59082bbe",
   "metadata": {},
   "outputs": [],
   "source": []
  }
 ],
 "metadata": {
  "kernelspec": {
   "display_name": "Python 3",
   "language": "python",
   "name": "python3"
  },
  "language_info": {
   "codemirror_mode": {
    "name": "ipython",
    "version": 3
   },
   "file_extension": ".py",
   "mimetype": "text/x-python",
   "name": "python",
   "nbconvert_exporter": "python",
   "pygments_lexer": "ipython3",
   "version": "3.8.11"
  }
 },
 "nbformat": 4,
 "nbformat_minor": 5
}
