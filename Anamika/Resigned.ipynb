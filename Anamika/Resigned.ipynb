{
 "cells": [
  {
   "cell_type": "code",
   "execution_count": 58,
   "id": "921ffdca",
   "metadata": {},
   "outputs": [],
   "source": [
    "import pandas as pd\n",
    "import numpy as np\n",
    "import pyodbc\n",
    "import seaborn as sns\n",
    "import matplotlib.pyplot as plt\n",
    "from sqlalchemy import create_engine"
   ]
  },
  {
   "cell_type": "code",
   "execution_count": 59,
   "id": "101fe73a",
   "metadata": {},
   "outputs": [],
   "source": [
    "svr_name = 'KU1ICDDWV011.kunet.ae'\n",
    "db_name = 'CACM'\n",
    "u_name = 'cacm_user'\n",
    "u_pass = 'Welcome#123'"
   ]
  },
  {
   "cell_type": "code",
   "execution_count": 60,
   "id": "b85d5a93",
   "metadata": {},
   "outputs": [],
   "source": [
    "eng = create_engine(\"mssql+pyodbc://\"+u_name+\":\"+u_pass+\"@\"+svr_name+\"/\"+db_name+\"?driver=ODBC+Driver+17+for+SQL+Server\")"
   ]
  },
  {
   "cell_type": "code",
   "execution_count": 61,
   "id": "fcab7bb1",
   "metadata": {},
   "outputs": [],
   "source": [
    "query_resigned = \"select * from ADERP.dbo.XXDOF_BI_KU_Resignation_T\"\n",
    "query_payroll = \"select * from ADERP.dbo.ku_payroll_latest\""
   ]
  },
  {
   "cell_type": "code",
   "execution_count": 62,
   "id": "bc405b28",
   "metadata": {},
   "outputs": [],
   "source": [
    "resigned = pd.read_sql(query_resigned, eng)\n",
    "payroll = pd.read_sql(query_payroll,eng)"
   ]
  },
  {
   "cell_type": "code",
   "execution_count": 63,
   "id": "0eaa1193",
   "metadata": {},
   "outputs": [
    {
     "data": {
      "text/plain": [
       "Index(['PERSON_ID', 'PERSON_EXTRA_INFO_ID', 'EMPLOYEE_NUMBER',\n",
       "       'LEAVING_REASON', 'NOTIFY_ON', 'ACTUAL_TERMINATION_DATE', 'REMARKS',\n",
       "       'CREATION_DATE', 'LASTUPDATEDATE1'],\n",
       "      dtype='object')"
      ]
     },
     "execution_count": 63,
     "metadata": {},
     "output_type": "execute_result"
    }
   ],
   "source": [
    "resigned.columns"
   ]
  },
  {
   "cell_type": "code",
   "execution_count": 64,
   "id": "3aac7471",
   "metadata": {},
   "outputs": [
    {
     "data": {
      "text/plain": [
       "Index(['EmployeeNumber', 'PersonID', 'EmployeeGrade', 'PayYear', 'PayMonth',\n",
       "       'PayrollName', 'Basic', 'CoLA', 'MarketDiff', 'Vacation', 'ChildAllow',\n",
       "       'AdminStipend', 'ActingAllow', 'OtherLegacy', 'Gross'],\n",
       "      dtype='object')"
      ]
     },
     "execution_count": 64,
     "metadata": {},
     "output_type": "execute_result"
    }
   ],
   "source": [
    "payroll.columns"
   ]
  },
  {
   "cell_type": "code",
   "execution_count": 65,
   "id": "6bcb3e3c",
   "metadata": {},
   "outputs": [],
   "source": [
    "resigned_data = resigned.merge(payroll,left_on='EMPLOYEE_NUMBER',right_on='EmployeeNumber',how='left')"
   ]
  },
  {
   "cell_type": "code",
   "execution_count": 66,
   "id": "0718e55f",
   "metadata": {},
   "outputs": [],
   "source": [
    "resigned_data = resigned_data[['EMPLOYEE_NUMBER','ACTUAL_TERMINATION_DATE','PayrollName','PayYear','PayMonth','Gross']]"
   ]
  },
  {
   "cell_type": "code",
   "execution_count": 67,
   "id": "5c7c0b3b",
   "metadata": {},
   "outputs": [
    {
     "data": {
      "text/plain": [
       "Index(['EMPLOYEE_NUMBER', 'ACTUAL_TERMINATION_DATE', 'PayrollName', 'PayYear',\n",
       "       'PayMonth', 'Gross'],\n",
       "      dtype='object')"
      ]
     },
     "execution_count": 67,
     "metadata": {},
     "output_type": "execute_result"
    }
   ],
   "source": [
    "resigned_data.columns"
   ]
  },
  {
   "cell_type": "code",
   "execution_count": 68,
   "id": "ce650276",
   "metadata": {},
   "outputs": [],
   "source": [
    "resigned_data['Last'] = resigned_data['PayMonth']+'-'+resigned_data['PayYear']"
   ]
  },
  {
   "cell_type": "code",
   "execution_count": 69,
   "id": "3c3eed28",
   "metadata": {},
   "outputs": [],
   "source": [
    "resigned_data['Termination'] = [x[3:] for x in resigned_data['ACTUAL_TERMINATION_DATE']]"
   ]
  },
  {
   "cell_type": "code",
   "execution_count": 70,
   "id": "3c959110",
   "metadata": {},
   "outputs": [],
   "source": [
    "resigned_data = resigned_data.astype({'Last':'datetime64','Termination':'datetime64'})"
   ]
  },
  {
   "cell_type": "code",
   "execution_count": 71,
   "id": "5a9125fe",
   "metadata": {},
   "outputs": [],
   "source": [
    "resigned_data['Diff'] = resigned_data['Termination'] <= resigned_data['Last']"
   ]
  },
  {
   "cell_type": "code",
   "execution_count": 72,
   "id": "f2d78abd",
   "metadata": {},
   "outputs": [],
   "source": [
    "resigned_data['Diff'] = resigned_data['Diff'].astype('int')"
   ]
  },
  {
   "cell_type": "code",
   "execution_count": 75,
   "id": "914da955",
   "metadata": {},
   "outputs": [],
   "source": [
    "resigned_data[resigned_data['Diff'] == 1].to_excel('termination.xlsx')"
   ]
  },
  {
   "cell_type": "code",
   "execution_count": 77,
   "id": "b245702d",
   "metadata": {},
   "outputs": [],
   "source": [
    "resigned_data.drop(['PayrollName'],axis='columns',inplace=True)"
   ]
  },
  {
   "cell_type": "code",
   "execution_count": 78,
   "id": "3947e14d",
   "metadata": {},
   "outputs": [
    {
     "data": {
      "text/html": [
       "<div>\n",
       "<style scoped>\n",
       "    .dataframe tbody tr th:only-of-type {\n",
       "        vertical-align: middle;\n",
       "    }\n",
       "\n",
       "    .dataframe tbody tr th {\n",
       "        vertical-align: top;\n",
       "    }\n",
       "\n",
       "    .dataframe thead th {\n",
       "        text-align: right;\n",
       "    }\n",
       "</style>\n",
       "<table border=\"1\" class=\"dataframe\">\n",
       "  <thead>\n",
       "    <tr style=\"text-align: right;\">\n",
       "      <th></th>\n",
       "      <th>EMPLOYEE_NUMBER</th>\n",
       "      <th>ACTUAL_TERMINATION_DATE</th>\n",
       "      <th>PayYear</th>\n",
       "      <th>PayMonth</th>\n",
       "      <th>Gross</th>\n",
       "      <th>Last</th>\n",
       "      <th>Termination</th>\n",
       "      <th>Diff</th>\n",
       "    </tr>\n",
       "  </thead>\n",
       "  <tbody>\n",
       "    <tr>\n",
       "      <th>0</th>\n",
       "      <td>KU524</td>\n",
       "      <td>20-DEC-2021</td>\n",
       "      <td>2021</td>\n",
       "      <td>NOV</td>\n",
       "      <td>63059.0</td>\n",
       "      <td>2021-11-01</td>\n",
       "      <td>2021-12-01</td>\n",
       "      <td>0</td>\n",
       "    </tr>\n",
       "    <tr>\n",
       "      <th>1</th>\n",
       "      <td>KU533</td>\n",
       "      <td>01-NOV-2021</td>\n",
       "      <td>2021</td>\n",
       "      <td>SEP</td>\n",
       "      <td>24994.0</td>\n",
       "      <td>2021-09-01</td>\n",
       "      <td>2021-11-01</td>\n",
       "      <td>0</td>\n",
       "    </tr>\n",
       "    <tr>\n",
       "      <th>2</th>\n",
       "      <td>KU700</td>\n",
       "      <td>08-DEC-2021</td>\n",
       "      <td>2022</td>\n",
       "      <td>MAR</td>\n",
       "      <td>32831.0</td>\n",
       "      <td>2022-03-01</td>\n",
       "      <td>2021-12-01</td>\n",
       "      <td>1</td>\n",
       "    </tr>\n",
       "    <tr>\n",
       "      <th>3</th>\n",
       "      <td>KU500423</td>\n",
       "      <td>07-OCT-2021</td>\n",
       "      <td>2021</td>\n",
       "      <td>SEP</td>\n",
       "      <td>13700.0</td>\n",
       "      <td>2021-09-01</td>\n",
       "      <td>2021-10-01</td>\n",
       "      <td>0</td>\n",
       "    </tr>\n",
       "    <tr>\n",
       "      <th>4</th>\n",
       "      <td>KU150</td>\n",
       "      <td>23-DEC-2021</td>\n",
       "      <td>2021</td>\n",
       "      <td>NOV</td>\n",
       "      <td>36523.0</td>\n",
       "      <td>2021-11-01</td>\n",
       "      <td>2021-12-01</td>\n",
       "      <td>0</td>\n",
       "    </tr>\n",
       "    <tr>\n",
       "      <th>...</th>\n",
       "      <td>...</td>\n",
       "      <td>...</td>\n",
       "      <td>...</td>\n",
       "      <td>...</td>\n",
       "      <td>...</td>\n",
       "      <td>...</td>\n",
       "      <td>...</td>\n",
       "      <td>...</td>\n",
       "    </tr>\n",
       "    <tr>\n",
       "      <th>366</th>\n",
       "      <td>KU271</td>\n",
       "      <td>16-JAN-2022</td>\n",
       "      <td>2021</td>\n",
       "      <td>DEC</td>\n",
       "      <td>29356.0</td>\n",
       "      <td>2021-12-01</td>\n",
       "      <td>2022-01-01</td>\n",
       "      <td>0</td>\n",
       "    </tr>\n",
       "    <tr>\n",
       "      <th>367</th>\n",
       "      <td>KU586</td>\n",
       "      <td>28-FEB-2022</td>\n",
       "      <td>2022</td>\n",
       "      <td>JAN</td>\n",
       "      <td>51733.0</td>\n",
       "      <td>2022-01-01</td>\n",
       "      <td>2022-02-01</td>\n",
       "      <td>0</td>\n",
       "    </tr>\n",
       "    <tr>\n",
       "      <th>368</th>\n",
       "      <td>KU500068</td>\n",
       "      <td>08-DEC-2021</td>\n",
       "      <td>2021</td>\n",
       "      <td>NOV</td>\n",
       "      <td>12548.0</td>\n",
       "      <td>2021-11-01</td>\n",
       "      <td>2021-12-01</td>\n",
       "      <td>0</td>\n",
       "    </tr>\n",
       "    <tr>\n",
       "      <th>369</th>\n",
       "      <td>KU500279</td>\n",
       "      <td>30-NOV-2021</td>\n",
       "      <td>2021</td>\n",
       "      <td>NOV</td>\n",
       "      <td>22000.0</td>\n",
       "      <td>2021-11-01</td>\n",
       "      <td>2021-11-01</td>\n",
       "      <td>1</td>\n",
       "    </tr>\n",
       "    <tr>\n",
       "      <th>370</th>\n",
       "      <td>KU500279</td>\n",
       "      <td>30-NOV-2021</td>\n",
       "      <td>2021</td>\n",
       "      <td>NOV</td>\n",
       "      <td>22000.0</td>\n",
       "      <td>2021-11-01</td>\n",
       "      <td>2021-11-01</td>\n",
       "      <td>1</td>\n",
       "    </tr>\n",
       "  </tbody>\n",
       "</table>\n",
       "<p>371 rows × 8 columns</p>\n",
       "</div>"
      ],
      "text/plain": [
       "    EMPLOYEE_NUMBER ACTUAL_TERMINATION_DATE PayYear PayMonth    Gross  \\\n",
       "0             KU524             20-DEC-2021    2021      NOV  63059.0   \n",
       "1             KU533             01-NOV-2021    2021      SEP  24994.0   \n",
       "2             KU700             08-DEC-2021    2022      MAR  32831.0   \n",
       "3          KU500423             07-OCT-2021    2021      SEP  13700.0   \n",
       "4             KU150             23-DEC-2021    2021      NOV  36523.0   \n",
       "..              ...                     ...     ...      ...      ...   \n",
       "366           KU271             16-JAN-2022    2021      DEC  29356.0   \n",
       "367           KU586             28-FEB-2022    2022      JAN  51733.0   \n",
       "368        KU500068             08-DEC-2021    2021      NOV  12548.0   \n",
       "369        KU500279             30-NOV-2021    2021      NOV  22000.0   \n",
       "370        KU500279             30-NOV-2021    2021      NOV  22000.0   \n",
       "\n",
       "          Last Termination  Diff  \n",
       "0   2021-11-01  2021-12-01     0  \n",
       "1   2021-09-01  2021-11-01     0  \n",
       "2   2022-03-01  2021-12-01     1  \n",
       "3   2021-09-01  2021-10-01     0  \n",
       "4   2021-11-01  2021-12-01     0  \n",
       "..         ...         ...   ...  \n",
       "366 2021-12-01  2022-01-01     0  \n",
       "367 2022-01-01  2022-02-01     0  \n",
       "368 2021-11-01  2021-12-01     0  \n",
       "369 2021-11-01  2021-11-01     1  \n",
       "370 2021-11-01  2021-11-01     1  \n",
       "\n",
       "[371 rows x 8 columns]"
      ]
     },
     "execution_count": 78,
     "metadata": {},
     "output_type": "execute_result"
    }
   ],
   "source": [
    "resigned_data"
   ]
  },
  {
   "cell_type": "code",
   "execution_count": null,
   "id": "933f934f",
   "metadata": {},
   "outputs": [],
   "source": []
  }
 ],
 "metadata": {
  "kernelspec": {
   "display_name": "Python 3",
   "language": "python",
   "name": "python3"
  },
  "language_info": {
   "codemirror_mode": {
    "name": "ipython",
    "version": 3
   },
   "file_extension": ".py",
   "mimetype": "text/x-python",
   "name": "python",
   "nbconvert_exporter": "python",
   "pygments_lexer": "ipython3",
   "version": "3.8.11"
  }
 },
 "nbformat": 4,
 "nbformat_minor": 5
}
