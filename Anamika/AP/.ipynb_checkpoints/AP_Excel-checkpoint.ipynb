{
 "cells": [
  {
   "cell_type": "code",
   "execution_count": 2,
   "id": "921ffdca",
   "metadata": {},
   "outputs": [],
   "source": [
    "import pandas as pd\n",
    "import numpy as np\n",
    "import pyodbc\n",
    "import seaborn as sns\n",
    "import matplotlib.pyplot as plt\n",
    "from sqlalchemy import create_engine\n",
    "import datetime as dt"
   ]
  },
  {
   "cell_type": "code",
   "execution_count": 3,
   "id": "101fe73a",
   "metadata": {},
   "outputs": [],
   "source": [
    "svr_name = 'KU1ICDDWV011.kunet.ae'\n",
    "db_name_read = 'CACM'\n",
    "db_name_write = 'CACMP'\n",
    "u_name = 'cacm_user'\n",
    "u_pass = 'Welcome#123'"
   ]
  },
  {
   "cell_type": "code",
   "execution_count": 4,
   "id": "b85d5a93",
   "metadata": {},
   "outputs": [],
   "source": [
    "eng_read = create_engine(\"mssql+pyodbc://\"+u_name+\":\"+u_pass+\"@\"+svr_name+\"/\"+db_name_read+\"?driver=ODBC+Driver+17+for+SQL+Server\")\n",
    "eng_write = create_engine(\"mssql+pyodbc://\"+u_name+\":\"+u_pass+\"@\"+svr_name+\"/\"+db_name_write+\"?driver=ODBC+Driver+17+for+SQL+Server\")"
   ]
  },
  {
   "cell_type": "code",
   "execution_count": 5,
   "id": "fcab7bb1",
   "metadata": {},
   "outputs": [],
   "source": [
    "query_pr = \"select * from dbo.KU_SRC_BI_KUST_PR\"\n",
    "query_po = \"select * from dbo.KU_SRC_BI_KUST_PO\"\n",
    "query_ap = \"select * from dbo.KU_SRC_BI_KUST_ap\""
   ]
  },
  {
   "cell_type": "code",
   "execution_count": 6,
   "id": "bc405b28",
   "metadata": {},
   "outputs": [],
   "source": [
    "pr = pd.read_sql(query_pr, eng_read)\n",
    "po = pd.read_sql(query_po, eng_read)\n",
    "ap = pd.read_sql(query_ap, eng_read)"
   ]
  },
  {
   "cell_type": "code",
   "execution_count": 6,
   "id": "d9639d0c",
   "metadata": {},
   "outputs": [],
   "source": [
    "#po.reset_index().to_sql('po',eng_write,if_exists='replace')"
   ]
  },
  {
   "cell_type": "code",
   "execution_count": 7,
   "id": "890b28e7",
   "metadata": {},
   "outputs": [],
   "source": [
    "ap['VENDOR_NAME'] = ap['VENDOR_NAME'].str.lower()"
   ]
  },
  {
   "cell_type": "code",
   "execution_count": 8,
   "id": "ed9caeed",
   "metadata": {},
   "outputs": [],
   "source": [
    "ap = ap[ap['CREATION_DATE'] >= '2021-01-01']"
   ]
  },
  {
   "cell_type": "code",
   "execution_count": 9,
   "id": "19db33d8",
   "metadata": {},
   "outputs": [],
   "source": [
    "ap[ap['VENDOR_NAME'].str.contains('center')].to_excel('center.xlsx')"
   ]
  },
  {
   "cell_type": "code",
   "execution_count": null,
   "id": "a74f033e",
   "metadata": {},
   "outputs": [],
   "source": []
  },
  {
   "cell_type": "code",
   "execution_count": 12,
   "id": "42ab70b4",
   "metadata": {},
   "outputs": [
    {
     "name": "stdout",
     "output_type": "stream",
     "text": [
      "<class 'pandas.core.frame.DataFrame'>\n",
      "Int64Index: 128038 entries, 287 to 529263\n",
      "Data columns (total 47 columns):\n",
      " #   Column                      Non-Null Count   Dtype         \n",
      "---  ------                      --------------   -----         \n",
      " 0   LEDGER_NAME                 128038 non-null  object        \n",
      " 1   VENDOR_NO                   128038 non-null  object        \n",
      " 2   VENDOR_NAME                 128038 non-null  object        \n",
      " 3   INVOICE_NUM                 128038 non-null  object        \n",
      " 4   VOUCHER_NUM                 128036 non-null  object        \n",
      " 5   INVOICE_APPROVAL_STATUS     128038 non-null  object        \n",
      " 6   INVOICE_TYPE                128038 non-null  object        \n",
      " 7   INVOICE_DESCRIPTION         86668 non-null   object        \n",
      " 8   CREATION_DATE               128038 non-null  datetime64[ns]\n",
      " 9   LINE_NUMBER                 128038 non-null  float64       \n",
      " 10  INVOICE_DISTRIBUTION_ID     128038 non-null  float64       \n",
      " 11  EXCHANGE_RATE               21549 non-null   float64       \n",
      " 12  INVOICE_DATE                128038 non-null  datetime64[ns]\n",
      " 13  GL_DATE                     128038 non-null  datetime64[ns]\n",
      " 14  INVOICE_CURRENCY_CODE       128038 non-null  object        \n",
      " 15  ENTITY_CODE                 128038 non-null  object        \n",
      " 16  ENTITY_DESCRIPTION          128038 non-null  object        \n",
      " 17  COST_CENTER_CODE            128038 non-null  object        \n",
      " 18  BUDGET_CODE                 128038 non-null  object        \n",
      " 19  ACCOUNT_CODE                128038 non-null  object        \n",
      " 20  ACTIVITY_CODE               128038 non-null  object        \n",
      " 21  FUTURE1_CODE                128038 non-null  object        \n",
      " 22  FUTURE2_CODE                128038 non-null  object        \n",
      " 23  PO_NUMBER                   50066 non-null   object        \n",
      " 24  INVOICE_DIST_AMOUNT         128038 non-null  float64       \n",
      " 25  INVOICE_DIST_BASE_AMOUNT    95369 non-null   float64       \n",
      " 26  TERMS_DATE                  128038 non-null  datetime64[ns]\n",
      " 27  PAY_GROUP_LOOKUP_CODE       128038 non-null  object        \n",
      " 28  PAYMENT_METHOD_CODE         128038 non-null  object        \n",
      " 29  PAYMENT_TERM                128038 non-null  object        \n",
      " 30  TAX_AMOUNT                  0 non-null       object        \n",
      " 31  RECEIPT_NUMBER              54924 non-null   object        \n",
      " 32  INVOICE_SUBMISSION_DATE     112217 non-null  datetime64[ns]\n",
      " 33  INVOICE_APPROVED_DATE       111060 non-null  datetime64[ns]\n",
      " 34  PAYMENT_DATE                114688 non-null  object        \n",
      " 35  RECEIPT_DATE                54924 non-null   datetime64[ns]\n",
      " 36  INVOICE_RECEIVED_DATE       128038 non-null  object        \n",
      " 37  WFAPPROVAL_STATUS           128038 non-null  object        \n",
      " 38  ACCOUNTED                   128038 non-null  object        \n",
      " 39  LINE_TYPE                   128038 non-null  object        \n",
      " 40  TAX_RATE_NAME               79114 non-null   object        \n",
      " 41  TAX_RATE                    79114 non-null   float64       \n",
      " 42  RECOVERABLE_TAX_AMOUNT      79114 non-null   float64       \n",
      " 43  NON_RECOVERABLE_TAX_AMOUNT  79114 non-null   float64       \n",
      " 44  PAYMENT_STATUS_FLAG         128038 non-null  object        \n",
      " 45  ENCUMBERED_FLAG             128038 non-null  object        \n",
      " 46  DUE_DATE                    128038 non-null  datetime64[ns]\n",
      "dtypes: datetime64[ns](8), float64(8), object(31)\n",
      "memory usage: 46.9+ MB\n"
     ]
    }
   ],
   "source": [
    "ap.info()"
   ]
  },
  {
   "cell_type": "code",
   "execution_count": 7,
   "id": "471490aa",
   "metadata": {},
   "outputs": [],
   "source": [
    "data = pd.read_excel('Copy of Book23.xlsx')"
   ]
  },
  {
   "cell_type": "code",
   "execution_count": 8,
   "id": "65e53488",
   "metadata": {},
   "outputs": [
    {
     "data": {
      "text/html": [
       "<div>\n",
       "<style scoped>\n",
       "    .dataframe tbody tr th:only-of-type {\n",
       "        vertical-align: middle;\n",
       "    }\n",
       "\n",
       "    .dataframe tbody tr th {\n",
       "        vertical-align: top;\n",
       "    }\n",
       "\n",
       "    .dataframe thead th {\n",
       "        text-align: right;\n",
       "    }\n",
       "</style>\n",
       "<table border=\"1\" class=\"dataframe\">\n",
       "  <thead>\n",
       "    <tr style=\"text-align: right;\">\n",
       "      <th></th>\n",
       "      <th>PO Number</th>\n",
       "      <th>PO Description</th>\n",
       "      <th>Vendor</th>\n",
       "      <th>Ledger</th>\n",
       "      <th>Payment made against this PO</th>\n",
       "    </tr>\n",
       "  </thead>\n",
       "  <tbody>\n",
       "    <tr>\n",
       "      <th>0</th>\n",
       "      <td>8432201859</td>\n",
       "      <td>0</td>\n",
       "      <td>BIO-LOGIC SAS</td>\n",
       "      <td>KUX - External Khalifa University O.U</td>\n",
       "      <td>NaN</td>\n",
       "    </tr>\n",
       "    <tr>\n",
       "      <th>1</th>\n",
       "      <td>8432201885</td>\n",
       "      <td>Magnipurix Blood DNA Extraction kit</td>\n",
       "      <td>MILAB SCIENTIFIC &amp; LABORATORY EQUIPMENT TRADIN...</td>\n",
       "      <td>KUX - External Khalifa University O.U</td>\n",
       "      <td>NaN</td>\n",
       "    </tr>\n",
       "    <tr>\n",
       "      <th>2</th>\n",
       "      <td>8432201917</td>\n",
       "      <td>Etched Silicon probes _ PR no. 8432102394</td>\n",
       "      <td>NAIZAK FZ LLC</td>\n",
       "      <td>KUX - External Khalifa University O.U</td>\n",
       "      <td>NaN</td>\n",
       "    </tr>\n",
       "    <tr>\n",
       "      <th>3</th>\n",
       "      <td>8432201970</td>\n",
       "      <td>Sales Quotation QO-01-000002054-2 : V50 CIV SO...</td>\n",
       "      <td>CONCORDE TRADING CO. L.L.C.</td>\n",
       "      <td>KUX - External Khalifa University O.U</td>\n",
       "      <td>NaN</td>\n",
       "    </tr>\n",
       "    <tr>\n",
       "      <th>4</th>\n",
       "      <td>8432201973</td>\n",
       "      <td>REF NO ADA 26.08.21 / 019 : Supply of Watergen</td>\n",
       "      <td>AL DAHRA AGRICULTURE SOLE PROPRIETORSHIP LLC</td>\n",
       "      <td>KUX - External Khalifa University O.U</td>\n",
       "      <td>NaN</td>\n",
       "    </tr>\n",
       "    <tr>\n",
       "      <th>...</th>\n",
       "      <td>...</td>\n",
       "      <td>...</td>\n",
       "      <td>...</td>\n",
       "      <td>...</td>\n",
       "      <td>...</td>\n",
       "    </tr>\n",
       "    <tr>\n",
       "      <th>63</th>\n",
       "      <td>8474200150</td>\n",
       "      <td>Annual maintenance Offer for Haake Injection M...</td>\n",
       "      <td>BUSINESS COMMUNICATIONS CO. L.L.C. - ABU DHABI...</td>\n",
       "      <td>KUADRIC OU</td>\n",
       "      <td>NaN</td>\n",
       "    </tr>\n",
       "    <tr>\n",
       "      <th>64</th>\n",
       "      <td>8474200151</td>\n",
       "      <td>AMC for Carbolite tube Furness</td>\n",
       "      <td>BUSINESS COMMUNICATIONS CO. L.L.C. - ABU DHABI...</td>\n",
       "      <td>KUADRIC OU</td>\n",
       "      <td>NaN</td>\n",
       "    </tr>\n",
       "    <tr>\n",
       "      <th>65</th>\n",
       "      <td>8474200156</td>\n",
       "      <td>core holders and spare parts for the CT Core f...</td>\n",
       "      <td>RS - SYSTEMS AS</td>\n",
       "      <td>KUADRIC OU</td>\n",
       "      <td>NaN</td>\n",
       "    </tr>\n",
       "    <tr>\n",
       "      <th>66</th>\n",
       "      <td>8474200185</td>\n",
       "      <td>0</td>\n",
       "      <td>WAVES COMPUTER SUPPLIES</td>\n",
       "      <td>KUADRIC OU</td>\n",
       "      <td>NaN</td>\n",
       "    </tr>\n",
       "    <tr>\n",
       "      <th>67</th>\n",
       "      <td>8474200194</td>\n",
       "      <td>Disposal of ADRIC hazardous chemicals to facil...</td>\n",
       "      <td>OASIS ENVIRONMENTAL SOLUTIONS</td>\n",
       "      <td>KUADRIC OU</td>\n",
       "      <td>NaN</td>\n",
       "    </tr>\n",
       "  </tbody>\n",
       "</table>\n",
       "<p>68 rows × 5 columns</p>\n",
       "</div>"
      ],
      "text/plain": [
       "     PO Number                                     PO Description  \\\n",
       "0   8432201859                                                  0   \n",
       "1   8432201885                Magnipurix Blood DNA Extraction kit   \n",
       "2   8432201917          Etched Silicon probes _ PR no. 8432102394   \n",
       "3   8432201970  Sales Quotation QO-01-000002054-2 : V50 CIV SO...   \n",
       "4   8432201973     REF NO ADA 26.08.21 / 019 : Supply of Watergen   \n",
       "..         ...                                                ...   \n",
       "63  8474200150  Annual maintenance Offer for Haake Injection M...   \n",
       "64  8474200151                     AMC for Carbolite tube Furness   \n",
       "65  8474200156  core holders and spare parts for the CT Core f...   \n",
       "66  8474200185                                                  0   \n",
       "67  8474200194  Disposal of ADRIC hazardous chemicals to facil...   \n",
       "\n",
       "                                               Vendor  \\\n",
       "0                                       BIO-LOGIC SAS   \n",
       "1   MILAB SCIENTIFIC & LABORATORY EQUIPMENT TRADIN...   \n",
       "2                                       NAIZAK FZ LLC   \n",
       "3                         CONCORDE TRADING CO. L.L.C.   \n",
       "4        AL DAHRA AGRICULTURE SOLE PROPRIETORSHIP LLC   \n",
       "..                                                ...   \n",
       "63  BUSINESS COMMUNICATIONS CO. L.L.C. - ABU DHABI...   \n",
       "64  BUSINESS COMMUNICATIONS CO. L.L.C. - ABU DHABI...   \n",
       "65                                    RS - SYSTEMS AS   \n",
       "66                            WAVES COMPUTER SUPPLIES   \n",
       "67                      OASIS ENVIRONMENTAL SOLUTIONS   \n",
       "\n",
       "                                   Ledger  Payment made against this PO  \n",
       "0   KUX - External Khalifa University O.U                           NaN  \n",
       "1   KUX - External Khalifa University O.U                           NaN  \n",
       "2   KUX - External Khalifa University O.U                           NaN  \n",
       "3   KUX - External Khalifa University O.U                           NaN  \n",
       "4   KUX - External Khalifa University O.U                           NaN  \n",
       "..                                    ...                           ...  \n",
       "63                             KUADRIC OU                           NaN  \n",
       "64                             KUADRIC OU                           NaN  \n",
       "65                             KUADRIC OU                           NaN  \n",
       "66                             KUADRIC OU                           NaN  \n",
       "67                             KUADRIC OU                           NaN  \n",
       "\n",
       "[68 rows x 5 columns]"
      ]
     },
     "execution_count": 8,
     "metadata": {},
     "output_type": "execute_result"
    }
   ],
   "source": [
    "data"
   ]
  },
  {
   "cell_type": "code",
   "execution_count": null,
   "id": "59538af3",
   "metadata": {},
   "outputs": [],
   "source": []
  }
 ],
 "metadata": {
  "kernelspec": {
   "display_name": "Python 3",
   "language": "python",
   "name": "python3"
  },
  "language_info": {
   "codemirror_mode": {
    "name": "ipython",
    "version": 3
   },
   "file_extension": ".py",
   "mimetype": "text/x-python",
   "name": "python",
   "nbconvert_exporter": "python",
   "pygments_lexer": "ipython3",
   "version": "3.8.11"
  }
 },
 "nbformat": 4,
 "nbformat_minor": 5
}
