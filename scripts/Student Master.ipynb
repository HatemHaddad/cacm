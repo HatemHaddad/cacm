{
 "cells": [
  {
   "cell_type": "markdown",
   "id": "d8d09c9c",
   "metadata": {},
   "source": [
    "# Khalifa University - CACM"
   ]
  },
  {
   "cell_type": "markdown",
   "id": "056a58bb",
   "metadata": {},
   "source": [
    "- *Student Master Data* "
   ]
  },
  {
   "cell_type": "code",
   "execution_count": 1,
   "id": "417b4c7a",
   "metadata": {},
   "outputs": [],
   "source": [
    "import pandas as pd\n",
    "import numpy as np\n",
    "import pyodbc\n",
    "import seaborn as sns\n",
    "import matplotlib.pyplot as plt\n",
    "from sqlalchemy import create_engine"
   ]
  },
  {
   "cell_type": "code",
   "execution_count": 2,
   "id": "01fa5863",
   "metadata": {},
   "outputs": [],
   "source": [
    "svr_name = 'KU1ICDDWV011.kunet.ae'\n",
    "db_name_read = 'CACM'\n",
    "db_name_write = 'CACMP'\n",
    "u_name = 'cacm_user'\n",
    "u_pass = 'Welcome#123'"
   ]
  },
  {
   "cell_type": "code",
   "execution_count": 3,
   "id": "dd142eda",
   "metadata": {},
   "outputs": [],
   "source": [
    "eng_read = create_engine(\"mssql+pyodbc://\"+u_name+\":\"+u_pass+\"@\"+svr_name+\"/\"+db_name_read+\"?driver=ODBC+Driver+17+for+SQL+Server\")\n",
    "eng_write = create_engine(\"mssql+pyodbc://\"+u_name+\":\"+u_pass+\"@\"+svr_name+\"/\"+db_name_write+\"?driver=ODBC+Driver+17+for+SQL+Server\")"
   ]
  },
  {
   "cell_type": "code",
   "execution_count": 4,
   "id": "5a24b43f",
   "metadata": {},
   "outputs": [],
   "source": [
    "query_std_master = \"SELECT * FROM dbo.KU_SRC_STD_MASTER\"\n",
    "df_student_master = pd.read_sql(query_std_master, eng_read)"
   ]
  },
  {
   "cell_type": "code",
   "execution_count": 7,
   "id": "3a18ce83",
   "metadata": {},
   "outputs": [],
   "source": [
    "student = df_student_master.copy()"
   ]
  },
  {
   "cell_type": "code",
   "execution_count": 22,
   "id": "89504789",
   "metadata": {},
   "outputs": [],
   "source": [
    "std = student.loc[:,[\"ID\",\"FULL_NAME\",\"ADMIT_TERM\",\"START_DATE\",\"STUDENT_LEVEL\",\"STUDENT_STATUS\"]]"
   ]
  },
  {
   "cell_type": "code",
   "execution_count": 27,
   "id": "1055304d",
   "metadata": {},
   "outputs": [
    {
     "data": {
      "text/html": [
       "<div>\n",
       "<style scoped>\n",
       "    .dataframe tbody tr th:only-of-type {\n",
       "        vertical-align: middle;\n",
       "    }\n",
       "\n",
       "    .dataframe tbody tr th {\n",
       "        vertical-align: top;\n",
       "    }\n",
       "\n",
       "    .dataframe thead th {\n",
       "        text-align: right;\n",
       "    }\n",
       "</style>\n",
       "<table border=\"1\" class=\"dataframe\">\n",
       "  <thead>\n",
       "    <tr style=\"text-align: right;\">\n",
       "      <th></th>\n",
       "      <th>ID</th>\n",
       "      <th>FULL_NAME</th>\n",
       "      <th>ADMIT_TERM</th>\n",
       "      <th>START_DATE</th>\n",
       "      <th>STUDENT_LEVEL</th>\n",
       "      <th>STUDENT_STATUS</th>\n",
       "    </tr>\n",
       "  </thead>\n",
       "  <tbody>\n",
       "    <tr>\n",
       "      <th>135</th>\n",
       "      <td>100035244</td>\n",
       "      <td>Abdulrahman Mohamad Agha</td>\n",
       "      <td>201910</td>\n",
       "      <td>2019-08-25</td>\n",
       "      <td>PH</td>\n",
       "      <td>Active</td>\n",
       "    </tr>\n",
       "    <tr>\n",
       "      <th>141</th>\n",
       "      <td>100036658</td>\n",
       "      <td>Sarah Kassem Azzam</td>\n",
       "      <td>201720</td>\n",
       "      <td>2018-01-14</td>\n",
       "      <td>PH</td>\n",
       "      <td>Active</td>\n",
       "    </tr>\n",
       "    <tr>\n",
       "      <th>163</th>\n",
       "      <td>100038235</td>\n",
       "      <td>Mira Omar Mohamed Hassan Abdulla</td>\n",
       "      <td>202210</td>\n",
       "      <td>2022-08-29</td>\n",
       "      <td>GR</td>\n",
       "      <td>Active</td>\n",
       "    </tr>\n",
       "    <tr>\n",
       "      <th>175</th>\n",
       "      <td>100020345</td>\n",
       "      <td>Maryam Mohamed Abdulla Mohamed Al Ali</td>\n",
       "      <td>202010</td>\n",
       "      <td>2020-08-23</td>\n",
       "      <td>UG</td>\n",
       "      <td>Active</td>\n",
       "    </tr>\n",
       "    <tr>\n",
       "      <th>209</th>\n",
       "      <td>100040178</td>\n",
       "      <td>Amna Ali Samrah Ali Alshehhi</td>\n",
       "      <td>201910</td>\n",
       "      <td>2019-08-25</td>\n",
       "      <td>GR</td>\n",
       "      <td>Active</td>\n",
       "    </tr>\n",
       "    <tr>\n",
       "      <th>...</th>\n",
       "      <td>...</td>\n",
       "      <td>...</td>\n",
       "      <td>...</td>\n",
       "      <td>...</td>\n",
       "      <td>...</td>\n",
       "      <td>...</td>\n",
       "    </tr>\n",
       "    <tr>\n",
       "      <th>17595</th>\n",
       "      <td>100063487</td>\n",
       "      <td>Muath Abdullah Mohammad Tuffaha</td>\n",
       "      <td>202210</td>\n",
       "      <td>2022-08-29</td>\n",
       "      <td>UG</td>\n",
       "      <td>Active</td>\n",
       "    </tr>\n",
       "    <tr>\n",
       "      <th>17596</th>\n",
       "      <td>100063494</td>\n",
       "      <td>Mohamed Azhar Hussain Hassan Mohamed</td>\n",
       "      <td>202210</td>\n",
       "      <td>2022-08-29</td>\n",
       "      <td>PP</td>\n",
       "      <td>Active</td>\n",
       "    </tr>\n",
       "    <tr>\n",
       "      <th>17597</th>\n",
       "      <td>100063495</td>\n",
       "      <td>Omar Osama Fathi Galal</td>\n",
       "      <td>202210</td>\n",
       "      <td>2022-08-29</td>\n",
       "      <td>UG</td>\n",
       "      <td>Active</td>\n",
       "    </tr>\n",
       "    <tr>\n",
       "      <th>17598</th>\n",
       "      <td>100063499</td>\n",
       "      <td>Mohamed  Noor Tamim  Karabala</td>\n",
       "      <td>202210</td>\n",
       "      <td>2022-08-29</td>\n",
       "      <td>UG</td>\n",
       "      <td>Active</td>\n",
       "    </tr>\n",
       "    <tr>\n",
       "      <th>17599</th>\n",
       "      <td>100063505</td>\n",
       "      <td>Mazen Akram Shaker Yaseen Salem</td>\n",
       "      <td>202210</td>\n",
       "      <td>2022-08-29</td>\n",
       "      <td>UG</td>\n",
       "      <td>Active</td>\n",
       "    </tr>\n",
       "  </tbody>\n",
       "</table>\n",
       "<p>4477 rows × 6 columns</p>\n",
       "</div>"
      ],
      "text/plain": [
       "              ID                              FULL_NAME ADMIT_TERM START_DATE  \\\n",
       "135    100035244               Abdulrahman Mohamad Agha     201910 2019-08-25   \n",
       "141    100036658                     Sarah Kassem Azzam     201720 2018-01-14   \n",
       "163    100038235       Mira Omar Mohamed Hassan Abdulla     202210 2022-08-29   \n",
       "175    100020345  Maryam Mohamed Abdulla Mohamed Al Ali     202010 2020-08-23   \n",
       "209    100040178           Amna Ali Samrah Ali Alshehhi     201910 2019-08-25   \n",
       "...          ...                                    ...        ...        ...   \n",
       "17595  100063487        Muath Abdullah Mohammad Tuffaha     202210 2022-08-29   \n",
       "17596  100063494   Mohamed Azhar Hussain Hassan Mohamed     202210 2022-08-29   \n",
       "17597  100063495                 Omar Osama Fathi Galal     202210 2022-08-29   \n",
       "17598  100063499          Mohamed  Noor Tamim  Karabala     202210 2022-08-29   \n",
       "17599  100063505        Mazen Akram Shaker Yaseen Salem     202210 2022-08-29   \n",
       "\n",
       "      STUDENT_LEVEL STUDENT_STATUS  \n",
       "135              PH         Active  \n",
       "141              PH         Active  \n",
       "163              GR         Active  \n",
       "175              UG         Active  \n",
       "209              GR         Active  \n",
       "...             ...            ...  \n",
       "17595            UG         Active  \n",
       "17596            PP         Active  \n",
       "17597            UG         Active  \n",
       "17598            UG         Active  \n",
       "17599            UG         Active  \n",
       "\n",
       "[4477 rows x 6 columns]"
      ]
     },
     "execution_count": 27,
     "metadata": {},
     "output_type": "execute_result"
    }
   ],
   "source": [
    "std[std[\"STUDENT_STATUS\"]==\"Active\"]"
   ]
  },
  {
   "cell_type": "code",
   "execution_count": null,
   "id": "e117e5e7",
   "metadata": {},
   "outputs": [],
   "source": []
  }
 ],
 "metadata": {
  "kernelspec": {
   "display_name": "Python 3 (ipykernel)",
   "language": "python",
   "name": "python3"
  },
  "language_info": {
   "codemirror_mode": {
    "name": "ipython",
    "version": 3
   },
   "file_extension": ".py",
   "mimetype": "text/x-python",
   "name": "python",
   "nbconvert_exporter": "python",
   "pygments_lexer": "ipython3",
   "version": "3.8.11"
  }
 },
 "nbformat": 4,
 "nbformat_minor": 5
}
