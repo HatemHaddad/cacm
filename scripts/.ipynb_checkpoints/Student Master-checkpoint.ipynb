{
 "cells": [
  {
   "cell_type": "markdown",
   "id": "3488a7ab",
   "metadata": {},
   "source": [
    "# Khalifa University - CACM"
   ]
  },
  {
   "cell_type": "markdown",
   "id": "8e814f89",
   "metadata": {},
   "source": [
    "- *Student Master Data* "
   ]
  },
  {
   "cell_type": "code",
   "execution_count": 1,
   "id": "94e4e27f",
   "metadata": {},
   "outputs": [],
   "source": [
    "import pandas as pd\n",
    "import numpy as np\n",
    "import pyodbc\n",
    "import seaborn as sns\n",
    "import matplotlib.pyplot as plt\n",
    "from sqlalchemy import create_engine"
   ]
  },
  {
   "cell_type": "code",
   "execution_count": 2,
   "id": "0ac8c7f8",
   "metadata": {},
   "outputs": [],
   "source": [
    "svr_name = 'KU1ICDDWV011.kunet.ae'\n",
    "db_name_read = 'CACM'\n",
    "db_name_write = 'CACMP'\n",
    "u_name = 'cacm_user'\n",
    "u_pass = 'Welcome#123'"
   ]
  },
  {
   "cell_type": "code",
   "execution_count": 3,
   "id": "bb9abecb",
   "metadata": {},
   "outputs": [],
   "source": [
    "eng_read = create_engine(\"mssql+pyodbc://\"+u_name+\":\"+u_pass+\"@\"+svr_name+\"/\"+db_name_read+\"?driver=ODBC+Driver+17+for+SQL+Server\")\n",
    "eng_write = create_engine(\"mssql+pyodbc://\"+u_name+\":\"+u_pass+\"@\"+svr_name+\"/\"+db_name_write+\"?driver=ODBC+Driver+17+for+SQL+Server\")"
   ]
  },
  {
   "cell_type": "code",
   "execution_count": 4,
   "id": "c033973e",
   "metadata": {},
   "outputs": [],
   "source": [
    "query_std_master = \"SELECT * FROM dbo.KU_SRC_STD_MASTER\"\n",
    "df_student_master = pd.read_sql(query_std_master, eng_read)"
   ]
  },
  {
   "cell_type": "code",
   "execution_count": 7,
   "id": "92fdd29f",
   "metadata": {},
   "outputs": [],
   "source": [
    "student = df_student_master.copy()"
   ]
  },
  {
   "cell_type": "code",
   "execution_count": 22,
   "id": "5a240119",
   "metadata": {},
   "outputs": [],
   "source": [
    "std = student.loc[:,[\"ID\",\"FULL_NAME\",\"ADMIT_TERM\",\"START_DATE\",\"STUDENT_LEVEL\",\"STUDENT_STATUS\"]]"
   ]
  },
  {
   "cell_type": "code",
   "execution_count": 26,
   "id": "e0bc93e7",
   "metadata": {},
   "outputs": [],
   "source": [
    "std[std[\"STUDENT_STATUS\"]==\"Active\"].to_excel(\"active_students_1.xlsx\")"
   ]
  },
  {
   "cell_type": "code",
   "execution_count": null,
   "id": "1948444f",
   "metadata": {},
   "outputs": [],
   "source": []
  }
 ],
 "metadata": {
  "kernelspec": {
   "display_name": "Python 3 (ipykernel)",
   "language": "python",
   "name": "python3"
  },
  "language_info": {
   "codemirror_mode": {
    "name": "ipython",
    "version": 3
   },
   "file_extension": ".py",
   "mimetype": "text/x-python",
   "name": "python",
   "nbconvert_exporter": "python",
   "pygments_lexer": "ipython3",
   "version": "3.8.11"
  }
 },
 "nbformat": 4,
 "nbformat_minor": 5
}
